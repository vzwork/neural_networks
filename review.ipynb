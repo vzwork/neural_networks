{
 "cells": [
  {
   "cell_type": "markdown",
   "metadata": {},
   "source": [
    "<div style=\"border:solid green 2px; padding: 20px\">\n",
    "<b>Привет, Владислав!</b>\n",
    "\n",
    "Меня зовут Александр Пономаренко, и я буду проверять твой проект. Предлагаю общаться на «ты» :) Но если это не удобно - дай знать, и мы перейдем на \"вы\". \n",
    "\n",
    "Моя основная цель — не указать на совершенные тобою ошибки, а поделиться своим опытом и помочь тебе стать data science. Ты уже проделал большую работу над проектом, но давай сделаем его еще лучше. Ниже ты найдешь мои комментарии - **пожалуйста, не перемещай, не изменяй и не удаляй их**. Увидев у тебя ошибку, в первый раз я лишь укажу на ее наличие и дам тебе возможность самой найти и исправить ее. На реальной работе твой начальник будет поступать так же, а я пытаюсь подготовить тебя именно к работе аналитиком. Но если ты пока не справишься с такой задачей - при следующей проверке я дам более точную подсказку. Я буду использовать цветовую разметку:\n",
    "\n",
    "<div class=\"alert alert-danger\">\n",
    "<b>Комментарий ревьюера ❌:</b> Так выделены самые важные замечания. Без их отработки проект не будет принят. </div>\n",
    "\n",
    "<div class=\"alert alert-warning\">\n",
    "<b>Комментарий ревьюера ⚠️:</b> Так выделены небольшие замечания. Я надеюсь, что их ты тоже учтешь - твой проект от этого станет только лучше. Но настаивать на их отработке не буду.\n",
    "\n",
    "</div>\n",
    "\n",
    "<div class=\"alert alert-success\">\n",
    "<b>Комментарий ревьюера ✔️:</b> Так я выделяю все остальные комментарии.</div>\n",
    "\n",
    "Давай работать над проектом в диалоге: **если ты что-то меняешь в проекте или отвечаешь на мои комменатри — пиши об этом.** Мне будет легче отследить изменения, если ты выделишь свои комментарии:\n",
    "<div class=\"alert alert-info\"> <b>Комментарий студента:</b>\n",
    "    Например, вот так.</div>\n",
    "\n",
    "Всё это поможет выполнить повторную проверку твоего проекта оперативнее. "
   ]
  },
  {
   "cell_type": "markdown",
   "metadata": {},
   "source": [
    "# Содержание\n",
    "- Содержание\n",
    "- Постановка задачи\n",
    "- Выгрузка данных\n",
    "- Анализ данных\n",
    "- Подготовка данных\n",
    "- Построение нейронной сети\n",
    "- Улучшение сети\n",
    "- Выводы"
   ]
  },
  {
   "cell_type": "markdown",
   "metadata": {},
   "source": [
    "# Постановка задачи"
   ]
  },
  {
   "cell_type": "markdown",
   "metadata": {},
   "source": [
    "На основе данных характеристик 240 звезд нужно построить нейронную сеть, которая будет предсказывать температуру на поверхности новых звезд.\n",
    "<br/><br/>\n",
    "Количественные показатели:\n",
    "- Относительная светимость (L/Lo) - относительно Солнца\n",
    "- Относительный радиус (R/Ro) - относительно Солнца\n",
    "- Абсолютная звездная величина (Mv) - физическая величина\n",
    "<br/><br/>\n",
    "\n",
    "Качественные показатели:\n",
    "- Звездный цвет - ('white', 'red', 'blue', 'yellow', 'yellow-orange', etc)\n",
    "- Тип звезды - (0, 1, 2, 3, 4, 5)\n",
    "  - 0 - Коричневый карлик\n",
    "  - 1 - Красный карлик\n",
    "  - 2 - Белый карлик\n",
    "  - 3 - Звезды главной последовательности\n",
    "  - 4 - Сверхгигант\n",
    "  - 5 - Гипергигант\n",
    "<br/><br/>\n",
    "\n",
    "Количественный результат:\n",
    "- Абсолютная температура (T(K)) - температура на поверхности звезды в Кельвинах\n",
    "<br/><br/>\n",
    "\n",
    "Предварительный анализ:\n",
    "- Результат количественный - на выходе можно ожидать алгоритм регрессии\n",
    "- Функция потерь - MSE / MAE\n",
    "- С количеством скрытых слоев придется экспериментировать\n",
    "  - Много показателей (измерений), скорее всего 3-5 скрытых слоев будет лучше работать"
   ]
  },
  {
   "cell_type": "markdown",
   "metadata": {},
   "source": [
    "# Выгрузка данных"
   ]
  },
  {
   "cell_type": "code",
   "execution_count": 1,
   "metadata": {},
   "outputs": [],
   "source": [
    "import pandas as pd\n",
    "import numpy as np\n",
    "import matplotlib.pyplot as plt\n",
    "import seaborn as sns\n",
    "import torch\n",
    "import torch.nn as nn\n",
    "import os\n",
    "import random\n",
    "import time\n",
    "import math\n",
    "\n",
    "from sklearn.model_selection import train_test_split\n",
    "from sklearn.preprocessing import StandardScaler\n",
    "from sklearn.preprocessing import OneHotEncoder"
   ]
  },
  {
   "cell_type": "code",
   "execution_count": 2,
   "metadata": {},
   "outputs": [],
   "source": [
    "random.seed(0)\n",
    "np.random.seed(0)\n",
    "torch.manual_seed(0)\n",
    "torch.use_deterministic_algorithms(True)"
   ]
  },
  {
   "cell_type": "code",
   "execution_count": 3,
   "metadata": {},
   "outputs": [],
   "source": [
    "LOCAL_PATH = './datasets/6_class.csv'\n",
    "WEB_PATH = '/datasets/6_class.csv'\n",
    "\n",
    "RANDOM_STATE = 2023"
   ]
  },
  {
   "cell_type": "code",
   "execution_count": 4,
   "metadata": {},
   "outputs": [],
   "source": [
    "if os.path.exists(LOCAL_PATH):\n",
    "    df = pd.read_csv(LOCAL_PATH, index_col=0)\n",
    "elif os.path.exists(WEB_PATH):\n",
    "    df = pd.read_csv(WEB_PATH, index_col=0)"
   ]
  },
  {
   "cell_type": "markdown",
   "metadata": {},
   "source": [
    "<div class=\"alert alert-success\">\n",
    "<b>Комментарий ревьюера ✔️:</b> Да, хорошо, данные на месте:)  Можно как вариант еще написать условие когда не нашел ни один путь:\n",
    "\n",
    "```python\n",
    "    \n",
    "if os.path.exists(LOCAL_PATH):\n",
    "    df = pd.read_csv(LOCAL_PATH, index_col=0)\n",
    "elif os.path.exists(WEB_PATH):\n",
    "    df = pd.read_csv(WEB_PATH, index_col=0)   \n",
    "else:\n",
    "    print('something')\n",
    "```\n",
    "\n",
    "</div>"
   ]
  },
  {
   "cell_type": "markdown",
   "metadata": {},
   "source": [
    "# Анализ данных"
   ]
  },
  {
   "cell_type": "code",
   "execution_count": 5,
   "metadata": {},
   "outputs": [
    {
     "name": "stdout",
     "output_type": "stream",
     "text": [
      "<class 'pandas.core.frame.DataFrame'>\n",
      "Index: 240 entries, 0 to 239\n",
      "Data columns (total 6 columns):\n",
      " #   Column                  Non-Null Count  Dtype  \n",
      "---  ------                  --------------  -----  \n",
      " 0   Temperature (K)         240 non-null    int64  \n",
      " 1   Luminosity(L/Lo)        240 non-null    float64\n",
      " 2   Radius(R/Ro)            240 non-null    float64\n",
      " 3   Absolute magnitude(Mv)  240 non-null    float64\n",
      " 4   Star type               240 non-null    int64  \n",
      " 5   Star color              240 non-null    object \n",
      "dtypes: float64(3), int64(2), object(1)\n",
      "memory usage: 13.1+ KB\n"
     ]
    }
   ],
   "source": [
    "df.info()"
   ]
  },
  {
   "cell_type": "markdown",
   "metadata": {},
   "source": [
    "в данных нет пропусков"
   ]
  },
  {
   "cell_type": "markdown",
   "metadata": {},
   "source": [
    "### Пореименнуем колонки, чтобы было легче их использовать"
   ]
  },
  {
   "cell_type": "code",
   "execution_count": 6,
   "metadata": {},
   "outputs": [],
   "source": [
    "df = df.rename(columns={\n",
    "    'Temperature (K)': 'temp',\n",
    "    'Luminosity(L/Lo)': 'lumin',\n",
    "    'Radius(R/Ro)': 'radius',\n",
    "    'Absolute magnitude(Mv)': 'magnitude',\n",
    "    'Star type': 'type',\n",
    "    'Star color': 'color'\n",
    "})"
   ]
  },
  {
   "cell_type": "code",
   "execution_count": 7,
   "metadata": {},
   "outputs": [
    {
     "data": {
      "text/plain": [
       "Index(['temp', 'lumin', 'radius', 'magnitude', 'type', 'color'], dtype='object')"
      ]
     },
     "execution_count": 7,
     "metadata": {},
     "output_type": "execute_result"
    }
   ],
   "source": [
    "df.columns"
   ]
  },
  {
   "cell_type": "markdown",
   "metadata": {},
   "source": [
    "### Проверим категориальные данные"
   ]
  },
  {
   "cell_type": "code",
   "execution_count": 8,
   "metadata": {},
   "outputs": [
    {
     "data": {
      "text/plain": [
       "type\n",
       "0    40\n",
       "1    40\n",
       "2    40\n",
       "3    40\n",
       "4    40\n",
       "5    40\n",
       "Name: count, dtype: int64"
      ]
     },
     "execution_count": 8,
     "metadata": {},
     "output_type": "execute_result"
    }
   ],
   "source": [
    "pd.value_counts(df.type)"
   ]
  },
  {
   "cell_type": "markdown",
   "metadata": {},
   "source": [
    "данные распределенны нормально"
   ]
  },
  {
   "cell_type": "code",
   "execution_count": 9,
   "metadata": {},
   "outputs": [
    {
     "data": {
      "text/plain": [
       "color\n",
       "Red                   112\n",
       "Blue                   55\n",
       "Blue-white             26\n",
       "Blue White             10\n",
       "yellow-white            8\n",
       "White                   7\n",
       "Blue white              3\n",
       "Yellowish White         3\n",
       "white                   3\n",
       "Whitish                 2\n",
       "Orange                  2\n",
       "yellowish               2\n",
       "Pale yellow orange      1\n",
       "White-Yellow            1\n",
       "Blue                    1\n",
       "Yellowish               1\n",
       "Orange-Red              1\n",
       "Blue white              1\n",
       "Blue-White              1\n",
       "Name: count, dtype: int64"
      ]
     },
     "execution_count": 9,
     "metadata": {},
     "output_type": "execute_result"
    }
   ],
   "source": [
    "pd.value_counts(df.color)"
   ]
  },
  {
   "cell_type": "markdown",
   "metadata": {},
   "source": [
    "нужно будет устранить неявные ошибки"
   ]
  },
  {
   "cell_type": "markdown",
   "metadata": {},
   "source": [
    "### Проверка количественных данных"
   ]
  },
  {
   "cell_type": "code",
   "execution_count": 10,
   "metadata": {},
   "outputs": [
    {
     "data": {
      "text/plain": [
       "<Axes: >"
      ]
     },
     "execution_count": 10,
     "metadata": {},
     "output_type": "execute_result"
    },
    {
     "data": {
      "image/png": "[encoded data removed]",
      "text/plain": [
       "<Figure size 640x480 with 1 Axes>"
      ]
     },
     "metadata": {},
     "output_type": "display_data"
    }
   ],
   "source": [
    "df.temp.hist()"
   ]
  },
  {
   "cell_type": "markdown",
   "metadata": {},
   "source": [
    "Данные выглядят хорошо, нет выбросов (target feature)"
   ]
  },
  {
   "cell_type": "code",
   "execution_count": 11,
   "metadata": {},
   "outputs": [
    {
     "data": {
      "text/plain": [
       "<Axes: >"
      ]
     },
     "execution_count": 11,
     "metadata": {},
     "output_type": "execute_result"
    },
    {
     "data": {
      "image/png": "[encoded data removed]",
      "text/plain": [
       "<Figure size 640x480 with 1 Axes>"
      ]
     },
     "metadata": {},
     "output_type": "display_data"
    }
   ],
   "source": [
    "df.lumin.hist()"
   ]
  },
  {
   "cell_type": "markdown",
   "metadata": {},
   "source": [
    "Данные выглядят хорошо, нет выбросов"
   ]
  },
  {
   "cell_type": "code",
   "execution_count": 12,
   "metadata": {},
   "outputs": [
    {
     "data": {
      "text/plain": [
       "<Axes: >"
      ]
     },
     "execution_count": 12,
     "metadata": {},
     "output_type": "execute_result"
    },
    {
     "data": {
      "image/png": "[encoded data removed]",
      "text/plain": [
       "<Figure size 640x480 with 1 Axes>"
      ]
     },
     "metadata": {},
     "output_type": "display_data"
    }
   ],
   "source": [
    "df.radius.hist()"
   ]
  },
  {
   "cell_type": "markdown",
   "metadata": {},
   "source": [
    "Есть разрыв между данными, но это не похоже на выброс"
   ]
  },
  {
   "cell_type": "code",
   "execution_count": 13,
   "metadata": {},
   "outputs": [
    {
     "data": {
      "text/plain": [
       "<Axes: >"
      ]
     },
     "execution_count": 13,
     "metadata": {},
     "output_type": "execute_result"
    },
    {
     "data": {
      "image/png": "[encoded data removed]",
      "text/plain": [
       "<Figure size 640x480 with 1 Axes>"
      ]
     },
     "metadata": {},
     "output_type": "display_data"
    }
   ],
   "source": [
    "df.magnitude.hist()"
   ]
  },
  {
   "cell_type": "markdown",
   "metadata": {},
   "source": [
    "Данные разбросанные, но это не похоже на выброс"
   ]
  },
  {
   "cell_type": "markdown",
   "metadata": {},
   "source": [
    "# Подготовка данных"
   ]
  },
  {
   "cell_type": "code",
   "execution_count": 14,
   "metadata": {},
   "outputs": [
    {
     "data": {
      "text/plain": [
       "color\n",
       "Red                   112\n",
       "Blue                   55\n",
       "Blue-white             26\n",
       "Blue White             10\n",
       "yellow-white            8\n",
       "White                   7\n",
       "Blue white              3\n",
       "Yellowish White         3\n",
       "white                   3\n",
       "Whitish                 2\n",
       "Orange                  2\n",
       "yellowish               2\n",
       "Pale yellow orange      1\n",
       "White-Yellow            1\n",
       "Blue                    1\n",
       "Yellowish               1\n",
       "Orange-Red              1\n",
       "Blue white              1\n",
       "Blue-White              1\n",
       "Name: count, dtype: int64"
      ]
     },
     "execution_count": 14,
     "metadata": {},
     "output_type": "execute_result"
    }
   ],
   "source": [
    "pd.value_counts(df.color)"
   ]
  },
  {
   "cell_type": "code",
   "execution_count": 15,
   "metadata": {},
   "outputs": [],
   "source": [
    "df.color = df.color.replace({\n",
    "    'Blue-white': 'Blue White',\n",
    "    'Blue white': 'Blue White',\n",
    "    'Blue white ': 'Blue White',\n",
    "    'Blue-White': 'Blue White',\n",
    "    'yellow-white': 'Yellow',\n",
    "    'Yellowish White': 'Yellow',\n",
    "    'White-Yellow': 'Yellow',\n",
    "    'yellowish': 'Yellow',\n",
    "    'Yellowish': 'Yellow',\n",
    "    'Yellow White': 'Yellow',\n",
    "    'white': 'White',\n",
    "    'whitish': 'White',\n",
    "    'Whitish': 'White',\n",
    "    'Pale yellow orange': 'Orange',\n",
    "    'Blue ': 'Blue',\n",
    "    'Orange-Red': 'Orange'\n",
    "})"
   ]
  },
  {
   "cell_type": "code",
   "execution_count": 16,
   "metadata": {},
   "outputs": [
    {
     "data": {
      "text/plain": [
       "color\n",
       "Red           112\n",
       "Blue           56\n",
       "Blue White     41\n",
       "Yellow         15\n",
       "White          12\n",
       "Orange          4\n",
       "Name: count, dtype: int64"
      ]
     },
     "execution_count": 16,
     "metadata": {},
     "output_type": "execute_result"
    }
   ],
   "source": [
    "pd.value_counts(df.color)"
   ]
  },
  {
   "cell_type": "markdown",
   "metadata": {},
   "source": [
    "<div class=\"alert alert-success\">\n",
    "<b>Комментарий ревьюера ✔️:</b> Да, хорошо:)\n",
    "</div>"
   ]
  },
  {
   "cell_type": "code",
   "execution_count": 17,
   "metadata": {},
   "outputs": [],
   "source": [
    "X_train, X_test, y_train, y_test = train_test_split(df.drop('temp', axis=1), df.temp, test_size=0.1, random_state=RANDOM_STATE)"
   ]
  },
  {
   "cell_type": "markdown",
   "metadata": {},
   "source": [
    "<div class=\"alert alert-success\">\n",
    "<b>Комментарий ревьюера ✔️:</b> В тест лучше больше данных отдать, например, 20%\n",
    "</div>"
   ]
  },
  {
   "cell_type": "code",
   "execution_count": 18,
   "metadata": {},
   "outputs": [],
   "source": [
    "X_train_num = X_train.drop(['color', 'type'], axis=1)\n",
    "X_test_num = X_test.drop(['color', 'type'], axis=1)"
   ]
  },
  {
   "cell_type": "code",
   "execution_count": 19,
   "metadata": {},
   "outputs": [],
   "source": [
    "columns_num = X_train_num.columns"
   ]
  },
  {
   "cell_type": "code",
   "execution_count": 20,
   "metadata": {},
   "outputs": [],
   "source": [
    "scaler = StandardScaler()"
   ]
  },
  {
   "cell_type": "code",
   "execution_count": 21,
   "metadata": {},
   "outputs": [
    {
     "data": {
      "text/html": [
       "<style>#sk-container-id-1 {color: black;background-color: white;}#sk-container-id-1 pre{padding: 0;}#sk-container-id-1 div.sk-toggleable {background-color: white;}#sk-container-id-1 label.sk-toggleable__label {cursor: pointer;display: block;width: 100%;margin-bottom: 0;padding: 0.3em;box-sizing: border-box;text-align: center;}#sk-container-id-1 label.sk-toggleable__label-arrow:before {content: \"▸\";float: left;margin-right: 0.25em;color: #696969;}#sk-container-id-1 label.sk-toggleable__label-arrow:hover:before {color: black;}#sk-container-id-1 div.sk-estimator:hover label.sk-toggleable__label-arrow:before {color: black;}#sk-container-id-1 div.sk-toggleable__content {max-height: 0;max-width: 0;overflow: hidden;text-align: left;background-color: #f0f8ff;}#sk-container-id-1 div.sk-toggleable__content pre {margin: 0.2em;color: black;border-radius: 0.25em;background-color: #f0f8ff;}#sk-container-id-1 input.sk-toggleable__control:checked~div.sk-toggleable__content {max-height: 200px;max-width: 100%;overflow: auto;}#sk-container-id-1 input.sk-toggleable__control:checked~label.sk-toggleable__label-arrow:before {content: \"▾\";}#sk-container-id-1 div.sk-estimator input.sk-toggleable__control:checked~label.sk-toggleable__label {background-color: #d4ebff;}#sk-container-id-1 div.sk-label input.sk-toggleable__control:checked~label.sk-toggleable__label {background-color: #d4ebff;}#sk-container-id-1 input.sk-hidden--visually {border: 0;clip: rect(1px 1px 1px 1px);clip: rect(1px, 1px, 1px, 1px);height: 1px;margin: -1px;overflow: hidden;padding: 0;position: absolute;width: 1px;}#sk-container-id-1 div.sk-estimator {font-family: monospace;background-color: #f0f8ff;border: 1px dotted black;border-radius: 0.25em;box-sizing: border-box;margin-bottom: 0.5em;}#sk-container-id-1 div.sk-estimator:hover {background-color: #d4ebff;}#sk-container-id-1 div.sk-parallel-item::after {content: \"\";width: 100%;border-bottom: 1px solid gray;flex-grow: 1;}#sk-container-id-1 div.sk-label:hover label.sk-toggleable__label {background-color: #d4ebff;}#sk-container-id-1 div.sk-serial::before {content: \"\";position: absolute;border-left: 1px solid gray;box-sizing: border-box;top: 0;bottom: 0;left: 50%;z-index: 0;}#sk-container-id-1 div.sk-serial {display: flex;flex-direction: column;align-items: center;background-color: white;padding-right: 0.2em;padding-left: 0.2em;position: relative;}#sk-container-id-1 div.sk-item {position: relative;z-index: 1;}#sk-container-id-1 div.sk-parallel {display: flex;align-items: stretch;justify-content: center;background-color: white;position: relative;}#sk-container-id-1 div.sk-item::before, #sk-container-id-1 div.sk-parallel-item::before {content: \"\";position: absolute;border-left: 1px solid gray;box-sizing: border-box;top: 0;bottom: 0;left: 50%;z-index: -1;}#sk-container-id-1 div.sk-parallel-item {display: flex;flex-direction: column;z-index: 1;position: relative;background-color: white;}#sk-container-id-1 div.sk-parallel-item:first-child::after {align-self: flex-end;width: 50%;}#sk-container-id-1 div.sk-parallel-item:last-child::after {align-self: flex-start;width: 50%;}#sk-container-id-1 div.sk-parallel-item:only-child::after {width: 0;}#sk-container-id-1 div.sk-dashed-wrapped {border: 1px dashed gray;margin: 0 0.4em 0.5em 0.4em;box-sizing: border-box;padding-bottom: 0.4em;background-color: white;}#sk-container-id-1 div.sk-label label {font-family: monospace;font-weight: bold;display: inline-block;line-height: 1.2em;}#sk-container-id-1 div.sk-label-container {text-align: center;}#sk-container-id-1 div.sk-container {/* jupyter's `normalize.less` sets `[hidden] { display: none; }` but bootstrap.min.css set `[hidden] { display: none !important; }` so we also need the `!important` here to be able to override the default hidden behavior on the sphinx rendered scikit-learn.org. See: https://github.com/scikit-learn/scikit-learn/issues/21755 */display: inline-block !important;position: relative;}#sk-container-id-1 div.sk-text-repr-fallback {display: none;}</style><div id=\"sk-container-id-1\" class=\"sk-top-container\"><div class=\"sk-text-repr-fallback\"><pre>StandardScaler()</pre><b>In a Jupyter environment, please rerun this cell to show the HTML representation or trust the notebook. <br />On GitHub, the HTML representation is unable to render, please try loading this page with nbviewer.org.</b></div><div class=\"sk-container\" hidden><div class=\"sk-item\"><div class=\"sk-estimator sk-toggleable\"><input class=\"sk-toggleable__control sk-hidden--visually\" id=\"sk-estimator-id-1\" type=\"checkbox\" checked><label for=\"sk-estimator-id-1\" class=\"sk-toggleable__label sk-toggleable__label-arrow\">StandardScaler</label><div class=\"sk-toggleable__content\"><pre>StandardScaler()</pre></div></div></div></div></div>"
      ],
      "text/plain": [
       "StandardScaler()"
      ]
     },
     "execution_count": 21,
     "metadata": {},
     "output_type": "execute_result"
    }
   ],
   "source": [
    "scaler.fit(X_train_num)"
   ]
  },
  {
   "cell_type": "code",
   "execution_count": 22,
   "metadata": {},
   "outputs": [],
   "source": [
    "X_train_num = scaler.transform(X_train_num)\n",
    "X_test_num = scaler.transform(X_test_num)"
   ]
  },
  {
   "cell_type": "code",
   "execution_count": 23,
   "metadata": {},
   "outputs": [],
   "source": [
    "X_train_num = pd.DataFrame(X_train_num, columns=columns_num)\n",
    "X_test_num = pd.DataFrame(X_test_num, columns=columns_num)"
   ]
  },
  {
   "cell_type": "code",
   "execution_count": 24,
   "metadata": {},
   "outputs": [],
   "source": [
    "X_train_cat = X_train[['color', 'type']]\n",
    "X_test_cat = X_test[['color', 'type']]"
   ]
  },
  {
   "cell_type": "code",
   "execution_count": 25,
   "metadata": {},
   "outputs": [],
   "source": [
    "ohe = OneHotEncoder(handle_unknown='ignore')"
   ]
  },
  {
   "cell_type": "code",
   "execution_count": 26,
   "metadata": {},
   "outputs": [
    {
     "data": {
      "text/html": [
       "<style>#sk-container-id-2 {color: black;background-color: white;}#sk-container-id-2 pre{padding: 0;}#sk-container-id-2 div.sk-toggleable {background-color: white;}#sk-container-id-2 label.sk-toggleable__label {cursor: pointer;display: block;width: 100%;margin-bottom: 0;padding: 0.3em;box-sizing: border-box;text-align: center;}#sk-container-id-2 label.sk-toggleable__label-arrow:before {content: \"▸\";float: left;margin-right: 0.25em;color: #696969;}#sk-container-id-2 label.sk-toggleable__label-arrow:hover:before {color: black;}#sk-container-id-2 div.sk-estimator:hover label.sk-toggleable__label-arrow:before {color: black;}#sk-container-id-2 div.sk-toggleable__content {max-height: 0;max-width: 0;overflow: hidden;text-align: left;background-color: #f0f8ff;}#sk-container-id-2 div.sk-toggleable__content pre {margin: 0.2em;color: black;border-radius: 0.25em;background-color: #f0f8ff;}#sk-container-id-2 input.sk-toggleable__control:checked~div.sk-toggleable__content {max-height: 200px;max-width: 100%;overflow: auto;}#sk-container-id-2 input.sk-toggleable__control:checked~label.sk-toggleable__label-arrow:before {content: \"▾\";}#sk-container-id-2 div.sk-estimator input.sk-toggleable__control:checked~label.sk-toggleable__label {background-color: #d4ebff;}#sk-container-id-2 div.sk-label input.sk-toggleable__control:checked~label.sk-toggleable__label {background-color: #d4ebff;}#sk-container-id-2 input.sk-hidden--visually {border: 0;clip: rect(1px 1px 1px 1px);clip: rect(1px, 1px, 1px, 1px);height: 1px;margin: -1px;overflow: hidden;padding: 0;position: absolute;width: 1px;}#sk-container-id-2 div.sk-estimator {font-family: monospace;background-color: #f0f8ff;border: 1px dotted black;border-radius: 0.25em;box-sizing: border-box;margin-bottom: 0.5em;}#sk-container-id-2 div.sk-estimator:hover {background-color: #d4ebff;}#sk-container-id-2 div.sk-parallel-item::after {content: \"\";width: 100%;border-bottom: 1px solid gray;flex-grow: 1;}#sk-container-id-2 div.sk-label:hover label.sk-toggleable__label {background-color: #d4ebff;}#sk-container-id-2 div.sk-serial::before {content: \"\";position: absolute;border-left: 1px solid gray;box-sizing: border-box;top: 0;bottom: 0;left: 50%;z-index: 0;}#sk-container-id-2 div.sk-serial {display: flex;flex-direction: column;align-items: center;background-color: white;padding-right: 0.2em;padding-left: 0.2em;position: relative;}#sk-container-id-2 div.sk-item {position: relative;z-index: 1;}#sk-container-id-2 div.sk-parallel {display: flex;align-items: stretch;justify-content: center;background-color: white;position: relative;}#sk-container-id-2 div.sk-item::before, #sk-container-id-2 div.sk-parallel-item::before {content: \"\";position: absolute;border-left: 1px solid gray;box-sizing: border-box;top: 0;bottom: 0;left: 50%;z-index: -1;}#sk-container-id-2 div.sk-parallel-item {display: flex;flex-direction: column;z-index: 1;position: relative;background-color: white;}#sk-container-id-2 div.sk-parallel-item:first-child::after {align-self: flex-end;width: 50%;}#sk-container-id-2 div.sk-parallel-item:last-child::after {align-self: flex-start;width: 50%;}#sk-container-id-2 div.sk-parallel-item:only-child::after {width: 0;}#sk-container-id-2 div.sk-dashed-wrapped {border: 1px dashed gray;margin: 0 0.4em 0.5em 0.4em;box-sizing: border-box;padding-bottom: 0.4em;background-color: white;}#sk-container-id-2 div.sk-label label {font-family: monospace;font-weight: bold;display: inline-block;line-height: 1.2em;}#sk-container-id-2 div.sk-label-container {text-align: center;}#sk-container-id-2 div.sk-container {/* jupyter's `normalize.less` sets `[hidden] { display: none; }` but bootstrap.min.css set `[hidden] { display: none !important; }` so we also need the `!important` here to be able to override the default hidden behavior on the sphinx rendered scikit-learn.org. See: https://github.com/scikit-learn/scikit-learn/issues/21755 */display: inline-block !important;position: relative;}#sk-container-id-2 div.sk-text-repr-fallback {display: none;}</style><div id=\"sk-container-id-2\" class=\"sk-top-container\"><div class=\"sk-text-repr-fallback\"><pre>OneHotEncoder(handle_unknown=&#x27;ignore&#x27;)</pre><b>In a Jupyter environment, please rerun this cell to show the HTML representation or trust the notebook. <br />On GitHub, the HTML representation is unable to render, please try loading this page with nbviewer.org.</b></div><div class=\"sk-container\" hidden><div class=\"sk-item\"><div class=\"sk-estimator sk-toggleable\"><input class=\"sk-toggleable__control sk-hidden--visually\" id=\"sk-estimator-id-2\" type=\"checkbox\" checked><label for=\"sk-estimator-id-2\" class=\"sk-toggleable__label sk-toggleable__label-arrow\">OneHotEncoder</label><div class=\"sk-toggleable__content\"><pre>OneHotEncoder(handle_unknown=&#x27;ignore&#x27;)</pre></div></div></div></div></div>"
      ],
      "text/plain": [
       "OneHotEncoder(handle_unknown='ignore')"
      ]
     },
     "execution_count": 26,
     "metadata": {},
     "output_type": "execute_result"
    }
   ],
   "source": [
    "ohe.fit(X_train_cat)"
   ]
  },
  {
   "cell_type": "code",
   "execution_count": 27,
   "metadata": {},
   "outputs": [],
   "source": [
    "X_train_cat = ohe.transform(X_train_cat).toarray()\n",
    "X_test_cat = ohe.transform(X_test_cat).toarray()"
   ]
  },
  {
   "cell_type": "markdown",
   "metadata": {},
   "source": [
    "<div class=\"alert alert-success\">\n",
    "<b>Комментарий ревьюера ✔️:</b> \n",
    "    \n",
    "название столбцов можно получить еще с помощью `get_feature_names/get_feature_names_out`\n",
    "</div>"
   ]
  },
  {
   "cell_type": "markdown",
   "metadata": {},
   "source": [
    "#КОД РЕВЬЮЕРА\n",
    "ohe.get_feature_names()"
   ]
  },
  {
   "cell_type": "code",
   "execution_count": 28,
   "metadata": {},
   "outputs": [],
   "source": [
    "columns_cat = ohe.categories_[0].tolist()\n",
    "columns_cat.extend(ohe.categories_[1].tolist())"
   ]
  },
  {
   "cell_type": "code",
   "execution_count": 29,
   "metadata": {},
   "outputs": [
    {
     "data": {
      "text/plain": [
       "['Blue', 'Blue White', 'Orange', 'Red', 'White', 'Yellow', 0, 1, 2, 3, 4, 5]"
      ]
     },
     "execution_count": 29,
     "metadata": {},
     "output_type": "execute_result"
    }
   ],
   "source": [
    "columns_cat"
   ]
  },
  {
   "cell_type": "code",
   "execution_count": 30,
   "metadata": {},
   "outputs": [],
   "source": [
    "X_train_cat = pd.DataFrame(data=X_train_cat, columns=columns_cat)\n",
    "X_test_cat = pd.DataFrame(data=X_test_cat, columns=columns_cat)"
   ]
  },
  {
   "cell_type": "code",
   "execution_count": 31,
   "metadata": {},
   "outputs": [],
   "source": [
    "X_train = X_train_num.join(X_train_cat)\n",
    "X_test = X_test_num.join(X_test_cat)"
   ]
  },
  {
   "cell_type": "markdown",
   "metadata": {},
   "source": [
    "<div class=\"alert alert-success\">\n",
    "<b>Комментарий ревьюера ✔️:</b> Данные подготовил корректно\n",
    "    \n",
    "    \n",
    "Чтобы упростить себе задачу, можно воспользоваться ColumnTransformer\n",
    "    \n",
    "    \n",
    "```python\n",
    "    from sklearn.compose import ColumnTransformer\n",
    "    numeric = <your code>\n",
    "    categorical = <your code>\n",
    "    col_transformer = ColumnTransformer(\n",
    "                            transformers=[\n",
    "                                ('scaler', StandardScaler(), numeric),\n",
    "                                ('ohe', OneHotEncoder(sparse=False, drop='first'), categorical)],\n",
    "                                remainder='passthrough')\n",
    "\n",
    "    X_train = col_transformer.fit_transform(X_train)\n",
    "    X_test = col_transformer.transform(X_test)\n",
    "```\n",
    "+  https://towardsdatascience.com/using-columntransformer-to-combine-data-processing-steps-af383f7d5260\n",
    "+  https://medium.com/analytics-vidhya/handling-heterogeneous-features-in-a-dataset-using-columntransformer-aa525ebe0486 \n",
    "    \n",
    "\n",
    "</div>"
   ]
  },
  {
   "cell_type": "code",
   "execution_count": 32,
   "metadata": {},
   "outputs": [],
   "source": [
    "X_train_t = torch.FloatTensor(X_train.values)\n",
    "X_test_t = torch.FloatTensor(X_test.values)\n",
    "y_train_t = torch.FloatTensor(y_train.values)\n",
    "y_test_t = torch.FloatTensor(y_test.values)"
   ]
  },
  {
   "cell_type": "markdown",
   "metadata": {},
   "source": [
    "# Построение нейронной сети\n",
    "- линейная сеть\n",
    "- линейная сеть с 5 слоями\n",
    "- линейная сеть с функцией активации"
   ]
  },
  {
   "cell_type": "code",
   "execution_count": 33,
   "metadata": {},
   "outputs": [],
   "source": [
    "learning_rate = 0.001"
   ]
  },
  {
   "cell_type": "code",
   "execution_count": 34,
   "metadata": {},
   "outputs": [],
   "source": [
    "class NetSimpleSingle(nn.Module):\n",
    "    def __init__(self, n_in_neurons, n_hidden_neurons, n_out_neurons):\n",
    "        super(NetSimpleSingle, self).__init__()\n",
    "        self.fc1 = nn.Linear(n_in_neurons, n_hidden_neurons)\n",
    "        self.fc2 = nn.Linear(n_hidden_neurons, n_out_neurons)\n",
    "    def forward(self, x):\n",
    "        x = self.fc1(x)\n",
    "        x = self.fc2(x)\n",
    "        return x"
   ]
  },
  {
   "cell_type": "code",
   "execution_count": 35,
   "metadata": {},
   "outputs": [],
   "source": [
    "net_simple_single = NetSimpleSingle(15, 15, 1)\n",
    "optimizer = torch.optim.Adam(net_simple_single.parameters(), lr=learning_rate)\n",
    "n_epochs = 30000\n",
    "loss = nn.MSELoss()"
   ]
  },
  {
   "cell_type": "markdown",
   "metadata": {},
   "source": [
    "<div class=\"alert alert-success\">\n",
    "<b>Комментарий ревьюера ✔️:</b> Для начала хорошо\n",
    "</div>"
   ]
  },
  {
   "cell_type": "code",
   "execution_count": 36,
   "metadata": {},
   "outputs": [],
   "source": [
    "net_simple_single_mse_train = []\n",
    "net_simple_single_mse_test = []"
   ]
  },
  {
   "cell_type": "code",
   "execution_count": 37,
   "metadata": {},
   "outputs": [],
   "source": [
    "for epoch in range(n_epochs):\n",
    "    optimizer.zero_grad()\n",
    "    z_train_t = net_simple_single.forward(X_train_t).flatten()\n",
    "    mse_value_train = loss(z_train_t, y_train_t)\n",
    "    mse_value_train.backward()\n",
    "    optimizer.step()\n",
    "\n",
    "    if epoch % 10 == 0 or epoch == n_epochs - 1:\n",
    "        net_simple_single.eval()\n",
    "        z_test_t = net_simple_single.forward(X_test_t).flatten()\n",
    "        mse_value_test = loss(z_test_t, y_test_t)\n",
    "\n",
    "        net_simple_single_mse_train.append(mse_value_train.item())\n",
    "        net_simple_single_mse_test.append(mse_value_test.item())"
   ]
  },
  {
   "cell_type": "markdown",
   "metadata": {},
   "source": [
    "<div class=\"alert alert-warning\">\n",
    "<b>Комментарий ревьюера ⚠️:</b> Смотри, очень не хватает визуализации обучения. Вот смотри:\n",
    "\n",
    "</div>"
   ]
  },
  {
   "cell_type": "code",
   "execution_count": 39,
   "metadata": {},
   "outputs": [
    {
     "name": "stdout",
     "output_type": "stream",
     "text": [
      "Epoch: 0, RMSE test: 4947.65478515625\n",
      "Epoch: 1000, RMSE test: 4947.64892578125\n",
      "Epoch: 2000, RMSE test: 4947.6611328125\n",
      "Epoch: 3000, RMSE test: 4947.66357421875\n",
      "Epoch: 4000, RMSE test: 4947.6669921875\n",
      "Epoch: 5000, RMSE test: 4947.6611328125\n",
      "Epoch: 6000, RMSE test: 4947.60302734375\n",
      "Epoch: 7000, RMSE test: 4947.669921875\n",
      "Epoch: 8000, RMSE test: 4947.654296875\n",
      "Epoch: 9000, RMSE test: 4947.64892578125\n",
      "Epoch: 10000, RMSE test: 4947.640625\n",
      "Epoch: 11000, RMSE test: 4947.65283203125\n",
      "Epoch: 12000, RMSE test: 4947.65869140625\n",
      "Epoch: 13000, RMSE test: 4947.6474609375\n",
      "Epoch: 14000, RMSE test: 4947.62158203125\n",
      "Epoch: 15000, RMSE test: 4947.63525390625\n",
      "Epoch: 16000, RMSE test: 4947.63623046875\n",
      "Epoch: 17000, RMSE test: 4947.6552734375\n",
      "Epoch: 18000, RMSE test: 4947.64990234375\n",
      "Epoch: 19000, RMSE test: 4947.62890625\n",
      "Epoch: 20000, RMSE test: 4947.66552734375\n",
      "Epoch: 21000, RMSE test: 4947.65087890625\n",
      "Epoch: 22000, RMSE test: 4947.6484375\n",
      "Epoch: 23000, RMSE test: 4947.62890625\n",
      "Epoch: 24000, RMSE test: 4947.6279296875\n",
      "Epoch: 25000, RMSE test: 4947.68310546875\n",
      "Epoch: 26000, RMSE test: 4947.6513671875\n",
      "Epoch: 27000, RMSE test: 4947.68310546875\n",
      "Epoch: 28000, RMSE test: 4947.65234375\n",
      "Epoch: 29000, RMSE test: 4947.64453125\n",
      "Epoch: 29999, RMSE test: 4947.650390625\n"
     ]
    }
   ],
   "source": [
    "from sklearn.metrics import mean_squared_error\n",
    "for epoch in range(n_epochs):\n",
    "    optimizer.zero_grad()\n",
    "    z_train_t = net_simple_single.forward(X_train_t).flatten()\n",
    "    mse_value_train = loss(z_train_t, y_train_t)\n",
    "    mse_value_train.backward()\n",
    "    optimizer.step()\n",
    "\n",
    "    if epoch % 1000 == 0 or epoch == n_epochs - 1:\n",
    "        with torch.no_grad(): # еще можно отключить вычисления градиентов это ускорит обучение \n",
    "            net_simple_single.eval()\n",
    "            z_test_t = net_simple_single.forward(X_test_t).flatten()\n",
    "#             mse_value_test = loss(z_test_t, y_test_t)  \n",
    "            mse_value_test = mean_squared_error(z_test_t, y_test_t, squared=False)# воспользуемся готовой функцией для подсчета RMSE\n",
    "            print(f\"Epoch: {epoch}, RMSE test: {mse_value_test}\")\n",
    "\n",
    "            net_simple_single_mse_train.append(mse_value_train.item())\n",
    "            net_simple_single_mse_test.append(mse_value_test.item())"
   ]
  },
  {
   "cell_type": "code",
   "execution_count": 40,
   "metadata": {},
   "outputs": [
    {
     "data": {
      "image/png": "[encoded data removed]",
      "text/plain": [
       "<Figure size 640x480 with 1 Axes>"
      ]
     },
     "metadata": {},
     "output_type": "display_data"
    }
   ],
   "source": [
    "net_simple_single_mse_x = np.arange(len(net_simple_single_mse_test))\n",
    "plt.plot(net_simple_single_mse_x, net_simple_single_mse_train, color='green')\n",
    "plt.plot(net_simple_single_mse_x, net_simple_single_mse_test, color='red')\n",
    "plt.show()"
   ]
  },
  {
   "cell_type": "markdown",
   "metadata": {},
   "source": [
    "- ошибка высока\n",
    "- остановить обучение надо было бы около 23000 epochs"
   ]
  },
  {
   "cell_type": "markdown",
   "metadata": {},
   "source": [
    "<div class=\"alert alert-warning\">\n",
    "<b>Комментарий ревьюера ⚠️:</b> Супер, что построил график лосса, но лучше еще рядом построить график, то как наша метрика растет/падает/изменяется\n",
    "\n",
    "</div>"
   ]
  },
  {
   "cell_type": "markdown",
   "metadata": {},
   "source": [
    "<div class=\"alert alert-success\">\n",
    "<b>Комментарий ревьюера ✔️:</b> Если воспользуешься Dataset и Dataloader, то будешь героем!!! Огромный плюс, в том, что тебе не придется самому делать батчи + удобно очень использовать и выгружать данные (на больших проектах очень выручают, поэтому будет круто если разберешься, там нет ничего сложного, если что могу помочь, если не получится) P.S если что, не обращай внимание на collate_fn\n",
    "                \n",
    "+  https://towardsdatascience.com/how-to-use-datasets-and-dataloader-in-pytorch-for-custom-text-data-270eed7f7c00\n",
    "    \n",
    "    \n",
    "P.S В самом конце проекта оставил код с Dataset и Dataloader это на случай если не получится или запутаешься:) Попробуй разобраться самостоятельно\n",
    "    \n",
    "\n",
    "Да, ты прав, у нас происходит переобучение и нужно вовремя остановиться. Для этого воспользуемся EarlyStopping, благодаря ему можно не подбирать кол-во эпох\n",
    "                \n",
    "+  https://debuggercafe.com/using-learning-rate-scheduler-and-early-stopping-with-pytorch/\n",
    "</div>"
   ]
  },
  {
   "cell_type": "markdown",
   "metadata": {},
   "source": [
    "#КОД РЕВЬЮЕРА\n",
    "class CustomEarlyStopping():\n",
    "    \"\"\"\n",
    "    Ранняя остановка, чтобы остановить тренировку, когда потеря не улучшается после определенной эпохи.\n",
    "    \"\"\"\n",
    "    def __init__(self, patience=5, min_delta=100):\n",
    "        \"\"\"\n",
    "        :param patience: сколько эпох ждать, прежде чем остановиться, когда потеря не улучшается\n",
    "        :param min_delta: минимальная разница между loss/метриками, если улучшений нет, то остановим обучение\n",
    "        \"\"\"\n",
    "        self.patience = patience\n",
    "        self.min_delta = min_delta\n",
    "        self.counter = 0\n",
    "        self.best_loss = None\n",
    "        self.early_stop = False\n",
    "\n",
    "    def __call__(self, val_loss):\n",
    "        if self.best_loss == None:\n",
    "            self.best_loss = val_loss\n",
    "        elif self.best_loss - val_loss > self.min_delta:\n",
    "            self.best_loss = val_loss\n",
    "            # reset counter if validation loss improves\n",
    "            self.counter = 0\n",
    "        elif self.best_loss - val_loss < self.min_delta:\n",
    "            self.counter += 1\n",
    "            print(f\"INFO: Early stopping counter {self.counter} of {self.patience}\")\n",
    "            if self.counter >= self.patience:\n",
    "                print('INFO: Early stopping', f'delta={self.best_loss - val_loss}')\n",
    "                self.early_stop = True"
   ]
  },
  {
   "cell_type": "markdown",
   "metadata": {},
   "source": [
    "%%time\n",
    "#КОД РЕВЬЮЕРА\n",
    "test_rmse = list(range(10000, 5000, -500)) + list(range(1000, 6000, 100))\n",
    "\n",
    "early_stopping = CustomEarlyStopping(patience=2, min_delta=10) #эти параметры можно подбирать\n",
    "\n",
    "for i in test_rmse:\n",
    "    print(\"RMSE: \", i)\n",
    "    early_stopping(i)\n",
    "    if early_stopping.early_stop:\n",
    "        break"
   ]
  },
  {
   "cell_type": "code",
   "execution_count": 41,
   "metadata": {},
   "outputs": [],
   "source": [
    "net_simple_setup = []\n",
    "n_hidden_layers = 5\n",
    "for i in range(n_hidden_layers):\n",
    "    net_simple_setup.append(nn.Linear(15, 15))\n",
    "net_simple_setup.append(nn.Linear(15, 1)) # layer out"
   ]
  },
  {
   "cell_type": "markdown",
   "metadata": {},
   "source": [
    "<div class=\"alert alert-warning\">\n",
    "<b>Комментарий ревьюера ⚠️:</b> Идея хорошая, но, лучше будет если будешь менять кол-во нейронов. Можно кстати это делать рандомно \n",
    "    \n",
    "P.S Baseline подразумевает, что мы прогоним созданную нейросеть и посмотрим, что же получится. Без какого либо подбора параметро и чего либо еще. Baseline нужен как скелет, то от чего потом можно будет отталкиваться:)  А улучшения/подбор/какого либо рода модификация уже в следующем разделе\n",
    "</div>"
   ]
  },
  {
   "cell_type": "code",
   "execution_count": 42,
   "metadata": {},
   "outputs": [],
   "source": [
    "net_simple_five = nn.Sequential(*net_simple_setup)\n",
    "n_epochs = 1000\n",
    "optimizer = torch.optim.Adam(net_simple_five.parameters(), lr=learning_rate)\n",
    "loss = nn.MSELoss()"
   ]
  },
  {
   "cell_type": "code",
   "execution_count": 43,
   "metadata": {},
   "outputs": [],
   "source": [
    "net_simple_five_mse_train = []\n",
    "net_simple_five_mse_test = []"
   ]
  },
  {
   "cell_type": "code",
   "execution_count": 44,
   "metadata": {},
   "outputs": [],
   "source": [
    "for epoch in range(n_epochs):\n",
    "    optimizer.zero_grad()\n",
    "    z_train_t = net_simple_five.forward(X_train_t).flatten()\n",
    "    mse_value_train = loss(z_train_t, y_train_t)\n",
    "    mse_value_train.backward()\n",
    "    optimizer.step()\n",
    "\n",
    "    if epoch % 10 == 0 or epoch == n_epochs - 1:\n",
    "        net_simple_five.eval()\n",
    "        z_test_t = net_simple_five.forward(X_test_t).flatten()\n",
    "        mse_value_test = loss(z_test_t, y_test_t)\n",
    "        mse_value_test.backward()\n",
    "\n",
    "        net_simple_five_mse_train.append(mse_value_train.item())\n",
    "        net_simple_five_mse_test.append(mse_value_test.item())"
   ]
  },
  {
   "cell_type": "code",
   "execution_count": 45,
   "metadata": {},
   "outputs": [
    {
     "data": {
      "image/png": "[encoded data removed]",
      "text/plain": [
       "<Figure size 640x480 with 1 Axes>"
      ]
     },
     "metadata": {},
     "output_type": "display_data"
    }
   ],
   "source": [
    "net_simple_five_mse_x = np.arange(len(net_simple_five_mse_test))\n",
    "plt.plot(net_simple_five_mse_x, net_simple_five_mse_train, color='green')\n",
    "plt.plot(net_simple_five_mse_x, net_simple_five_mse_test, color='red')\n",
    "plt.show()"
   ]
  },
  {
   "cell_type": "markdown",
   "metadata": {},
   "source": [
    "- ошибка не улучшилась, но благодаря слоям модель обучается быстрее"
   ]
  },
  {
   "cell_type": "code",
   "execution_count": null,
   "metadata": {},
   "outputs": [],
   "source": []
  },
  {
   "cell_type": "code",
   "execution_count": 46,
   "metadata": {},
   "outputs": [],
   "source": [
    "net_swish_setup = []\n",
    "n_hidden_layers = 20\n",
    "for i in range(n_hidden_layers):\n",
    "    net_swish_setup.append(nn.Linear(15, 15))\n",
    "    net_swish_setup.append(nn.Hardswish())\n",
    "net_swish_setup.append(nn.Linear(15, 1)) # layer out"
   ]
  },
  {
   "cell_type": "code",
   "execution_count": 47,
   "metadata": {},
   "outputs": [],
   "source": [
    "net_swish = nn.Sequential(*net_swish_setup)\n",
    "n_epochs = 1000\n",
    "optimizer = torch.optim.Adam(net_swish.parameters(), lr=learning_rate)\n",
    "loss = nn.MSELoss()"
   ]
  },
  {
   "cell_type": "code",
   "execution_count": 48,
   "metadata": {},
   "outputs": [],
   "source": [
    "net_swish_mse_train = []\n",
    "net_swish_mse_test = []"
   ]
  },
  {
   "cell_type": "code",
   "execution_count": 49,
   "metadata": {},
   "outputs": [],
   "source": [
    "for epoch in range(n_epochs):\n",
    "    optimizer.zero_grad()\n",
    "    z_train_t = net_swish.forward(X_train_t).flatten()\n",
    "    mse_value_train = loss(z_train_t, y_train_t)\n",
    "    mse_value_train.backward()\n",
    "    optimizer.step()\n",
    "\n",
    "    if epoch % 5 == 0 or epoch == n_epochs - 1:\n",
    "        net_swish.eval()\n",
    "        z_test_t = net_swish.forward(X_test_t).flatten()\n",
    "        mse_value_test = loss(z_test_t, y_test_t)\n",
    "\n",
    "        net_swish_mse_train.append(mse_value_train.item())\n",
    "        net_swish_mse_test.append(mse_value_test.item())"
   ]
  },
  {
   "cell_type": "code",
   "execution_count": 50,
   "metadata": {},
   "outputs": [
    {
     "data": {
      "image/png": "[encoded data removed]",
      "text/plain": [
       "<Figure size 640x480 with 1 Axes>"
      ]
     },
     "metadata": {},
     "output_type": "display_data"
    }
   ],
   "source": [
    "net_swish_mse_x = np.arange(len(net_swish_mse_train))\n",
    "plt.plot(net_swish_mse_x, net_swish_mse_train, color='green')\n",
    "plt.plot(net_swish_mse_x, net_swish_mse_test, color='red')\n",
    "plt.show()"
   ]
  },
  {
   "cell_type": "code",
   "execution_count": 51,
   "metadata": {},
   "outputs": [
    {
     "data": {
      "image/png": "[encoded data removed]",
      "text/plain": [
       "<Figure size 640x480 with 1 Axes>"
      ]
     },
     "metadata": {},
     "output_type": "display_data"
    }
   ],
   "source": [
    "x = np.arange(10)\n",
    "plt.bar(x, y_test_t.detach().numpy()[:10], width=0.5, alpha=0.8, color='red')\n",
    "plt.bar(x, z_test_t.detach().numpy()[:10], width=0.3, alpha=0.8, color='yellow')\n",
    "plt.show()"
   ]
  },
  {
   "cell_type": "markdown",
   "metadata": {},
   "source": [
    "<div class=\"alert alert-success\">\n",
    "<b>Комментарий ревьюера V2✔️:</b> Хорошо\n",
    "</div>"
   ]
  },
  {
   "cell_type": "code",
   "execution_count": null,
   "metadata": {},
   "outputs": [],
   "source": []
  },
  {
   "cell_type": "markdown",
   "metadata": {},
   "source": [
    "# Улучшение сети"
   ]
  },
  {
   "cell_type": "markdown",
   "metadata": {},
   "source": [
    "- Dropout\n",
    "- Batch Normalization"
   ]
  },
  {
   "cell_type": "code",
   "execution_count": 92,
   "metadata": {},
   "outputs": [],
   "source": [
    "net_b_norm_setup = []\n",
    "n_hidden_layers = 20\n",
    "for i in range(n_hidden_layers):\n",
    "    net_b_norm_setup.append(nn.Linear(15, 15))\n",
    "    net_b_norm_setup.append(nn.BatchNorm1d(15))\n",
    "    net_b_norm_setup.append(nn.Hardswish())\n",
    "net_b_norm_setup.append(nn.Linear(15, 1)) # layer out"
   ]
  },
  {
   "cell_type": "code",
   "execution_count": 93,
   "metadata": {},
   "outputs": [],
   "source": [
    "net_b_norm = nn.Sequential(*net_b_norm_setup)\n",
    "n_epochs = 1200\n",
    "optimizer = torch.optim.Adam(net_b_norm.parameters(), lr=learning_rate)\n",
    "loss = nn.MSELoss()"
   ]
  },
  {
   "cell_type": "code",
   "execution_count": 95,
   "metadata": {},
   "outputs": [],
   "source": [
    "net_b_norm_mse_train = []\n",
    "net_b_norm_mse_test = []"
   ]
  },
  {
   "cell_type": "code",
   "execution_count": 96,
   "metadata": {},
   "outputs": [
    {
     "name": "stdout",
     "output_type": "stream",
     "text": [
      "4485.3994140625\n"
     ]
    }
   ],
   "source": [
    "for epoch in range(n_epochs):\n",
    "    optimizer.zero_grad()\n",
    "    z_train_t = net_b_norm.forward(X_train_t).flatten()\n",
    "    mse_value_train = loss(z_train_t, y_train_t)\n",
    "    mse_value_train.backward()\n",
    "    optimizer.step()\n",
    "\n",
    "    net_b_norm.eval()\n",
    "    z_test_t = net_b_norm.forward(X_test_t).flatten()\n",
    "    mse_value_test = loss(z_test_t, y_test_t)\n",
    "\n",
    "    net_b_norm_mse_train.append(mse_value_train.item())\n",
    "    net_b_norm_mse_test.append(mse_value_test.item())\n",
    "    \n",
    "    rmse = torch.sqrt(torch.sum(torch.pow(y_test_t - z_test_t, 2))/y_test_t.shape[0]).item()\n",
    "    if rmse <= 4500:\n",
    "        print(rmse)\n",
    "        break"
   ]
  },
  {
   "cell_type": "code",
   "execution_count": 97,
   "metadata": {},
   "outputs": [
    {
     "data": {
      "image/png": "[encoded data removed]",
      "text/plain": [
       "<Figure size 432x288 with 1 Axes>"
      ]
     },
     "metadata": {
      "needs_background": "light"
     },
     "output_type": "display_data"
    }
   ],
   "source": [
    "net_b_norm_mse_x = np.arange(len(net_b_norm_mse_train))\n",
    "plt.plot(net_b_norm_mse_x, net_b_norm_mse_train, color='green')\n",
    "plt.plot(net_b_norm_mse_x, net_b_norm_mse_test, color='red')\n",
    "plt.show()"
   ]
  },
  {
   "cell_type": "code",
   "execution_count": 98,
   "metadata": {},
   "outputs": [
    {
     "data": {
      "image/png": "[encoded data removed]",
      "text/plain": [
       "<Figure size 432x288 with 1 Axes>"
      ]
     },
     "metadata": {
      "needs_background": "light"
     },
     "output_type": "display_data"
    }
   ],
   "source": [
    "x = np.arange(10)\n",
    "plt.bar(x, y_test_t.detach().numpy()[:10], width=0.5, alpha=0.8, color='red')\n",
    "plt.bar(x, z_test_t.detach().numpy()[:10], width=0.3, alpha=0.8, color='yellow')\n",
    "plt.show()"
   ]
  },
  {
   "cell_type": "code",
   "execution_count": null,
   "metadata": {},
   "outputs": [],
   "source": []
  },
  {
   "cell_type": "code",
   "execution_count": null,
   "metadata": {},
   "outputs": [],
   "source": []
  },
  {
   "cell_type": "code",
   "execution_count": 99,
   "metadata": {},
   "outputs": [],
   "source": [
    "net_drop_setup = []\n",
    "n_hidden_layers = 20\n",
    "for i in range(n_hidden_layers):\n",
    "    net_drop_setup.append(nn.Linear(15, 15))\n",
    "    net_drop_setup.append(nn.Dropout(p=0.5))\n",
    "    net_drop_setup.append(nn.Hardswish())\n",
    "net_drop_setup.append(nn.Linear(15, 1)) # layer out"
   ]
  },
  {
   "cell_type": "code",
   "execution_count": 100,
   "metadata": {},
   "outputs": [],
   "source": [
    "net_drop = nn.Sequential(*net_drop_setup)\n",
    "n_epochs = 1400\n",
    "optimizer = torch.optim.Adam(net_drop.parameters(), lr=learning_rate)\n",
    "loss = nn.MSELoss()"
   ]
  },
  {
   "cell_type": "code",
   "execution_count": 101,
   "metadata": {},
   "outputs": [],
   "source": [
    "net_drop_mse_train = []\n",
    "net_drop_mse_test = []"
   ]
  },
  {
   "cell_type": "code",
   "execution_count": 102,
   "metadata": {},
   "outputs": [
    {
     "name": "stdout",
     "output_type": "stream",
     "text": [
      "4494.97265625\n"
     ]
    }
   ],
   "source": [
    "for epoch in range(n_epochs):\n",
    "    optimizer.zero_grad()\n",
    "    z_train_t = net_drop.forward(X_train_t).flatten()\n",
    "    mse_value_train = loss(z_train_t, y_train_t)\n",
    "    mse_value_train.backward()\n",
    "    optimizer.step()\n",
    "    \n",
    "    net_drop.eval()\n",
    "    z_test_t = net_drop.forward(X_test_t).flatten()\n",
    "    mse_value_test = loss(z_test_t, y_test_t)\n",
    "\n",
    "    net_drop_mse_train.append(mse_value_train.item())\n",
    "    net_drop_mse_test.append(mse_value_test.item())\n",
    "    \n",
    "    rmse = torch.sqrt(torch.sum(torch.pow(y_test_t - z_test_t, 2))/y_test_t.shape[0]).item()\n",
    "    if rmse <= 4500:\n",
    "        print(rmse)\n",
    "        break"
   ]
  },
  {
   "cell_type": "code",
   "execution_count": 103,
   "metadata": {},
   "outputs": [
    {
     "data": {
      "image/png": "[encoded data removed]",
      "text/plain": [
       "<Figure size 432x288 with 1 Axes>"
      ]
     },
     "metadata": {
      "needs_background": "light"
     },
     "output_type": "display_data"
    }
   ],
   "source": [
    "net_drop_mse_x = np.arange(len(net_drop_mse_train))\n",
    "plt.plot(net_drop_mse_x, net_drop_mse_train, color='green')\n",
    "plt.plot(net_drop_mse_x, net_drop_mse_test, color='red')\n",
    "plt.show()"
   ]
  },
  {
   "cell_type": "markdown",
   "metadata": {},
   "source": [
    "<div class=\"alert alert-warning\">\n",
    "<b>Комментарий ревьюера ⚠️:</b> Кстати, как отличается данный график от предыдущего? что изменилось?\n",
    "</div>"
   ]
  },
  {
   "cell_type": "markdown",
   "metadata": {},
   "source": [
    "<div class=\"alert alert-info\"> <b>Комментарий студента:</b>\n",
    "    Из за организации у меня исползовались резултаты с прошлого теста моделей, теперь работает коректно.</div>"
   ]
  },
  {
   "cell_type": "code",
   "execution_count": 104,
   "metadata": {},
   "outputs": [
    {
     "data": {
      "image/png": "[encoded data removed]",
      "text/plain": [
       "<Figure size 432x288 with 1 Axes>"
      ]
     },
     "metadata": {
      "needs_background": "light"
     },
     "output_type": "display_data"
    }
   ],
   "source": [
    "x = np.arange(10)\n",
    "plt.bar(x, y_test_t.detach().numpy()[:10], width=0.5, alpha=0.8, color='red')\n",
    "plt.bar(x, z_test_t.detach().numpy()[:10], width=0.3, alpha=0.8, color='yellow')\n",
    "plt.show()"
   ]
  },
  {
   "cell_type": "code",
   "execution_count": 105,
   "metadata": {},
   "outputs": [],
   "source": [
    "rmse = torch.sqrt(torch.sum(torch.pow(y_test_t - z_test_t, 2))/y_test_t.shape[0]).item()"
   ]
  },
  {
   "cell_type": "markdown",
   "metadata": {},
   "source": [
    "<div class=\"alert alert-danger\">\n",
    "<b>Комментарий ревьюера ❌:</b> У тебя формула тут получилась:\n",
    "\n",
    "$RMSE = \\sqrt { \\sum_{i=1}^n (y_i - pred_i)^2}$\n",
    "    \n",
    "А какая формула RMSE на самом деле?\n",
    "    \n",
    "</div>"
   ]
  },
  {
   "cell_type": "markdown",
   "metadata": {},
   "source": [
    "<div class=\"alert alert-info\"> <b>Комментарий студента:</b>\n",
    "    Все верно, я забыл разделить на количество элементов.</div>"
   ]
  },
  {
   "cell_type": "code",
   "execution_count": 106,
   "metadata": {},
   "outputs": [
    {
     "name": "stdout",
     "output_type": "stream",
     "text": [
      "4494.97265625\n"
     ]
    }
   ],
   "source": [
    "print(rmse)"
   ]
  },
  {
   "cell_type": "markdown",
   "metadata": {},
   "source": [
    "<div class=\"alert alert-success\">\n",
    "<b>Комментарий ревьюера V3✔️:</b> Да,  огонь, хорошо:)\n",
    "</div>"
   ]
  },
  {
   "cell_type": "markdown",
   "metadata": {},
   "source": [
    "# Выводы"
   ]
  },
  {
   "cell_type": "markdown",
   "metadata": {},
   "source": [
    "У нас получилось натренировать модель до нужного показателя и оба метода улучшения модели помогли нам с этим. И dropout и Batch Normalization. "
   ]
  },
  {
   "cell_type": "markdown",
   "metadata": {},
   "source": [
    "<div class=\"alert alert-success\">\n",
    "<b>Комментарий ревьюера ✔️:</b> \n",
    "    \n",
    "```python    \n",
    "    from torch.utils.data import Dataset, DataLoader\n",
    "    dataset_train = torch.utils.data.TensorDataset(x_train, y_train)\n",
    "    dataset_test = torch.utils.data.TensorDataset(x_test, y_test)\n",
    "\n",
    "    train_dataloader = DataLoader(dataset_train, batch_size=32, shuffle=True,\n",
    "                                  num_workers=0)\n",
    "    test_dataloader = DataLoader(dataset_test, batch_size=32, num_workers=0)               \n",
    "```       \n",
    "Пример обучения:\n",
    "    \n",
    "    \n",
    "    \n",
    "```python\n",
    "   for epoch in range(num_epochs):\n",
    "    net.train()\n",
    "    for batch in train_dataloader:\n",
    "        data_train, temperature_train = batch # просто выгружаем данные \n",
    "        optimizer.zero_grad()\n",
    "        \n",
    "        preds = net.forward(data_train).flatten()\n",
    "               \n",
    "        loss_value = torch.sqrt(loss(preds, temperature_train))\n",
    "        loss_value.backward()\n",
    "        optimizer.step()\n",
    "        \n",
    "    if epoch % 200 == 0:\n",
    "        predicted_temp = [] \n",
    "        with torch.no_grad():\n",
    "            net.eval()\n",
    "            for batch in test_dataloader:\n",
    "                data_test, temperature_test = batch # просто выгружаем данные\n",
    "                \n",
    "                test_preds = net.forward(data_test).flatten()\n",
    "                predicted_temp.append(test_preds)\n",
    "                RMSE_loss = torch.sqrt(loss(test_preds, temperature_test))\n",
    "                \n",
    "        predicted_temp = torch.cat(predicted_temp).detach().numpy()\n",
    "        RMSE = mean_squared_error(y_test, predicted_temp, squared=False)\n",
    "        early_stopping(RMSE)\n",
    "        print(f\"epoch:{epoch}, RMSE test: {RMSE}\")\n",
    "        \n",
    "        if early_stopping.early_stop:\n",
    "            print('Early Stoppning!!!')\n",
    "            break \n",
    "    \n",
    "    \n",
    "```\n",
    "</div>"
   ]
  },
  {
   "cell_type": "markdown",
   "metadata": {},
   "source": [
    "<div class=\"alert alert-success\">\n",
    "<b>Комментарий ревьюера ✔️:</b>\n",
    "    \n",
    "Немного полезного материала:    \n",
    "\n",
    "1) Интересный контент вот здесь есть: https://neural-university.ru/ - институт нейросетей. <br>\n",
    "2) Ребята из-за \"бугра\": https://www.reg.ru/blog/stenfordskij-kurs-lekciya-1-vvedenie/ (тут про свёрточные, но интересно)<br>\n",
    "3) Интересная статья специалиста Тесла: https://karpathy.github.io/neuralnets/ <br>\n",
    "4) Список книг на выбор: https://habr.com/ru/company/neurodatalab/blog/336218/ <br>\n",
    "\n",
    "\n",
    "\n",
    "Кстати есть еще нейросеть TabNet, которая заточена для работы с табличными данными:\n",
    "+  https://habr.com/ru/post/540736/    \n",
    "+  https://www.kaggle.com/code/carlmcbrideellis/tabnet-a-very-simple-regression-example/notebook\n",
    "\n",
    "</div>"
   ]
  },
  {
   "cell_type": "markdown",
   "metadata": {},
   "source": [
    "<font color='blue'><b>Итоговый комментарий ревьюера</b></font>\n",
    "<div class=\"alert alert-success\">\n",
    "<b>Комментарий ревьюера ✔️:</b>Владислав, получился хороший проект! \n",
    "    \n",
    "Если есть какие либо вопросы я с удовольствием на них отвечу:) <br> Исправь, пожалуйста, замечания и жду проект на следующую проверку:) </div>\n"
   ]
  },
  {
   "cell_type": "markdown",
   "metadata": {},
   "source": [
    "<div class=\"alert alert-info\"> <b>Комментарий студента:</b>\n",
    "    Спасибо за советы. Я обязательно вернусь к этому проэкту, просто немного опаздываю по дедлайну 🫣.</div>"
   ]
  },
  {
   "cell_type": "markdown",
   "metadata": {},
   "source": [
    "<div class=\"alert alert-success\">\n",
    "<b>Комментарий ревьюера V3✔️:</b> Удачи в следующих проектах!!!\n",
    "</div>"
   ]
  }
 ],
 "metadata": {
  "ExecuteTimeLog": [
   {
    "duration": 2387,
    "start_time": "2023-01-13T16:39:01.317Z"
   },
   {
    "duration": 4,
    "start_time": "2023-01-13T16:39:03.706Z"
   },
   {
    "duration": 9,
    "start_time": "2023-01-13T16:39:03.712Z"
   },
   {
    "duration": 93,
    "start_time": "2023-01-13T16:39:03.723Z"
   },
   {
    "duration": 11,
    "start_time": "2023-01-13T16:39:03.819Z"
   },
   {
    "duration": 5,
    "start_time": "2023-01-13T16:39:03.832Z"
   },
   {
    "duration": 11,
    "start_time": "2023-01-13T16:39:03.838Z"
   },
   {
    "duration": 6,
    "start_time": "2023-01-13T16:39:03.851Z"
   },
   {
    "duration": 6,
    "start_time": "2023-01-13T16:39:03.859Z"
   },
   {
    "duration": 169,
    "start_time": "2023-01-13T16:39:03.867Z"
   },
   {
    "duration": 131,
    "start_time": "2023-01-13T16:39:04.038Z"
   },
   {
    "duration": 157,
    "start_time": "2023-01-13T16:39:04.170Z"
   },
   {
    "duration": 126,
    "start_time": "2023-01-13T16:39:04.328Z"
   },
   {
    "duration": 5,
    "start_time": "2023-01-13T16:39:04.457Z"
   },
   {
    "duration": 7,
    "start_time": "2023-01-13T16:39:04.463Z"
   },
   {
    "duration": 7,
    "start_time": "2023-01-13T16:39:04.471Z"
   },
   {
    "duration": 7,
    "start_time": "2023-01-13T16:39:04.480Z"
   },
   {
    "duration": 6,
    "start_time": "2023-01-13T16:39:04.488Z"
   },
   {
    "duration": 5,
    "start_time": "2023-01-13T16:39:04.495Z"
   },
   {
    "duration": 20,
    "start_time": "2023-01-13T16:39:04.501Z"
   },
   {
    "duration": 7,
    "start_time": "2023-01-13T16:39:04.522Z"
   },
   {
    "duration": 6,
    "start_time": "2023-01-13T16:39:04.530Z"
   },
   {
    "duration": 21,
    "start_time": "2023-01-13T16:39:04.538Z"
   },
   {
    "duration": 19,
    "start_time": "2023-01-13T16:39:04.561Z"
   },
   {
    "duration": 13,
    "start_time": "2023-01-13T16:39:04.581Z"
   },
   {
    "duration": 13,
    "start_time": "2023-01-13T16:39:04.596Z"
   },
   {
    "duration": 5,
    "start_time": "2023-01-13T16:39:04.611Z"
   },
   {
    "duration": 128,
    "start_time": "2023-01-13T16:39:26.884Z"
   },
   {
    "duration": 4,
    "start_time": "2023-01-13T16:39:30.307Z"
   },
   {
    "duration": 2341,
    "start_time": "2023-01-13T16:48:08.838Z"
   },
   {
    "duration": 5,
    "start_time": "2023-01-13T16:48:11.181Z"
   },
   {
    "duration": 10,
    "start_time": "2023-01-13T16:48:11.188Z"
   },
   {
    "duration": 60,
    "start_time": "2023-01-13T16:48:11.200Z"
   },
   {
    "duration": 12,
    "start_time": "2023-01-13T16:48:11.262Z"
   },
   {
    "duration": 8,
    "start_time": "2023-01-13T16:48:11.276Z"
   },
   {
    "duration": 10,
    "start_time": "2023-01-13T16:48:11.286Z"
   },
   {
    "duration": 13,
    "start_time": "2023-01-13T16:48:11.298Z"
   },
   {
    "duration": 7,
    "start_time": "2023-01-13T16:48:11.313Z"
   },
   {
    "duration": 169,
    "start_time": "2023-01-13T16:48:11.322Z"
   },
   {
    "duration": 174,
    "start_time": "2023-01-13T16:48:11.493Z"
   },
   {
    "duration": 166,
    "start_time": "2023-01-13T16:48:11.669Z"
   },
   {
    "duration": 123,
    "start_time": "2023-01-13T16:48:11.837Z"
   },
   {
    "duration": 5,
    "start_time": "2023-01-13T16:48:11.963Z"
   },
   {
    "duration": 7,
    "start_time": "2023-01-13T16:48:11.970Z"
   },
   {
    "duration": 13,
    "start_time": "2023-01-13T16:48:11.978Z"
   },
   {
    "duration": 7,
    "start_time": "2023-01-13T16:48:11.992Z"
   },
   {
    "duration": 20,
    "start_time": "2023-01-13T16:48:12.001Z"
   },
   {
    "duration": 7,
    "start_time": "2023-01-13T16:48:12.023Z"
   },
   {
    "duration": 7,
    "start_time": "2023-01-13T16:48:12.032Z"
   },
   {
    "duration": 15,
    "start_time": "2023-01-13T16:48:12.041Z"
   },
   {
    "duration": 16,
    "start_time": "2023-01-13T16:48:12.057Z"
   },
   {
    "duration": 5,
    "start_time": "2023-01-13T16:48:12.074Z"
   },
   {
    "duration": 7,
    "start_time": "2023-01-13T16:48:12.080Z"
   },
   {
    "duration": 14,
    "start_time": "2023-01-13T16:48:12.088Z"
   },
   {
    "duration": 10,
    "start_time": "2023-01-13T16:48:12.103Z"
   },
   {
    "duration": 8,
    "start_time": "2023-01-13T16:48:12.115Z"
   },
   {
    "duration": 9,
    "start_time": "2023-01-13T16:48:12.125Z"
   },
   {
    "duration": 6,
    "start_time": "2023-01-13T16:48:12.135Z"
   },
   {
    "duration": 6,
    "start_time": "2023-01-13T16:48:12.143Z"
   },
   {
    "duration": 7,
    "start_time": "2023-01-13T16:48:12.150Z"
   },
   {
    "duration": 8,
    "start_time": "2023-01-13T16:48:12.158Z"
   },
   {
    "duration": 11,
    "start_time": "2023-01-13T16:48:12.167Z"
   },
   {
    "duration": 7,
    "start_time": "2023-01-13T16:48:12.179Z"
   },
   {
    "duration": 6,
    "start_time": "2023-01-13T16:48:12.187Z"
   },
   {
    "duration": 8,
    "start_time": "2023-01-13T16:48:12.195Z"
   },
   {
    "duration": 3,
    "start_time": "2023-01-13T16:48:12.205Z"
   },
   {
    "duration": 89,
    "start_time": "2023-01-13T16:53:03.910Z"
   },
   {
    "duration": 98865,
    "start_time": "2023-01-13T16:53:09.475Z"
   },
   {
    "duration": 5,
    "start_time": "2023-01-13T16:58:08.989Z"
   },
   {
    "duration": 6,
    "start_time": "2023-01-13T16:58:09.135Z"
   },
   {
    "duration": 2174,
    "start_time": "2023-01-13T21:30:13.698Z"
   },
   {
    "duration": 9,
    "start_time": "2023-01-13T21:30:15.874Z"
   },
   {
    "duration": 2,
    "start_time": "2023-01-13T21:30:15.885Z"
   },
   {
    "duration": 101,
    "start_time": "2023-01-13T21:30:15.889Z"
   },
   {
    "duration": 19,
    "start_time": "2023-01-13T21:30:15.992Z"
   },
   {
    "duration": 5,
    "start_time": "2023-01-13T21:30:16.272Z"
   },
   {
    "duration": 6,
    "start_time": "2023-01-13T21:30:16.455Z"
   },
   {
    "duration": 6,
    "start_time": "2023-01-13T21:30:16.835Z"
   },
   {
    "duration": 8,
    "start_time": "2023-01-13T21:30:17.215Z"
   },
   {
    "duration": 176,
    "start_time": "2023-01-13T21:30:17.787Z"
   },
   {
    "duration": 143,
    "start_time": "2023-01-13T21:30:18.153Z"
   },
   {
    "duration": 162,
    "start_time": "2023-01-13T21:30:18.542Z"
   },
   {
    "duration": 182,
    "start_time": "2023-01-13T21:30:18.942Z"
   },
   {
    "duration": 6,
    "start_time": "2023-01-13T21:30:19.501Z"
   },
   {
    "duration": 7,
    "start_time": "2023-01-13T21:30:19.710Z"
   },
   {
    "duration": 6,
    "start_time": "2023-01-13T21:30:19.897Z"
   },
   {
    "duration": 6,
    "start_time": "2023-01-13T21:30:20.299Z"
   },
   {
    "duration": 4,
    "start_time": "2023-01-13T21:30:20.636Z"
   },
   {
    "duration": 3,
    "start_time": "2023-01-13T21:30:20.842Z"
   },
   {
    "duration": 2,
    "start_time": "2023-01-13T21:30:21.034Z"
   },
   {
    "duration": 8,
    "start_time": "2023-01-13T21:30:21.238Z"
   },
   {
    "duration": 6,
    "start_time": "2023-01-13T21:30:21.410Z"
   },
   {
    "duration": 3,
    "start_time": "2023-01-13T21:30:21.603Z"
   },
   {
    "duration": 4,
    "start_time": "2023-01-13T21:30:21.799Z"
   },
   {
    "duration": 3,
    "start_time": "2023-01-13T21:30:21.998Z"
   },
   {
    "duration": 6,
    "start_time": "2023-01-13T21:30:22.201Z"
   },
   {
    "duration": 6,
    "start_time": "2023-01-13T21:30:22.406Z"
   },
   {
    "duration": 5,
    "start_time": "2023-01-13T21:30:22.778Z"
   },
   {
    "duration": 3,
    "start_time": "2023-01-13T21:30:23.004Z"
   },
   {
    "duration": 4,
    "start_time": "2023-01-13T21:30:23.194Z"
   },
   {
    "duration": 4,
    "start_time": "2023-01-13T21:30:23.418Z"
   },
   {
    "duration": 5,
    "start_time": "2023-01-13T21:30:23.622Z"
   },
   {
    "duration": 18,
    "start_time": "2023-01-13T21:30:24.570Z"
   },
   {
    "duration": 3,
    "start_time": "2023-01-13T21:30:27.252Z"
   },
   {
    "duration": 4,
    "start_time": "2023-01-13T21:30:27.445Z"
   },
   {
    "duration": 32,
    "start_time": "2023-01-13T21:30:27.634Z"
   },
   {
    "duration": 2,
    "start_time": "2023-01-13T21:30:28.050Z"
   },
   {
    "duration": 86324,
    "start_time": "2023-01-13T21:30:28.429Z"
   },
   {
    "duration": 102282,
    "start_time": "2023-01-13T21:31:54.755Z"
   },
   {
    "duration": 148,
    "start_time": "2023-01-13T21:33:37.038Z"
   },
   {
    "duration": 5,
    "start_time": "2023-01-13T21:33:37.188Z"
   },
   {
    "duration": 18,
    "start_time": "2023-01-13T21:33:37.195Z"
   },
   {
    "duration": 6,
    "start_time": "2023-01-13T21:33:37.215Z"
   },
   {
    "duration": 14,
    "start_time": "2023-01-13T21:33:37.223Z"
   },
   {
    "duration": 4,
    "start_time": "2023-01-13T21:33:37.239Z"
   },
   {
    "duration": 6003,
    "start_time": "2023-01-13T21:33:37.244Z"
   },
   {
    "duration": 165,
    "start_time": "2023-01-13T21:33:43.250Z"
   },
   {
    "duration": 4,
    "start_time": "2023-01-13T21:33:58.308Z"
   },
   {
    "duration": 138,
    "start_time": "2023-01-13T21:34:09.287Z"
   },
   {
    "duration": 81,
    "start_time": "2023-01-13T21:34:12.732Z"
   },
   {
    "duration": 3,
    "start_time": "2023-01-13T21:34:16.558Z"
   },
   {
    "duration": 3,
    "start_time": "2023-01-13T21:34:28.574Z"
   },
   {
    "duration": 22,
    "start_time": "2023-01-13T21:34:36.153Z"
   },
   {
    "duration": 4,
    "start_time": "2023-01-13T21:34:41.970Z"
   },
   {
    "duration": 3,
    "start_time": "2023-01-13T21:34:47.242Z"
   },
   {
    "duration": 4,
    "start_time": "2023-01-13T21:34:55.111Z"
   },
   {
    "duration": 3,
    "start_time": "2023-01-13T21:35:06.560Z"
   },
   {
    "duration": 8,
    "start_time": "2023-01-13T21:36:17.841Z"
   },
   {
    "duration": 5,
    "start_time": "2023-01-13T21:36:18.475Z"
   },
   {
    "duration": 3,
    "start_time": "2023-01-13T21:36:19.000Z"
   },
   {
    "duration": 10938,
    "start_time": "2023-01-13T21:36:19.504Z"
   },
   {
    "duration": 176,
    "start_time": "2023-01-13T21:36:30.444Z"
   },
   {
    "duration": 132,
    "start_time": "2023-01-13T21:36:33.886Z"
   },
   {
    "duration": 12,
    "start_time": "2023-01-13T21:36:36.985Z"
   },
   {
    "duration": 13,
    "start_time": "2023-01-13T21:36:37.277Z"
   },
   {
    "duration": 3,
    "start_time": "2023-01-13T21:36:37.635Z"
   },
   {
    "duration": 34,
    "start_time": "2023-01-13T21:36:38.049Z"
   },
   {
    "duration": 99,
    "start_time": "2023-01-13T21:36:43.007Z"
   },
   {
    "duration": 112,
    "start_time": "2023-01-13T21:37:07.930Z"
   },
   {
    "duration": 227,
    "start_time": "2023-01-13T21:37:09.081Z"
   },
   {
    "duration": 7,
    "start_time": "2023-01-13T21:37:22.081Z"
   },
   {
    "duration": 4,
    "start_time": "2023-01-13T21:37:22.447Z"
   },
   {
    "duration": 3,
    "start_time": "2023-01-13T21:37:23.151Z"
   },
   {
    "duration": 29,
    "start_time": "2023-01-13T21:37:23.943Z"
   },
   {
    "duration": 100,
    "start_time": "2023-01-13T21:37:25.146Z"
   },
   {
    "duration": 142,
    "start_time": "2023-01-13T21:37:34.072Z"
   },
   {
    "duration": 4,
    "start_time": "2023-01-13T21:37:46.535Z"
   },
   {
    "duration": 4,
    "start_time": "2023-01-13T21:37:49.196Z"
   },
   {
    "duration": 7,
    "start_time": "2023-01-13T21:46:14.935Z"
   },
   {
    "duration": 4,
    "start_time": "2023-01-13T21:46:15.302Z"
   },
   {
    "duration": 2,
    "start_time": "2023-01-13T21:46:15.663Z"
   },
   {
    "duration": 14,
    "start_time": "2023-01-13T21:46:16.106Z"
   },
   {
    "duration": 105,
    "start_time": "2023-01-13T21:46:16.832Z"
   },
   {
    "duration": 131,
    "start_time": "2023-01-13T21:46:19.715Z"
   },
   {
    "duration": 4,
    "start_time": "2023-01-13T21:46:28.184Z"
   },
   {
    "duration": 9,
    "start_time": "2023-01-13T21:46:39.256Z"
   },
   {
    "duration": 5,
    "start_time": "2023-01-13T21:46:55.129Z"
   },
   {
    "duration": 4,
    "start_time": "2023-01-13T21:46:55.407Z"
   },
   {
    "duration": 19,
    "start_time": "2023-01-13T21:46:55.583Z"
   },
   {
    "duration": 158,
    "start_time": "2023-01-13T21:46:55.762Z"
   },
   {
    "duration": 153,
    "start_time": "2023-01-13T21:46:58.723Z"
   },
   {
    "duration": 8,
    "start_time": "2023-01-13T21:50:27.435Z"
   },
   {
    "duration": 5,
    "start_time": "2023-01-13T21:50:27.809Z"
   },
   {
    "duration": 83,
    "start_time": "2023-01-13T21:50:28.295Z"
   },
   {
    "duration": 3,
    "start_time": "2023-01-13T21:50:31.812Z"
   },
   {
    "duration": 9933,
    "start_time": "2023-01-13T21:50:32.714Z"
   },
   {
    "duration": 122,
    "start_time": "2023-01-13T21:50:44.013Z"
   },
   {
    "duration": 127,
    "start_time": "2023-01-13T21:50:48.327Z"
   },
   {
    "duration": 6,
    "start_time": "2023-01-13T21:51:07.538Z"
   },
   {
    "duration": 4,
    "start_time": "2023-01-13T21:51:07.862Z"
   },
   {
    "duration": 3,
    "start_time": "2023-01-13T21:51:08.202Z"
   },
   {
    "duration": 2899,
    "start_time": "2023-01-13T21:51:08.743Z"
   },
   {
    "duration": 145,
    "start_time": "2023-01-13T21:51:11.644Z"
   },
   {
    "duration": 122,
    "start_time": "2023-01-13T21:51:14.295Z"
   },
   {
    "duration": 3,
    "start_time": "2023-01-13T21:51:22.905Z"
   },
   {
    "duration": 3,
    "start_time": "2023-01-13T21:51:25.470Z"
   }
  ],
  "kernelspec": {
   "display_name": "Python 3 (ipykernel)",
   "language": "python",
   "name": "python3"
  },
  "language_info": {
   "codemirror_mode": {
    "name": "ipython",
    "version": 3
   },
   "file_extension": ".py",
   "mimetype": "text/x-python",
   "name": "python",
   "nbconvert_exporter": "python",
   "pygments_lexer": "ipython3",
   "version": "3.10.10"
  },
  "toc": {
   "base_numbering": 1,
   "nav_menu": {},
   "number_sections": true,
   "sideBar": true,
   "skip_h1_title": true,
   "title_cell": "Table of Contents",
   "title_sidebar": "Contents",
   "toc_cell": false,
   "toc_position": {},
   "toc_section_display": true,
   "toc_window_display": false
  },
  "vscode": {
   "interpreter": {
    "hash": "57e8639cf709c9082d6d8a18ac27d0d8377b746a1c503c3159938682fc8871e3"
   }
  }
 },
 "nbformat": 4,
 "nbformat_minor": 2
}
