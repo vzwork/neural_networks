{
 "cells": [
  {
   "cell_type": "markdown",
   "metadata": {},
   "source": [
    "<div style=\"border:solid green 2px; padding: 20px\">\n",
    "<b>Привет, Владислав!</b>\n",
    "\n",
    "Меня зовут Александр Пономаренко, и я буду проверять твой проект. Предлагаю общаться на «ты» :) Но если это не удобно - дай знать, и мы перейдем на \"вы\". \n",
    "\n",
    "Моя основная цель — не указать на совершенные тобою ошибки, а поделиться своим опытом и помочь тебе стать data science. Ты уже проделал большую работу над проектом, но давай сделаем его еще лучше. Ниже ты найдешь мои комментарии - **пожалуйста, не перемещай, не изменяй и не удаляй их**. Увидев у тебя ошибку, в первый раз я лишь укажу на ее наличие и дам тебе возможность самой найти и исправить ее. На реальной работе твой начальник будет поступать так же, а я пытаюсь подготовить тебя именно к работе аналитиком. Но если ты пока не справишься с такой задачей - при следующей проверке я дам более точную подсказку. Я буду использовать цветовую разметку:\n",
    "\n",
    "<div class=\"alert alert-danger\">\n",
    "<b>Комментарий ревьюера ❌:</b> Так выделены самые важные замечания. Без их отработки проект не будет принят. </div>\n",
    "\n",
    "<div class=\"alert alert-warning\">\n",
    "<b>Комментарий ревьюера ⚠️:</b> Так выделены небольшие замечания. Я надеюсь, что их ты тоже учтешь - твой проект от этого станет только лучше. Но настаивать на их отработке не буду.\n",
    "\n",
    "</div>\n",
    "\n",
    "<div class=\"alert alert-success\">\n",
    "<b>Комментарий ревьюера ✔️:</b> Так я выделяю все остальные комментарии.</div>\n",
    "\n",
    "Давай работать над проектом в диалоге: **если ты что-то меняешь в проекте или отвечаешь на мои комменатри — пиши об этом.** Мне будет легче отследить изменения, если ты выделишь свои комментарии:\n",
    "<div class=\"alert alert-info\"> <b>Комментарий студента:</b>\n",
    "    Например, вот так.</div>\n",
    "\n",
    "Всё это поможет выполнить повторную проверку твоего проекта оперативнее. "
   ]
  },
  {
   "cell_type": "markdown",
   "metadata": {},
   "source": [
    "# Содержание\n",
    "- Содержание\n",
    "- Постановка задачи\n",
    "- Выгрузка данных\n",
    "- Анализ данных\n",
    "- Подготовка данных\n",
    "- Построение нейронной сети\n",
    "- Улучшение сети\n",
    "- Выводы"
   ]
  },
  {
   "cell_type": "markdown",
   "metadata": {},
   "source": [
    "# Постановка задачи"
   ]
  },
  {
   "cell_type": "markdown",
   "metadata": {},
   "source": [
    "На основе данных характеристик 240 звезд нужно построить нейронную сеть, которая будет предсказывать температуру на поверхности новых звезд.\n",
    "<br/><br/>\n",
    "Количественные показатели:\n",
    "- Относительная светимость (L/Lo) - относительно Солнца\n",
    "- Относительный радиус (R/Ro) - относительно Солнца\n",
    "- Абсолютная звездная величина (Mv) - физическая величина\n",
    "<br/><br/>\n",
    "\n",
    "Качественные показатели:\n",
    "- Звездный цвет - ('white', 'red', 'blue', 'yellow', 'yellow-orange', etc)\n",
    "- Тип звезды - (0, 1, 2, 3, 4, 5)\n",
    "  - 0 - Коричневый карлик\n",
    "  - 1 - Красный карлик\n",
    "  - 2 - Белый карлик\n",
    "  - 3 - Звезды главной последовательности\n",
    "  - 4 - Сверхгигант\n",
    "  - 5 - Гипергигант\n",
    "<br/><br/>\n",
    "\n",
    "Количественный результат:\n",
    "- Абсолютная температура (T(K)) - температура на поверхности звезды в Кельвинах\n",
    "<br/><br/>\n",
    "\n",
    "Предварительный анализ:\n",
    "- Результат количественный - на выходе можно ожидать алгоритм регрессии\n",
    "- Функция потерь - MSE / MAE\n",
    "- С количеством скрытых слоев придется экспериментировать\n",
    "  - Много показателей (измерений), скорее всего 3-5 скрытых слоев будет лучше работать"
   ]
  },
  {
   "cell_type": "markdown",
   "metadata": {},
   "source": [
    "# Выгрузка данных"
   ]
  },
  {
   "cell_type": "code",
   "execution_count": 1,
   "metadata": {
    "trusted": false
   },
   "outputs": [],
   "source": [
    "import pandas as pd\n",
    "import numpy as np\n",
    "import matplotlib.pyplot as plt\n",
    "import seaborn as sns\n",
    "import torch\n",
    "import torch.nn as nn\n",
    "import os\n",
    "import random\n",
    "import time\n",
    "import math\n",
    "\n",
    "from sklearn.model_selection import train_test_split\n",
    "from sklearn.preprocessing import StandardScaler\n",
    "from sklearn.preprocessing import OneHotEncoder"
   ]
  },
  {
   "cell_type": "code",
   "execution_count": 2,
   "metadata": {
    "trusted": false
   },
   "outputs": [],
   "source": [
    "random.seed(0)\n",
    "np.random.seed(0)\n",
    "torch.manual_seed(0)\n",
    "torch.use_deterministic_algorithms(True)"
   ]
  },
  {
   "cell_type": "code",
   "execution_count": 3,
   "metadata": {
    "trusted": false
   },
   "outputs": [],
   "source": [
    "LOCAL_PATH = './datasets/6_class.csv'\n",
    "WEB_PATH = '/datasets/6_class.csv'\n",
    "\n",
    "RANDOM_STATE = 2023"
   ]
  },
  {
   "cell_type": "code",
   "execution_count": 4,
   "metadata": {
    "trusted": false
   },
   "outputs": [],
   "source": [
    "if os.path.exists(LOCAL_PATH):\n",
    "    df = pd.read_csv(LOCAL_PATH, index_col=0)\n",
    "elif os.path.exists(WEB_PATH):\n",
    "    df = pd.read_csv(WEB_PATH, index_col=0)"
   ]
  },
  {
   "cell_type": "markdown",
   "metadata": {},
   "source": [
    "<div class=\"alert alert-success\">\n",
    "<b>Комментарий ревьюера ✔️:</b> Да, хорошо, данные на месте:)  Можно как вариант еще написать условие когда не нашел ни один путь:\n",
    "\n",
    "```python\n",
    "    \n",
    "if os.path.exists(LOCAL_PATH):\n",
    "    df = pd.read_csv(LOCAL_PATH, index_col=0)\n",
    "elif os.path.exists(WEB_PATH):\n",
    "    df = pd.read_csv(WEB_PATH, index_col=0)   \n",
    "else:\n",
    "    print('something')\n",
    "```\n",
    "\n",
    "</div>"
   ]
  },
  {
   "cell_type": "markdown",
   "metadata": {},
   "source": [
    "# Анализ данных"
   ]
  },
  {
   "cell_type": "code",
   "execution_count": 5,
   "metadata": {
    "trusted": false
   },
   "outputs": [
    {
     "name": "stdout",
     "output_type": "stream",
     "text": "<class 'pandas.core.frame.DataFrame'>\nInt64Index: 240 entries, 0 to 239\nData columns (total 6 columns):\n #   Column                  Non-Null Count  Dtype  \n---  ------                  --------------  -----  \n 0   Temperature (K)         240 non-null    int64  \n 1   Luminosity(L/Lo)        240 non-null    float64\n 2   Radius(R/Ro)            240 non-null    float64\n 3   Absolute magnitude(Mv)  240 non-null    float64\n 4   Star type               240 non-null    int64  \n 5   Star color              240 non-null    object \ndtypes: float64(3), int64(2), object(1)\nmemory usage: 13.1+ KB\n"
    }
   ],
   "source": [
    "df.info()"
   ]
  },
  {
   "cell_type": "markdown",
   "metadata": {},
   "source": [
    "в данных нет пропусков"
   ]
  },
  {
   "cell_type": "markdown",
   "metadata": {},
   "source": [
    "### Пореименнуем колонки, чтобы было легче их использовать"
   ]
  },
  {
   "cell_type": "code",
   "execution_count": 6,
   "metadata": {
    "trusted": false
   },
   "outputs": [],
   "source": [
    "df = df.rename(columns={\n",
    "    'Temperature (K)': 'temp',\n",
    "    'Luminosity(L/Lo)': 'lumin',\n",
    "    'Radius(R/Ro)': 'radius',\n",
    "    'Absolute magnitude(Mv)': 'magnitude',\n",
    "    'Star type': 'type',\n",
    "    'Star color': 'color'\n",
    "})"
   ]
  },
  {
   "cell_type": "code",
   "execution_count": 7,
   "metadata": {
    "trusted": false
   },
   "outputs": [
    {
     "data": {
      "text/plain": "Index(['temp', 'lumin', 'radius', 'magnitude', 'type', 'color'], dtype='object')"
     },
     "execution_count": 7,
     "metadata": {},
     "output_type": "execute_result"
    }
   ],
   "source": [
    "df.columns"
   ]
  },
  {
   "cell_type": "markdown",
   "metadata": {},
   "source": [
    "### Проверим категориальные данные"
   ]
  },
  {
   "cell_type": "code",
   "execution_count": 8,
   "metadata": {
    "trusted": false
   },
   "outputs": [
    {
     "data": {
      "text/plain": "0    40\n1    40\n2    40\n3    40\n4    40\n5    40\nName: type, dtype: int64"
     },
     "execution_count": 8,
     "metadata": {},
     "output_type": "execute_result"
    }
   ],
   "source": [
    "pd.value_counts(df.type)"
   ]
  },
  {
   "cell_type": "markdown",
   "metadata": {},
   "source": [
    "данные распределенны нормально"
   ]
  },
  {
   "cell_type": "code",
   "execution_count": 9,
   "metadata": {
    "trusted": false
   },
   "outputs": [
    {
     "data": {
      "text/plain": "Red                   112\nBlue                   55\nBlue-white             26\nBlue White             10\nyellow-white            8\nWhite                   7\nBlue white              3\nYellowish White         3\nwhite                   3\nWhitish                 2\nyellowish               2\nOrange                  2\nYellowish               1\nBlue                    1\nWhite-Yellow            1\nOrange-Red              1\nBlue-White              1\nPale yellow orange      1\nBlue white              1\nName: color, dtype: int64"
     },
     "execution_count": 9,
     "metadata": {},
     "output_type": "execute_result"
    }
   ],
   "source": [
    "pd.value_counts(df.color)"
   ]
  },
  {
   "cell_type": "markdown",
   "metadata": {},
   "source": [
    "нужно будет устранить неявные ошибки"
   ]
  },
  {
   "cell_type": "markdown",
   "metadata": {},
   "source": [
    "### Проверка количественных данных"
   ]
  },
  {
   "cell_type": "code",
   "execution_count": 10,
   "metadata": {
    "trusted": false
   },
   "outputs": [
    {
     "data": {
      "text/plain": "<AxesSubplot:>"
     },
     "execution_count": 10,
     "metadata": {},
     "output_type": "execute_result"
    },
    {
     "data": {
      "image/png": "[encoded data removed]",
      "text/plain": "<Figure size 432x288 with 1 Axes>"
     },
     "metadata": {
      "needs_background": "light"
     },
     "output_type": "display_data"
    }
   ],
   "source": [
    "df.temp.hist()"
   ]
  },
  {
   "cell_type": "markdown",
   "metadata": {},
   "source": [
    "Данные выглядят хорошо, нет выбросов (target feature)"
   ]
  },
  {
   "cell_type": "code",
   "execution_count": 11,
   "metadata": {
    "trusted": false
   },
   "outputs": [
    {
     "data": {
      "text/plain": "<AxesSubplot:>"
     },
     "execution_count": 11,
     "metadata": {},
     "output_type": "execute_result"
    },
    {
     "data": {
      "image/png": "[encoded data removed]",
      "text/plain": "<Figure size 432x288 with 1 Axes>"
     },
     "metadata": {
      "needs_background": "light"
     },
     "output_type": "display_data"
    }
   ],
   "source": [
    "df.lumin.hist()"
   ]
  },
  {
   "cell_type": "markdown",
   "metadata": {},
   "source": [
    "Данные выглядят хорошо, нет выбросов"
   ]
  },
  {
   "cell_type": "code",
   "execution_count": 12,
   "metadata": {
    "trusted": false
   },
   "outputs": [
    {
     "data": {
      "text/plain": "<AxesSubplot:>"
     },
     "execution_count": 12,
     "metadata": {},
     "output_type": "execute_result"
    },
    {
     "data": {
      "image/png": "[encoded data removed]",
      "text/plain": "<Figure size 432x288 with 1 Axes>"
     },
     "metadata": {
      "needs_background": "light"
     },
     "output_type": "display_data"
    }
   ],
   "source": [
    "df.radius.hist()"
   ]
  },
  {
   "cell_type": "markdown",
   "metadata": {},
   "source": [
    "Есть разрыв между данными, но это не похоже на выброс"
   ]
  },
  {
   "cell_type": "code",
   "execution_count": 13,
   "metadata": {
    "trusted": false
   },
   "outputs": [
    {
     "data": {
      "text/plain": "<AxesSubplot:>"
     },
     "execution_count": 13,
     "metadata": {},
     "output_type": "execute_result"
    },
    {
     "data": {
      "image/png": "[encoded data removed]",
      "text/plain": "<Figure size 432x288 with 1 Axes>"
     },
     "metadata": {
      "needs_background": "light"
     },
     "output_type": "display_data"
    }
   ],
   "source": [
    "df.magnitude.hist()"
   ]
  },
  {
   "cell_type": "markdown",
   "metadata": {},
   "source": [
    "Данные разбросанные, но это не похоже на выброс"
   ]
  },
  {
   "cell_type": "markdown",
   "metadata": {},
   "source": [
    "# Подготовка данных"
   ]
  },
  {
   "cell_type": "code",
   "execution_count": 14,
   "metadata": {
    "trusted": false
   },
   "outputs": [
    {
     "data": {
      "text/plain": "Red                   112\nBlue                   55\nBlue-white             26\nBlue White             10\nyellow-white            8\nWhite                   7\nBlue white              3\nYellowish White         3\nwhite                   3\nWhitish                 2\nyellowish               2\nOrange                  2\nYellowish               1\nBlue                    1\nWhite-Yellow            1\nOrange-Red              1\nBlue-White              1\nPale yellow orange      1\nBlue white              1\nName: color, dtype: int64"
     },
     "execution_count": 14,
     "metadata": {},
     "output_type": "execute_result"
    }
   ],
   "source": [
    "pd.value_counts(df.color)"
   ]
  },
  {
   "cell_type": "code",
   "execution_count": 15,
   "metadata": {
    "trusted": false
   },
   "outputs": [],
   "source": [
    "df.color = df.color.replace({\n",
    "    'Blue-white': 'Blue White',\n",
    "    'Blue white': 'Blue White',\n",
    "    'Blue white ': 'Blue White',\n",
    "    'Blue-White': 'Blue White',\n",
    "    'yellow-white': 'Yellow',\n",
    "    'Yellowish White': 'Yellow',\n",
    "    'White-Yellow': 'Yellow',\n",
    "    'yellowish': 'Yellow',\n",
    "    'Yellowish': 'Yellow',\n",
    "    'Yellow White': 'Yellow',\n",
    "    'white': 'White',\n",
    "    'whitish': 'White',\n",
    "    'Whitish': 'White',\n",
    "    'Pale yellow orange': 'Orange',\n",
    "    'Blue ': 'Blue',\n",
    "    'Orange-Red': 'Orange'\n",
    "})"
   ]
  },
  {
   "cell_type": "code",
   "execution_count": 16,
   "metadata": {
    "trusted": false
   },
   "outputs": [
    {
     "data": {
      "text/plain": "Red           112\nBlue           56\nBlue White     41\nYellow         15\nWhite          12\nOrange          4\nName: color, dtype: int64"
     },
     "execution_count": 16,
     "metadata": {},
     "output_type": "execute_result"
    }
   ],
   "source": [
    "pd.value_counts(df.color)"
   ]
  },
  {
   "cell_type": "markdown",
   "metadata": {},
   "source": [
    "<div class=\"alert alert-success\">\n",
    "<b>Комментарий ревьюера ✔️:</b> Да, хорошо:)\n",
    "</div>"
   ]
  },
  {
   "cell_type": "code",
   "execution_count": 17,
   "metadata": {
    "trusted": false
   },
   "outputs": [],
   "source": [
    "X_train, X_test, y_train, y_test = train_test_split(df.drop('temp', axis=1), df.temp, test_size=0.1, random_state=RANDOM_STATE)"
   ]
  },
  {
   "cell_type": "markdown",
   "metadata": {},
   "source": [
    "<div class=\"alert alert-success\">\n",
    "<b>Комментарий ревьюера ✔️:</b> В тест лучше больше данных отдать, например, 20%\n",
    "</div>"
   ]
  },
  {
   "cell_type": "code",
   "execution_count": 18,
   "metadata": {
    "trusted": false
   },
   "outputs": [],
   "source": [
    "X_train_num = X_train.drop(['color', 'type'], axis=1)\n",
    "X_test_num = X_test.drop(['color', 'type'], axis=1)"
   ]
  },
  {
   "cell_type": "code",
   "execution_count": 19,
   "metadata": {
    "trusted": false
   },
   "outputs": [],
   "source": [
    "columns_num = X_train_num.columns"
   ]
  },
  {
   "cell_type": "code",
   "execution_count": 20,
   "metadata": {
    "trusted": false
   },
   "outputs": [],
   "source": [
    "scaler = StandardScaler()"
   ]
  },
  {
   "cell_type": "code",
   "execution_count": 21,
   "metadata": {
    "trusted": false
   },
   "outputs": [
    {
     "data": {
      "text/plain": "StandardScaler()"
     },
     "execution_count": 21,
     "metadata": {},
     "output_type": "execute_result"
    }
   ],
   "source": [
    "scaler.fit(X_train_num)"
   ]
  },
  {
   "cell_type": "code",
   "execution_count": 22,
   "metadata": {
    "trusted": false
   },
   "outputs": [],
   "source": [
    "X_train_num = scaler.transform(X_train_num)\n",
    "X_test_num = scaler.transform(X_test_num)"
   ]
  },
  {
   "cell_type": "code",
   "execution_count": 23,
   "metadata": {
    "trusted": false
   },
   "outputs": [],
   "source": [
    "X_train_num = pd.DataFrame(X_train_num, columns=columns_num)\n",
    "X_test_num = pd.DataFrame(X_test_num, columns=columns_num)"
   ]
  },
  {
   "cell_type": "code",
   "execution_count": 24,
   "metadata": {
    "trusted": false
   },
   "outputs": [],
   "source": [
    "X_train_cat = X_train[['color', 'type']]\n",
    "X_test_cat = X_test[['color', 'type']]"
   ]
  },
  {
   "cell_type": "code",
   "execution_count": 25,
   "metadata": {
    "trusted": false
   },
   "outputs": [],
   "source": [
    "ohe = OneHotEncoder(handle_unknown='ignore')"
   ]
  },
  {
   "cell_type": "code",
   "execution_count": 26,
   "metadata": {
    "trusted": false
   },
   "outputs": [
    {
     "data": {
      "text/plain": "OneHotEncoder(handle_unknown='ignore')"
     },
     "execution_count": 26,
     "metadata": {},
     "output_type": "execute_result"
    }
   ],
   "source": [
    "ohe.fit(X_train_cat)"
   ]
  },
  {
   "cell_type": "code",
   "execution_count": 27,
   "metadata": {
    "trusted": false
   },
   "outputs": [],
   "source": [
    "X_train_cat = ohe.transform(X_train_cat).toarray()\n",
    "X_test_cat = ohe.transform(X_test_cat).toarray()"
   ]
  },
  {
   "cell_type": "markdown",
   "metadata": {},
   "source": [
    "<div class=\"alert alert-success\">\n",
    "<b>Комментарий ревьюера ✔️:</b> \n",
    "    \n",
    "название столбцов можно получить еще с помощью `get_feature_names/get_feature_names_out`\n",
    "</div>"
   ]
  },
  {
   "cell_type": "code",
   "execution_count": 28,
   "metadata": {
    "trusted": false
   },
   "outputs": [
    {
     "data": {
      "text/plain": "array(['x0_Blue', 'x0_Blue White', 'x0_Orange', 'x0_Red', 'x0_White',\n       'x0_Yellow', 'x1_0', 'x1_1', 'x1_2', 'x1_3', 'x1_4', 'x1_5'],\n      dtype=object)"
     },
     "execution_count": 28,
     "metadata": {},
     "output_type": "execute_result"
    }
   ],
   "source": [
    "#КОД РЕВЬЮЕРА\n",
    "ohe.get_feature_names()"
   ]
  },
  {
   "cell_type": "code",
   "execution_count": 29,
   "metadata": {
    "trusted": false
   },
   "outputs": [],
   "source": [
    "columns_cat = ohe.categories_[0].tolist()\n",
    "columns_cat.extend(ohe.categories_[1].tolist())"
   ]
  },
  {
   "cell_type": "code",
   "execution_count": 30,
   "metadata": {
    "trusted": false
   },
   "outputs": [
    {
     "data": {
      "text/plain": "['Blue', 'Blue White', 'Orange', 'Red', 'White', 'Yellow', 0, 1, 2, 3, 4, 5]"
     },
     "execution_count": 30,
     "metadata": {},
     "output_type": "execute_result"
    }
   ],
   "source": [
    "columns_cat"
   ]
  },
  {
   "cell_type": "code",
   "execution_count": 31,
   "metadata": {
    "trusted": false
   },
   "outputs": [],
   "source": [
    "X_train_cat = pd.DataFrame(data=X_train_cat, columns=columns_cat)\n",
    "X_test_cat = pd.DataFrame(data=X_test_cat, columns=columns_cat)"
   ]
  },
  {
   "cell_type": "code",
   "execution_count": 32,
   "metadata": {
    "trusted": false
   },
   "outputs": [],
   "source": [
    "X_train = X_train_num.join(X_train_cat)\n",
    "X_test = X_test_num.join(X_test_cat)"
   ]
  },
  {
   "cell_type": "markdown",
   "metadata": {},
   "source": [
    "<div class=\"alert alert-success\">\n",
    "<b>Комментарий ревьюера ✔️:</b> Данные подготовил корректно\n",
    "    \n",
    "    \n",
    "Чтобы упростить себе задачу, можно воспользоваться ColumnTransformer\n",
    "    \n",
    "    \n",
    "```python\n",
    "    from sklearn.compose import ColumnTransformer\n",
    "    numeric = <your code>\n",
    "    categorical = <your code>\n",
    "    col_transformer = ColumnTransformer(\n",
    "                            transformers=[\n",
    "                                ('scaler', StandardScaler(), numeric),\n",
    "                                ('ohe', OneHotEncoder(sparse=False, drop='first'), categorical)],\n",
    "                                remainder='passthrough')\n",
    "\n",
    "    X_train = col_transformer.fit_transform(X_train)\n",
    "    X_test = col_transformer.transform(X_test)\n",
    "```\n",
    "+  https://towardsdatascience.com/using-columntransformer-to-combine-data-processing-steps-af383f7d5260\n",
    "+  https://medium.com/analytics-vidhya/handling-heterogeneous-features-in-a-dataset-using-columntransformer-aa525ebe0486 \n",
    "    \n",
    "\n",
    "</div>"
   ]
  },
  {
   "cell_type": "code",
   "execution_count": 33,
   "metadata": {
    "trusted": false
   },
   "outputs": [],
   "source": [
    "X_train_t = torch.FloatTensor(X_train.values)\n",
    "X_test_t = torch.FloatTensor(X_test.values)\n",
    "y_train_t = torch.FloatTensor(y_train.values)\n",
    "y_test_t = torch.FloatTensor(y_test.values)"
   ]
  },
  {
   "cell_type": "markdown",
   "metadata": {},
   "source": [
    "# Построение нейронной сети\n",
    "- линейная сеть\n",
    "- линейная сеть с 5 слоями\n",
    "- линейная сеть с функцией активации"
   ]
  },
  {
   "cell_type": "code",
   "execution_count": 34,
   "metadata": {
    "trusted": false
   },
   "outputs": [],
   "source": [
    "learning_rate = 0.001"
   ]
  },
  {
   "cell_type": "code",
   "execution_count": 35,
   "metadata": {
    "trusted": false
   },
   "outputs": [],
   "source": [
    "class NetSimpleSingle(nn.Module):\n",
    "    def __init__(self, n_in_neurons, n_hidden_neurons, n_out_neurons):\n",
    "        super(NetSimpleSingle, self).__init__()\n",
    "        self.fc1 = nn.Linear(n_in_neurons, n_hidden_neurons)\n",
    "        self.fc2 = nn.Linear(n_hidden_neurons, n_out_neurons)\n",
    "    def forward(self, x):\n",
    "        x = self.fc1(x)\n",
    "        x = self.fc2(x)\n",
    "        return x"
   ]
  },
  {
   "cell_type": "code",
   "execution_count": 36,
   "metadata": {
    "trusted": false
   },
   "outputs": [],
   "source": [
    "net_simple_single = NetSimpleSingle(15, 15, 1)\n",
    "optimizer = torch.optim.Adam(net_simple_single.parameters(), lr=learning_rate)\n",
    "n_epochs = 30000\n",
    "loss = nn.MSELoss()"
   ]
  },
  {
   "cell_type": "markdown",
   "metadata": {},
   "source": [
    "<div class=\"alert alert-success\">\n",
    "<b>Комментарий ревьюера ✔️:</b> Для начала хорошо\n",
    "</div>"
   ]
  },
  {
   "cell_type": "code",
   "execution_count": 37,
   "metadata": {
    "trusted": false
   },
   "outputs": [],
   "source": [
    "net_simple_single_mse_train = []\n",
    "net_simple_single_mse_test = []"
   ]
  },
  {
   "cell_type": "code",
   "execution_count": 37,
   "metadata": {
    "trusted": false
   },
   "outputs": [],
   "source": [
    "for epoch in range(n_epochs):\n",
    "    optimizer.zero_grad()\n",
    "    z_train_t = net_simple_single.forward(X_train_t).flatten()\n",
    "    mse_value_train = loss(z_train_t, y_train_t)\n",
    "    mse_value_train.backward()\n",
    "    optimizer.step()\n",
    "\n",
    "    if epoch % 10 == 0 or epoch == n_epochs - 1:\n",
    "        net_simple_single.eval()\n",
    "        z_test_t = net_simple_single.forward(X_test_t).flatten()\n",
    "        mse_value_test = loss(z_test_t, y_test_t)\n",
    "\n",
    "        net_simple_single_mse_train.append(mse_value_train.item())\n",
    "        net_simple_single_mse_test.append(mse_value_test.item())"
   ]
  },
  {
   "cell_type": "markdown",
   "metadata": {},
   "source": [
    "<div class=\"alert alert-warning\">\n",
    "<b>Комментарий ревьюера ⚠️:</b> Смотри, очень не хватает визуализации обучения. Вот смотри:\n",
    "\n",
    "</div>"
   ]
  },
  {
   "cell_type": "code",
   "execution_count": 39,
   "metadata": {
    "trusted": false
   },
   "outputs": [
    {
     "name": "stdout",
     "output_type": "stream",
     "text": "Epoch: 0, RMSE test: 13294.314453125\nEpoch: 10, RMSE test: 13294.25390625\nEpoch: 20, RMSE test: 13294.1943359375\nEpoch: 30, RMSE test: 13294.1328125\nEpoch: 40, RMSE test: 13294.06640625\nEpoch: 50, RMSE test: 13293.9931640625\nEpoch: 60, RMSE test: 13293.9111328125\nEpoch: 70, RMSE test: 13293.818359375\nEpoch: 80, RMSE test: 13293.7138671875\nEpoch: 90, RMSE test: 13293.5966796875\nEpoch: 100, RMSE test: 13293.4658203125\nEpoch: 110, RMSE test: 13293.3203125\nEpoch: 120, RMSE test: 13293.1591796875\nEpoch: 130, RMSE test: 13292.9814453125\nEpoch: 140, RMSE test: 13292.787109375\nEpoch: 150, RMSE test: 13292.576171875\nEpoch: 160, RMSE test: 13292.3486328125\nEpoch: 170, RMSE test: 13292.1025390625\nEpoch: 180, RMSE test: 13291.8388671875\nEpoch: 190, RMSE test: 13291.55859375\nEpoch: 200, RMSE test: 13291.259765625\nEpoch: 210, RMSE test: 13290.943359375\nEpoch: 220, RMSE test: 13290.609375\nEpoch: 230, RMSE test: 13290.2578125\nEpoch: 240, RMSE test: 13289.888671875\nEpoch: 250, RMSE test: 13289.5009765625\nEpoch: 260, RMSE test: 13289.0947265625\nEpoch: 270, RMSE test: 13288.671875\nEpoch: 280, RMSE test: 13288.23046875\nEpoch: 290, RMSE test: 13287.771484375\nEpoch: 300, RMSE test: 13287.294921875\nEpoch: 310, RMSE test: 13286.7998046875\nEpoch: 320, RMSE test: 13286.2890625\nEpoch: 330, RMSE test: 13285.759765625\nEpoch: 340, RMSE test: 13285.212890625\nEpoch: 350, RMSE test: 13284.6494140625\nEpoch: 360, RMSE test: 13284.0693359375\nEpoch: 370, RMSE test: 13283.4716796875\nEpoch: 380, RMSE test: 13282.8564453125\nEpoch: 390, RMSE test: 13282.2255859375\nEpoch: 400, RMSE test: 13281.5771484375\nEpoch: 410, RMSE test: 13280.9130859375\nEpoch: 420, RMSE test: 13280.2314453125\nEpoch: 430, RMSE test: 13279.53515625\nEpoch: 440, RMSE test: 13278.8212890625\nEpoch: 450, RMSE test: 13278.091796875\nEpoch: 460, RMSE test: 13277.3447265625\nEpoch: 470, RMSE test: 13276.5830078125\nEpoch: 480, RMSE test: 13275.8046875\nEpoch: 490, RMSE test: 13275.0107421875\nEpoch: 500, RMSE test: 13274.201171875\nEpoch: 510, RMSE test: 13273.3759765625\nEpoch: 520, RMSE test: 13272.53515625\nEpoch: 530, RMSE test: 13271.677734375\nEpoch: 540, RMSE test: 13270.8056640625\nEpoch: 550, RMSE test: 13269.91796875\nEpoch: 560, RMSE test: 13269.0146484375\nEpoch: 570, RMSE test: 13268.0966796875\nEpoch: 580, RMSE test: 13267.1640625\nEpoch: 590, RMSE test: 13266.21484375\nEpoch: 600, RMSE test: 13265.2509765625\nEpoch: 610, RMSE test: 13264.2724609375\nEpoch: 620, RMSE test: 13263.2783203125\nEpoch: 630, RMSE test: 13262.2705078125\nEpoch: 640, RMSE test: 13261.2470703125\nEpoch: 650, RMSE test: 13260.208984375\nEpoch: 660, RMSE test: 13259.15625\nEpoch: 670, RMSE test: 13258.0888671875\nEpoch: 680, RMSE test: 13257.0068359375\nEpoch: 690, RMSE test: 13255.9111328125\nEpoch: 700, RMSE test: 13254.7998046875\nEpoch: 710, RMSE test: 13253.6748046875\nEpoch: 720, RMSE test: 13252.53515625\nEpoch: 730, RMSE test: 13251.3818359375\nEpoch: 740, RMSE test: 13250.2138671875\nEpoch: 750, RMSE test: 13249.0322265625\nEpoch: 760, RMSE test: 13247.8359375\nEpoch: 770, RMSE test: 13246.6259765625\nEpoch: 780, RMSE test: 13245.40234375\nEpoch: 790, RMSE test: 13244.1640625\nEpoch: 800, RMSE test: 13242.9130859375\nEpoch: 810, RMSE test: 13241.6474609375\nEpoch: 820, RMSE test: 13240.3681640625\nEpoch: 830, RMSE test: 13239.0751953125\nEpoch: 840, RMSE test: 13237.7685546875\nEpoch: 850, RMSE test: 13236.4482421875\nEpoch: 860, RMSE test: 13235.1142578125\nEpoch: 870, RMSE test: 13233.7685546875\nEpoch: 880, RMSE test: 13232.408203125\nEpoch: 890, RMSE test: 13231.033203125\nEpoch: 900, RMSE test: 13229.6474609375\nEpoch: 910, RMSE test: 13228.2470703125\nEpoch: 920, RMSE test: 13226.8330078125\nEpoch: 930, RMSE test: 13225.4072265625\nEpoch: 940, RMSE test: 13223.966796875\nEpoch: 950, RMSE test: 13222.5146484375\nEpoch: 960, RMSE test: 13221.048828125\nEpoch: 970, RMSE test: 13219.5693359375\nEpoch: 980, RMSE test: 13218.0791015625\nEpoch: 990, RMSE test: 13216.57421875\nEpoch: 1000, RMSE test: 13215.0576171875\nEpoch: 1010, RMSE test: 13213.5283203125\nEpoch: 1020, RMSE test: 13211.984375\nEpoch: 1030, RMSE test: 13210.4296875\nEpoch: 1040, RMSE test: 13208.8623046875\nEpoch: 1050, RMSE test: 13207.2822265625\nEpoch: 1060, RMSE test: 13205.6884765625\nEpoch: 1070, RMSE test: 13204.083984375\nEpoch: 1080, RMSE test: 13202.4658203125\nEpoch: 1090, RMSE test: 13200.8359375\nEpoch: 1100, RMSE test: 13199.193359375\nEpoch: 1110, RMSE test: 13197.5380859375\nEpoch: 1120, RMSE test: 13195.8720703125\nEpoch: 1130, RMSE test: 13194.193359375\nEpoch: 1140, RMSE test: 13192.501953125\nEpoch: 1150, RMSE test: 13190.798828125\nEpoch: 1160, RMSE test: 13189.0830078125\nEpoch: 1170, RMSE test: 13187.35546875\nEpoch: 1180, RMSE test: 13185.6162109375\nEpoch: 1190, RMSE test: 13183.865234375\nEpoch: 1200, RMSE test: 13182.1025390625\nEpoch: 1210, RMSE test: 13180.3271484375\nEpoch: 1220, RMSE test: 13178.5400390625\nEpoch: 1230, RMSE test: 13176.7412109375\nEpoch: 1240, RMSE test: 13174.931640625\nEpoch: 1250, RMSE test: 13173.1103515625\nEpoch: 1260, RMSE test: 13171.275390625\nEpoch: 1270, RMSE test: 13169.4306640625\nEpoch: 1280, RMSE test: 13167.57421875\nEpoch: 1290, RMSE test: 13165.7060546875\nEpoch: 1300, RMSE test: 13163.8251953125\nEpoch: 1310, RMSE test: 13161.9345703125\nEpoch: 1320, RMSE test: 13160.0322265625\nEpoch: 1330, RMSE test: 13158.1181640625\nEpoch: 1340, RMSE test: 13156.193359375\nEpoch: 1350, RMSE test: 13154.2568359375\nEpoch: 1360, RMSE test: 13152.30859375\nEpoch: 1370, RMSE test: 13150.349609375\nEpoch: 1380, RMSE test: 13148.3798828125\nEpoch: 1390, RMSE test: 13146.3984375\nEpoch: 1400, RMSE test: 13144.40625\nEpoch: 1410, RMSE test: 13142.40234375\nEpoch: 1420, RMSE test: 13140.388671875\nEpoch: 1430, RMSE test: 13138.3623046875\nEpoch: 1440, RMSE test: 13136.326171875\nEpoch: 1450, RMSE test: 13134.279296875\nEpoch: 1460, RMSE test: 13132.220703125\nEpoch: 1470, RMSE test: 13130.1513671875\nEpoch: 1480, RMSE test: 13128.0712890625\nEpoch: 1490, RMSE test: 13125.98046875\nEpoch: 1500, RMSE test: 13123.8798828125\nEpoch: 1510, RMSE test: 13121.767578125\nEpoch: 1520, RMSE test: 13119.6435546875\nEpoch: 1530, RMSE test: 13117.51171875\nEpoch: 1540, RMSE test: 13115.3671875\nEpoch: 1550, RMSE test: 13113.2119140625\nEpoch: 1560, RMSE test: 13111.0458984375\nEpoch: 1570, RMSE test: 13108.87109375\nEpoch: 1580, RMSE test: 13106.6845703125\nEpoch: 1590, RMSE test: 13104.4873046875\nEpoch: 1600, RMSE test: 13102.2802734375\nEpoch: 1610, RMSE test: 13100.0625\nEpoch: 1620, RMSE test: 13097.8349609375\nEpoch: 1630, RMSE test: 13095.5966796875\nEpoch: 1640, RMSE test: 13093.34765625\nEpoch: 1650, RMSE test: 13091.08984375\nEpoch: 1660, RMSE test: 13088.8203125\nEpoch: 1670, RMSE test: 13086.541015625\nEpoch: 1680, RMSE test: 13084.2509765625\nEpoch: 1690, RMSE test: 13081.9521484375\nEpoch: 1700, RMSE test: 13079.642578125\nEpoch: 1710, RMSE test: 13077.322265625\nEpoch: 1720, RMSE test: 13074.9921875\nEpoch: 1730, RMSE test: 13072.6513671875\nEpoch: 1740, RMSE test: 13070.3017578125\nEpoch: 1750, RMSE test: 13067.9423828125\nEpoch: 1760, RMSE test: 13065.572265625\nEpoch: 1770, RMSE test: 13063.1923828125\nEpoch: 1780, RMSE test: 13060.802734375\nEpoch: 1790, RMSE test: 13058.4033203125\nEpoch: 1800, RMSE test: 13055.9931640625\nEpoch: 1810, RMSE test: 13053.57421875\nEpoch: 1820, RMSE test: 13051.14453125\nEpoch: 1830, RMSE test: 13048.7060546875\nEpoch: 1840, RMSE test: 13046.2578125\nEpoch: 1850, RMSE test: 13043.798828125\nEpoch: 1860, RMSE test: 13041.3310546875\nEpoch: 1870, RMSE test: 13038.853515625\nEpoch: 1880, RMSE test: 13036.3662109375\nEpoch: 1890, RMSE test: 13033.869140625\nEpoch: 1900, RMSE test: 13031.3623046875\nEpoch: 1910, RMSE test: 13028.845703125\nEpoch: 1920, RMSE test: 13026.3193359375\nEpoch: 1930, RMSE test: 13023.78515625\nEpoch: 1940, RMSE test: 13021.240234375\nEpoch: 1950, RMSE test: 13018.6865234375\nEpoch: 1960, RMSE test: 13016.1220703125\nEpoch: 1970, RMSE test: 13013.548828125\nEpoch: 1980, RMSE test: 13010.966796875\nEpoch: 1990, RMSE test: 13008.375\nEpoch: 2000, RMSE test: 13005.7724609375\nEpoch: 2010, RMSE test: 13003.162109375\nEpoch: 2020, RMSE test: 13000.5419921875\nEpoch: 2030, RMSE test: 12997.9130859375\nEpoch: 2040, RMSE test: 12995.2734375\nEpoch: 2050, RMSE test: 12992.6259765625\nEpoch: 2060, RMSE test: 12989.9697265625\nEpoch: 2070, RMSE test: 12987.302734375\nEpoch: 2080, RMSE test: 12984.626953125\nEpoch: 2090, RMSE test: 12981.9423828125\nEpoch: 2100, RMSE test: 12979.248046875\nEpoch: 2110, RMSE test: 12976.544921875\n"
    },
    {
     "name": "stdout",
     "output_type": "stream",
     "text": "Epoch: 2120, RMSE test: 12973.83203125\nEpoch: 2130, RMSE test: 12971.1103515625\nEpoch: 2140, RMSE test: 12968.3798828125\nEpoch: 2150, RMSE test: 12965.640625\nEpoch: 2160, RMSE test: 12962.8916015625\nEpoch: 2170, RMSE test: 12960.1337890625\nEpoch: 2180, RMSE test: 12957.3671875\nEpoch: 2190, RMSE test: 12954.5908203125\nEpoch: 2200, RMSE test: 12951.806640625\nEpoch: 2210, RMSE test: 12949.0126953125\nEpoch: 2220, RMSE test: 12946.208984375\nEpoch: 2230, RMSE test: 12943.3974609375\nEpoch: 2240, RMSE test: 12940.5771484375\nEpoch: 2250, RMSE test: 12937.7470703125\nEpoch: 2260, RMSE test: 12934.908203125\nEpoch: 2270, RMSE test: 12932.060546875\nEpoch: 2280, RMSE test: 12929.205078125\nEpoch: 2290, RMSE test: 12926.3388671875\nEpoch: 2300, RMSE test: 12923.46484375\nEpoch: 2310, RMSE test: 12920.5810546875\nEpoch: 2320, RMSE test: 12917.689453125\nEpoch: 2330, RMSE test: 12914.7890625\nEpoch: 2340, RMSE test: 12911.87890625\nEpoch: 2350, RMSE test: 12908.9609375\nEpoch: 2360, RMSE test: 12906.0341796875\nEpoch: 2370, RMSE test: 12903.09765625\nEpoch: 2380, RMSE test: 12900.1533203125\nEpoch: 2390, RMSE test: 12897.19921875\nEpoch: 2400, RMSE test: 12894.2373046875\nEpoch: 2410, RMSE test: 12891.265625\nEpoch: 2420, RMSE test: 12888.2861328125\nEpoch: 2430, RMSE test: 12885.2978515625\nEpoch: 2440, RMSE test: 12882.30078125\nEpoch: 2450, RMSE test: 12879.2939453125\nEpoch: 2460, RMSE test: 12876.279296875\nEpoch: 2470, RMSE test: 12873.255859375\nEpoch: 2480, RMSE test: 12870.224609375\nEpoch: 2490, RMSE test: 12867.18359375\nEpoch: 2500, RMSE test: 12864.1337890625\nEpoch: 2510, RMSE test: 12861.076171875\nEpoch: 2520, RMSE test: 12858.0087890625\nEpoch: 2530, RMSE test: 12854.9326171875\nEpoch: 2540, RMSE test: 12851.849609375\nEpoch: 2550, RMSE test: 12848.755859375\nEpoch: 2560, RMSE test: 12845.6552734375\nEpoch: 2570, RMSE test: 12842.5439453125\nEpoch: 2580, RMSE test: 12839.42578125\nEpoch: 2590, RMSE test: 12836.296875\nEpoch: 2600, RMSE test: 12833.1611328125\nEpoch: 2610, RMSE test: 12830.0166015625\nEpoch: 2620, RMSE test: 12826.8623046875\nEpoch: 2630, RMSE test: 12823.7001953125\nEpoch: 2640, RMSE test: 12820.529296875\nEpoch: 2650, RMSE test: 12817.3505859375\nEpoch: 2660, RMSE test: 12814.1611328125\nEpoch: 2670, RMSE test: 12810.96484375\nEpoch: 2680, RMSE test: 12807.7587890625\nEpoch: 2690, RMSE test: 12804.544921875\nEpoch: 2700, RMSE test: 12801.3212890625\nEpoch: 2710, RMSE test: 12798.08984375\nEpoch: 2720, RMSE test: 12794.849609375\nEpoch: 2730, RMSE test: 12791.6005859375\nEpoch: 2740, RMSE test: 12788.3427734375\nEpoch: 2750, RMSE test: 12785.076171875\nEpoch: 2760, RMSE test: 12781.8017578125\nEpoch: 2770, RMSE test: 12778.5166015625\nEpoch: 2780, RMSE test: 12775.224609375\nEpoch: 2790, RMSE test: 12771.921875\nEpoch: 2800, RMSE test: 12768.6123046875\nEpoch: 2810, RMSE test: 12765.2939453125\nEpoch: 2820, RMSE test: 12761.9658203125\nEpoch: 2830, RMSE test: 12758.62890625\nEpoch: 2840, RMSE test: 12755.2841796875\nEpoch: 2850, RMSE test: 12751.9287109375\nEpoch: 2860, RMSE test: 12748.56640625\nEpoch: 2870, RMSE test: 12745.1943359375\nEpoch: 2880, RMSE test: 12741.8134765625\nEpoch: 2890, RMSE test: 12738.423828125\nEpoch: 2900, RMSE test: 12735.025390625\nEpoch: 2910, RMSE test: 12731.6171875\nEpoch: 2920, RMSE test: 12728.2001953125\nEpoch: 2930, RMSE test: 12724.775390625\nEpoch: 2940, RMSE test: 12721.341796875\nEpoch: 2950, RMSE test: 12717.8974609375\nEpoch: 2960, RMSE test: 12714.4462890625\nEpoch: 2970, RMSE test: 12710.984375\nEpoch: 2980, RMSE test: 12707.5126953125\nEpoch: 2990, RMSE test: 12704.033203125\nEpoch: 3000, RMSE test: 12700.544921875\nEpoch: 3010, RMSE test: 12697.046875\nEpoch: 3020, RMSE test: 12693.5400390625\nEpoch: 3030, RMSE test: 12690.0244140625\nEpoch: 3040, RMSE test: 12686.498046875\nEpoch: 3050, RMSE test: 12682.9638671875\nEpoch: 3060, RMSE test: 12679.4189453125\nEpoch: 3070, RMSE test: 12675.8662109375\nEpoch: 3080, RMSE test: 12672.3037109375\nEpoch: 3090, RMSE test: 12668.7314453125\nEpoch: 3100, RMSE test: 12665.150390625\nEpoch: 3110, RMSE test: 12661.5595703125\nEpoch: 3120, RMSE test: 12657.958984375\nEpoch: 3130, RMSE test: 12654.349609375\nEpoch: 3140, RMSE test: 12650.73046875\nEpoch: 3150, RMSE test: 12647.1015625\nEpoch: 3160, RMSE test: 12643.462890625\nEpoch: 3170, RMSE test: 12639.814453125\nEpoch: 3180, RMSE test: 12636.1572265625\nEpoch: 3190, RMSE test: 12632.490234375\nEpoch: 3200, RMSE test: 12628.8125\nEpoch: 3210, RMSE test: 12625.1259765625\nEpoch: 3220, RMSE test: 12621.4296875\nEpoch: 3230, RMSE test: 12617.72265625\nEpoch: 3240, RMSE test: 12614.0068359375\nEpoch: 3250, RMSE test: 12610.28125\nEpoch: 3260, RMSE test: 12606.544921875\nEpoch: 3270, RMSE test: 12602.798828125\nEpoch: 3280, RMSE test: 12599.04296875\nEpoch: 3290, RMSE test: 12595.2763671875\nEpoch: 3300, RMSE test: 12591.5009765625\nEpoch: 3310, RMSE test: 12587.7138671875\nEpoch: 3320, RMSE test: 12583.91796875\nEpoch: 3330, RMSE test: 12580.111328125\nEpoch: 3340, RMSE test: 12576.294921875\nEpoch: 3350, RMSE test: 12572.4677734375\nEpoch: 3360, RMSE test: 12568.630859375\nEpoch: 3370, RMSE test: 12564.783203125\nEpoch: 3380, RMSE test: 12560.92578125\nEpoch: 3390, RMSE test: 12557.0576171875\nEpoch: 3400, RMSE test: 12553.1796875\nEpoch: 3410, RMSE test: 12549.2900390625\nEpoch: 3420, RMSE test: 12545.3916015625\nEpoch: 3430, RMSE test: 12541.4814453125\nEpoch: 3440, RMSE test: 12537.5625\nEpoch: 3450, RMSE test: 12533.6318359375\nEpoch: 3460, RMSE test: 12529.6904296875\nEpoch: 3470, RMSE test: 12525.740234375\nEpoch: 3480, RMSE test: 12521.7783203125\nEpoch: 3490, RMSE test: 12517.806640625\nEpoch: 3500, RMSE test: 12513.8232421875\nEpoch: 3510, RMSE test: 12509.830078125\nEpoch: 3520, RMSE test: 12505.826171875\nEpoch: 3530, RMSE test: 12501.8125\nEpoch: 3540, RMSE test: 12497.7890625\nEpoch: 3550, RMSE test: 12493.7529296875\nEpoch: 3560, RMSE test: 12489.7080078125\nEpoch: 3570, RMSE test: 12485.65234375\nEpoch: 3580, RMSE test: 12481.5869140625\nEpoch: 3590, RMSE test: 12477.509765625\nEpoch: 3600, RMSE test: 12473.4228515625\nEpoch: 3610, RMSE test: 12469.3251953125\nEpoch: 3620, RMSE test: 12465.2177734375\nEpoch: 3630, RMSE test: 12461.1005859375\nEpoch: 3640, RMSE test: 12456.97265625\nEpoch: 3650, RMSE test: 12452.833984375\nEpoch: 3660, RMSE test: 12448.685546875\nEpoch: 3670, RMSE test: 12444.5263671875\nEpoch: 3680, RMSE test: 12440.3583984375\nEpoch: 3690, RMSE test: 12436.1787109375\nEpoch: 3700, RMSE test: 12431.990234375\nEpoch: 3710, RMSE test: 12427.7919921875\nEpoch: 3720, RMSE test: 12423.5830078125\nEpoch: 3730, RMSE test: 12419.365234375\nEpoch: 3740, RMSE test: 12415.13671875\nEpoch: 3750, RMSE test: 12410.8984375\nEpoch: 3760, RMSE test: 12406.6513671875\nEpoch: 3770, RMSE test: 12402.3935546875\nEpoch: 3780, RMSE test: 12398.126953125\nEpoch: 3790, RMSE test: 12393.8505859375\nEpoch: 3800, RMSE test: 12389.564453125\nEpoch: 3810, RMSE test: 12385.26953125\nEpoch: 3820, RMSE test: 12380.9658203125\nEpoch: 3830, RMSE test: 12376.6513671875\nEpoch: 3840, RMSE test: 12372.328125\nEpoch: 3850, RMSE test: 12367.9970703125\nEpoch: 3860, RMSE test: 12363.6552734375\nEpoch: 3870, RMSE test: 12359.3046875\nEpoch: 3880, RMSE test: 12354.9462890625\nEpoch: 3890, RMSE test: 12350.5771484375\nEpoch: 3900, RMSE test: 12346.201171875\nEpoch: 3910, RMSE test: 12341.8154296875\nEpoch: 3920, RMSE test: 12337.4208984375\nEpoch: 3930, RMSE test: 12333.017578125\nEpoch: 3940, RMSE test: 12328.6064453125\nEpoch: 3950, RMSE test: 12324.1865234375\nEpoch: 3960, RMSE test: 12319.7587890625\nEpoch: 3970, RMSE test: 12315.322265625\nEpoch: 3980, RMSE test: 12310.876953125\nEpoch: 3990, RMSE test: 12306.4228515625\nEpoch: 4000, RMSE test: 12301.9619140625\nEpoch: 4010, RMSE test: 12297.4921875\nEpoch: 4020, RMSE test: 12293.013671875\nEpoch: 4030, RMSE test: 12288.5283203125\nEpoch: 4040, RMSE test: 12284.0341796875\nEpoch: 4050, RMSE test: 12279.533203125\nEpoch: 4060, RMSE test: 12275.0234375\nEpoch: 4070, RMSE test: 12270.505859375\nEpoch: 4080, RMSE test: 12265.98046875\nEpoch: 4090, RMSE test: 12261.4482421875\nEpoch: 4100, RMSE test: 12256.9072265625\nEpoch: 4110, RMSE test: 12252.359375\nEpoch: 4120, RMSE test: 12247.8037109375\nEpoch: 4130, RMSE test: 12243.240234375\nEpoch: 4140, RMSE test: 12238.6689453125\nEpoch: 4150, RMSE test: 12234.0908203125\nEpoch: 4160, RMSE test: 12229.505859375\nEpoch: 4170, RMSE test: 12224.9130859375\nEpoch: 4180, RMSE test: 12220.3125\n"
    },
    {
     "name": "stdout",
     "output_type": "stream",
     "text": "Epoch: 4190, RMSE test: 12215.705078125\nEpoch: 4200, RMSE test: 12211.0908203125\nEpoch: 4210, RMSE test: 12206.46875\nEpoch: 4220, RMSE test: 12201.83984375\nEpoch: 4230, RMSE test: 12197.2041015625\nEpoch: 4240, RMSE test: 12192.5595703125\nEpoch: 4250, RMSE test: 12187.91015625\nEpoch: 4260, RMSE test: 12183.2529296875\nEpoch: 4270, RMSE test: 12178.5888671875\nEpoch: 4280, RMSE test: 12173.91796875\nEpoch: 4290, RMSE test: 12169.2392578125\nEpoch: 4300, RMSE test: 12164.5546875\nEpoch: 4310, RMSE test: 12159.86328125\nEpoch: 4320, RMSE test: 12155.1640625\nEpoch: 4330, RMSE test: 12150.458984375\nEpoch: 4340, RMSE test: 12145.748046875\nEpoch: 4350, RMSE test: 12141.029296875\nEpoch: 4360, RMSE test: 12136.3037109375\nEpoch: 4370, RMSE test: 12131.5712890625\nEpoch: 4380, RMSE test: 12126.8330078125\nEpoch: 4390, RMSE test: 12122.087890625\nEpoch: 4400, RMSE test: 12117.3359375\nEpoch: 4410, RMSE test: 12112.578125\nEpoch: 4420, RMSE test: 12107.8134765625\nEpoch: 4430, RMSE test: 12103.0419921875\nEpoch: 4440, RMSE test: 12098.263671875\nEpoch: 4450, RMSE test: 12093.4794921875\nEpoch: 4460, RMSE test: 12088.6884765625\nEpoch: 4470, RMSE test: 12083.8916015625\nEpoch: 4480, RMSE test: 12079.0888671875\nEpoch: 4490, RMSE test: 12074.2783203125\nEpoch: 4500, RMSE test: 12069.462890625\nEpoch: 4510, RMSE test: 12064.6396484375\nEpoch: 4520, RMSE test: 12059.8115234375\nEpoch: 4530, RMSE test: 12054.9765625\nEpoch: 4540, RMSE test: 12050.1357421875\nEpoch: 4550, RMSE test: 12045.2880859375\nEpoch: 4560, RMSE test: 12040.435546875\nEpoch: 4570, RMSE test: 12035.576171875\nEpoch: 4580, RMSE test: 12030.7099609375\nEpoch: 4590, RMSE test: 12025.837890625\nEpoch: 4600, RMSE test: 12020.9599609375\nEpoch: 4610, RMSE test: 12016.076171875\nEpoch: 4620, RMSE test: 12011.1865234375\nEpoch: 4630, RMSE test: 12006.2900390625\nEpoch: 4640, RMSE test: 12001.3876953125\nEpoch: 4650, RMSE test: 11996.4794921875\nEpoch: 4660, RMSE test: 11991.564453125\nEpoch: 4670, RMSE test: 11986.64453125\nEpoch: 4680, RMSE test: 11981.71875\nEpoch: 4690, RMSE test: 11976.7861328125\nEpoch: 4700, RMSE test: 11971.8486328125\nEpoch: 4710, RMSE test: 11966.904296875\nEpoch: 4720, RMSE test: 11961.955078125\nEpoch: 4730, RMSE test: 11957.0\nEpoch: 4740, RMSE test: 11952.037109375\nEpoch: 4750, RMSE test: 11947.0703125\nEpoch: 4760, RMSE test: 11942.0966796875\nEpoch: 4770, RMSE test: 11937.1181640625\nEpoch: 4780, RMSE test: 11932.1337890625\nEpoch: 4790, RMSE test: 11927.142578125\nEpoch: 4800, RMSE test: 11922.146484375\nEpoch: 4810, RMSE test: 11917.1435546875\nEpoch: 4820, RMSE test: 11912.13671875\nEpoch: 4830, RMSE test: 11907.123046875\nEpoch: 4840, RMSE test: 11902.1044921875\nEpoch: 4850, RMSE test: 11897.0791015625\nEpoch: 4860, RMSE test: 11892.048828125\nEpoch: 4870, RMSE test: 11887.0126953125\nEpoch: 4880, RMSE test: 11881.970703125\nEpoch: 4890, RMSE test: 11876.923828125\nEpoch: 4900, RMSE test: 11871.87109375\nEpoch: 4910, RMSE test: 11866.8125\nEpoch: 4920, RMSE test: 11861.7490234375\nEpoch: 4930, RMSE test: 11856.6796875\nEpoch: 4940, RMSE test: 11851.6044921875\nEpoch: 4950, RMSE test: 11846.5234375\nEpoch: 4960, RMSE test: 11841.4375\nEpoch: 4970, RMSE test: 11836.345703125\nEpoch: 4980, RMSE test: 11831.2490234375\nEpoch: 4990, RMSE test: 11826.146484375\nEpoch: 5000, RMSE test: 11821.0380859375\nEpoch: 5010, RMSE test: 11815.9248046875\nEpoch: 5020, RMSE test: 11810.806640625\nEpoch: 5030, RMSE test: 11805.681640625\nEpoch: 5040, RMSE test: 11800.552734375\nEpoch: 5050, RMSE test: 11795.4169921875\nEpoch: 5060, RMSE test: 11790.27734375\nEpoch: 5070, RMSE test: 11785.1318359375\nEpoch: 5080, RMSE test: 11779.98046875\nEpoch: 5090, RMSE test: 11774.82421875\nEpoch: 5100, RMSE test: 11769.6630859375\nEpoch: 5110, RMSE test: 11764.49609375\nEpoch: 5120, RMSE test: 11759.32421875\nEpoch: 5130, RMSE test: 11754.146484375\nEpoch: 5140, RMSE test: 11748.9638671875\nEpoch: 5150, RMSE test: 11743.7763671875\nEpoch: 5160, RMSE test: 11738.5830078125\nEpoch: 5170, RMSE test: 11733.384765625\nEpoch: 5180, RMSE test: 11728.181640625\nEpoch: 5190, RMSE test: 11722.97265625\nEpoch: 5200, RMSE test: 11717.7587890625\nEpoch: 5210, RMSE test: 11712.5400390625\nEpoch: 5220, RMSE test: 11707.31640625\nEpoch: 5230, RMSE test: 11702.0869140625\nEpoch: 5240, RMSE test: 11696.8525390625\nEpoch: 5250, RMSE test: 11691.6142578125\nEpoch: 5260, RMSE test: 11686.369140625\nEpoch: 5270, RMSE test: 11681.1201171875\nEpoch: 5280, RMSE test: 11675.865234375\nEpoch: 5290, RMSE test: 11670.6064453125\nEpoch: 5300, RMSE test: 11665.341796875\nEpoch: 5310, RMSE test: 11660.0712890625\nEpoch: 5320, RMSE test: 11654.7978515625\nEpoch: 5330, RMSE test: 11649.5185546875\nEpoch: 5340, RMSE test: 11644.2333984375\nEpoch: 5350, RMSE test: 11638.9443359375\nEpoch: 5360, RMSE test: 11633.650390625\nEpoch: 5370, RMSE test: 11628.3505859375\nEpoch: 5380, RMSE test: 11623.046875\nEpoch: 5390, RMSE test: 11617.7373046875\nEpoch: 5400, RMSE test: 11612.4248046875\nEpoch: 5410, RMSE test: 11607.10546875\nEpoch: 5420, RMSE test: 11601.7822265625\nEpoch: 5430, RMSE test: 11596.453125\nEpoch: 5440, RMSE test: 11591.1201171875\nEpoch: 5450, RMSE test: 11585.7822265625\nEpoch: 5460, RMSE test: 11580.439453125\nEpoch: 5470, RMSE test: 11575.0908203125\nEpoch: 5480, RMSE test: 11569.7392578125\nEpoch: 5490, RMSE test: 11564.3818359375\nEpoch: 5500, RMSE test: 11559.0205078125\nEpoch: 5510, RMSE test: 11553.6533203125\nEpoch: 5520, RMSE test: 11548.2822265625\nEpoch: 5530, RMSE test: 11542.9072265625\nEpoch: 5540, RMSE test: 11537.525390625\nEpoch: 5550, RMSE test: 11532.140625\nEpoch: 5560, RMSE test: 11526.75\nEpoch: 5570, RMSE test: 11521.35546875\nEpoch: 5580, RMSE test: 11515.9560546875\nEpoch: 5590, RMSE test: 11510.552734375\nEpoch: 5600, RMSE test: 11505.1435546875\nEpoch: 5610, RMSE test: 11499.7314453125\nEpoch: 5620, RMSE test: 11494.3134765625\nEpoch: 5630, RMSE test: 11488.890625\nEpoch: 5640, RMSE test: 11483.4638671875\nEpoch: 5650, RMSE test: 11478.033203125\nEpoch: 5660, RMSE test: 11472.5966796875\nEpoch: 5670, RMSE test: 11467.15625\nEpoch: 5680, RMSE test: 11461.7109375\nEpoch: 5690, RMSE test: 11456.2626953125\nEpoch: 5700, RMSE test: 11450.80859375\nEpoch: 5710, RMSE test: 11445.3505859375\nEpoch: 5720, RMSE test: 11439.8876953125\nEpoch: 5730, RMSE test: 11434.4208984375\nEpoch: 5740, RMSE test: 11428.94921875\nEpoch: 5750, RMSE test: 11423.47265625\nEpoch: 5760, RMSE test: 11417.9931640625\nEpoch: 5770, RMSE test: 11412.5087890625\nEpoch: 5780, RMSE test: 11407.01953125\nEpoch: 5790, RMSE test: 11401.525390625\nEpoch: 5800, RMSE test: 11396.0283203125\nEpoch: 5810, RMSE test: 11390.5263671875\nEpoch: 5820, RMSE test: 11385.0205078125\nEpoch: 5830, RMSE test: 11379.509765625\nEpoch: 5840, RMSE test: 11373.994140625\nEpoch: 5850, RMSE test: 11368.4755859375\nEpoch: 5860, RMSE test: 11362.953125\nEpoch: 5870, RMSE test: 11357.4248046875\nEpoch: 5880, RMSE test: 11351.892578125\nEpoch: 5890, RMSE test: 11346.3564453125\nEpoch: 5900, RMSE test: 11340.81640625\nEpoch: 5910, RMSE test: 11335.2724609375\nEpoch: 5920, RMSE test: 11329.7236328125\nEpoch: 5930, RMSE test: 11324.171875\nEpoch: 5940, RMSE test: 11318.615234375\nEpoch: 5950, RMSE test: 11313.0537109375\nEpoch: 5960, RMSE test: 11307.48828125\nEpoch: 5970, RMSE test: 11301.9189453125\nEpoch: 5980, RMSE test: 11296.345703125\nEpoch: 5990, RMSE test: 11290.76953125\nEpoch: 6000, RMSE test: 11285.1875\nEpoch: 6010, RMSE test: 11279.6015625\nEpoch: 6020, RMSE test: 11274.0126953125\nEpoch: 6030, RMSE test: 11268.419921875\nEpoch: 6040, RMSE test: 11262.822265625\nEpoch: 6050, RMSE test: 11257.2197265625\nEpoch: 6060, RMSE test: 11251.615234375\nEpoch: 6070, RMSE test: 11246.005859375\nEpoch: 6080, RMSE test: 11240.392578125\nEpoch: 6090, RMSE test: 11234.775390625\nEpoch: 6100, RMSE test: 11229.154296875\nEpoch: 6110, RMSE test: 11223.529296875\nEpoch: 6120, RMSE test: 11217.900390625\nEpoch: 6130, RMSE test: 11212.2685546875\nEpoch: 6140, RMSE test: 11206.630859375\nEpoch: 6150, RMSE test: 11200.990234375\nEpoch: 6160, RMSE test: 11195.3466796875\nEpoch: 6170, RMSE test: 11189.6982421875\nEpoch: 6180, RMSE test: 11184.046875\nEpoch: 6190, RMSE test: 11178.390625\nEpoch: 6200, RMSE test: 11172.7314453125\nEpoch: 6210, RMSE test: 11167.068359375\nEpoch: 6220, RMSE test: 11161.4013671875\nEpoch: 6230, RMSE test: 11155.73046875\nEpoch: 6240, RMSE test: 11150.056640625\nEpoch: 6250, RMSE test: 11144.3779296875\nEpoch: 6260, RMSE test: 11138.697265625\nEpoch: 6270, RMSE test: 11133.0107421875\n"
    },
    {
     "name": "stdout",
     "output_type": "stream",
     "text": "Epoch: 6280, RMSE test: 11127.322265625\nEpoch: 6290, RMSE test: 11121.6298828125\nEpoch: 6300, RMSE test: 11115.9326171875\nEpoch: 6310, RMSE test: 11110.232421875\nEpoch: 6320, RMSE test: 11104.529296875\nEpoch: 6330, RMSE test: 11098.822265625\nEpoch: 6340, RMSE test: 11093.111328125\nEpoch: 6350, RMSE test: 11087.396484375\nEpoch: 6360, RMSE test: 11081.6796875\nEpoch: 6370, RMSE test: 11075.9580078125\nEpoch: 6380, RMSE test: 11070.232421875\nEpoch: 6390, RMSE test: 11064.5048828125\nEpoch: 6400, RMSE test: 11058.7724609375\nEpoch: 6410, RMSE test: 11053.037109375\nEpoch: 6420, RMSE test: 11047.298828125\nEpoch: 6430, RMSE test: 11041.556640625\nEpoch: 6440, RMSE test: 11035.810546875\nEpoch: 6450, RMSE test: 11030.0615234375\nEpoch: 6460, RMSE test: 11024.30859375\nEpoch: 6470, RMSE test: 11018.552734375\nEpoch: 6480, RMSE test: 11012.7939453125\nEpoch: 6490, RMSE test: 11007.0322265625\nEpoch: 6500, RMSE test: 11001.2646484375\nEpoch: 6510, RMSE test: 10995.49609375\nEpoch: 6520, RMSE test: 10989.7236328125\nEpoch: 6530, RMSE test: 10983.947265625\nEpoch: 6540, RMSE test: 10978.1689453125\nEpoch: 6550, RMSE test: 10972.3857421875\nEpoch: 6560, RMSE test: 10966.6005859375\nEpoch: 6570, RMSE test: 10960.810546875\nEpoch: 6580, RMSE test: 10955.0185546875\nEpoch: 6590, RMSE test: 10949.2236328125\nEpoch: 6600, RMSE test: 10943.4248046875\nEpoch: 6610, RMSE test: 10937.623046875\nEpoch: 6620, RMSE test: 10931.8173828125\nEpoch: 6630, RMSE test: 10926.009765625\nEpoch: 6640, RMSE test: 10920.1982421875\nEpoch: 6650, RMSE test: 10914.3837890625\nEpoch: 6660, RMSE test: 10908.5673828125\nEpoch: 6670, RMSE test: 10902.74609375\nEpoch: 6680, RMSE test: 10896.921875\nEpoch: 6690, RMSE test: 10891.095703125\nEpoch: 6700, RMSE test: 10885.265625\nEpoch: 6710, RMSE test: 10879.4326171875\nEpoch: 6720, RMSE test: 10873.5966796875\nEpoch: 6730, RMSE test: 10867.7578125\nEpoch: 6740, RMSE test: 10861.916015625\nEpoch: 6750, RMSE test: 10856.0703125\nEpoch: 6760, RMSE test: 10850.22265625\nEpoch: 6770, RMSE test: 10844.3720703125\nEpoch: 6780, RMSE test: 10838.51953125\nEpoch: 6790, RMSE test: 10832.662109375\nEpoch: 6800, RMSE test: 10826.8017578125\nEpoch: 6810, RMSE test: 10820.9404296875\nEpoch: 6820, RMSE test: 10815.07421875\nEpoch: 6830, RMSE test: 10809.2060546875\nEpoch: 6840, RMSE test: 10803.3349609375\nEpoch: 6850, RMSE test: 10797.4609375\nEpoch: 6860, RMSE test: 10791.5849609375\nEpoch: 6870, RMSE test: 10785.705078125\nEpoch: 6880, RMSE test: 10779.822265625\nEpoch: 6890, RMSE test: 10773.9375\nEpoch: 6900, RMSE test: 10768.0498046875\nEpoch: 6910, RMSE test: 10762.1591796875\nEpoch: 6920, RMSE test: 10756.265625\nEpoch: 6930, RMSE test: 10750.369140625\nEpoch: 6940, RMSE test: 10744.4697265625\nEpoch: 6950, RMSE test: 10738.568359375\nEpoch: 6960, RMSE test: 10732.6640625\nEpoch: 6970, RMSE test: 10726.7578125\nEpoch: 6980, RMSE test: 10720.84765625\nEpoch: 6990, RMSE test: 10714.9365234375\nEpoch: 7000, RMSE test: 10709.021484375\nEpoch: 7010, RMSE test: 10703.103515625\nEpoch: 7020, RMSE test: 10697.18359375\nEpoch: 7030, RMSE test: 10691.26171875\nEpoch: 7040, RMSE test: 10685.3359375\nEpoch: 7050, RMSE test: 10679.4091796875\nEpoch: 7060, RMSE test: 10673.478515625\nEpoch: 7070, RMSE test: 10667.5458984375\nEpoch: 7080, RMSE test: 10661.611328125\nEpoch: 7090, RMSE test: 10655.6728515625\nEpoch: 7100, RMSE test: 10649.732421875\nEpoch: 7110, RMSE test: 10643.7900390625\nEpoch: 7120, RMSE test: 10637.8447265625\nEpoch: 7130, RMSE test: 10631.8974609375\nEpoch: 7140, RMSE test: 10625.947265625\nEpoch: 7150, RMSE test: 10619.99609375\nEpoch: 7160, RMSE test: 10614.0400390625\nEpoch: 7170, RMSE test: 10608.0830078125\nEpoch: 7180, RMSE test: 10602.1240234375\nEpoch: 7190, RMSE test: 10596.162109375\nEpoch: 7200, RMSE test: 10590.19921875\nEpoch: 7210, RMSE test: 10584.232421875\nEpoch: 7220, RMSE test: 10578.2626953125\nEpoch: 7230, RMSE test: 10572.29296875\nEpoch: 7240, RMSE test: 10566.3193359375\nEpoch: 7250, RMSE test: 10560.34375\nEpoch: 7260, RMSE test: 10554.3662109375\nEpoch: 7270, RMSE test: 10548.3857421875\nEpoch: 7280, RMSE test: 10542.404296875\nEpoch: 7290, RMSE test: 10536.4189453125\nEpoch: 7300, RMSE test: 10530.4326171875\nEpoch: 7310, RMSE test: 10524.4443359375\nEpoch: 7320, RMSE test: 10518.453125\nEpoch: 7330, RMSE test: 10512.4599609375\nEpoch: 7340, RMSE test: 10506.46484375\nEpoch: 7350, RMSE test: 10500.466796875\nEpoch: 7360, RMSE test: 10494.4677734375\nEpoch: 7370, RMSE test: 10488.466796875\nEpoch: 7380, RMSE test: 10482.4638671875\nEpoch: 7390, RMSE test: 10476.45703125\nEpoch: 7400, RMSE test: 10470.44921875\nEpoch: 7410, RMSE test: 10464.4404296875\nEpoch: 7420, RMSE test: 10458.4287109375\nEpoch: 7430, RMSE test: 10452.4150390625\nEpoch: 7440, RMSE test: 10446.3994140625\nEpoch: 7450, RMSE test: 10440.3818359375\nEpoch: 7460, RMSE test: 10434.3623046875\nEpoch: 7470, RMSE test: 10428.33984375\nEpoch: 7480, RMSE test: 10422.3173828125\nEpoch: 7490, RMSE test: 10416.2919921875\nEpoch: 7500, RMSE test: 10410.2646484375\nEpoch: 7510, RMSE test: 10404.2353515625\nEpoch: 7520, RMSE test: 10398.2041015625\nEpoch: 7530, RMSE test: 10392.1708984375\nEpoch: 7540, RMSE test: 10386.13671875\nEpoch: 7550, RMSE test: 10380.099609375\nEpoch: 7560, RMSE test: 10374.0615234375\nEpoch: 7570, RMSE test: 10368.021484375\nEpoch: 7580, RMSE test: 10361.9794921875\nEpoch: 7590, RMSE test: 10355.935546875\nEpoch: 7600, RMSE test: 10349.890625\nEpoch: 7610, RMSE test: 10343.8427734375\nEpoch: 7620, RMSE test: 10337.7939453125\nEpoch: 7630, RMSE test: 10331.7431640625\nEpoch: 7640, RMSE test: 10325.6904296875\nEpoch: 7650, RMSE test: 10319.63671875\nEpoch: 7660, RMSE test: 10313.580078125\nEpoch: 7670, RMSE test: 10307.5234375\nEpoch: 7680, RMSE test: 10301.4638671875\nEpoch: 7690, RMSE test: 10295.4033203125\nEpoch: 7700, RMSE test: 10289.3408203125\nEpoch: 7710, RMSE test: 10283.2763671875\nEpoch: 7720, RMSE test: 10277.2109375\nEpoch: 7730, RMSE test: 10271.1435546875\nEpoch: 7740, RMSE test: 10265.07421875\nEpoch: 7750, RMSE test: 10259.0048828125\nEpoch: 7760, RMSE test: 10252.9326171875\nEpoch: 7770, RMSE test: 10246.8583984375\nEpoch: 7780, RMSE test: 10240.7841796875\nEpoch: 7790, RMSE test: 10234.70703125\nEpoch: 7800, RMSE test: 10228.62890625\nEpoch: 7810, RMSE test: 10222.5498046875\nEpoch: 7820, RMSE test: 10216.46875\nEpoch: 7830, RMSE test: 10210.3857421875\nEpoch: 7840, RMSE test: 10204.3017578125\nEpoch: 7850, RMSE test: 10198.216796875\nEpoch: 7860, RMSE test: 10192.12890625\nEpoch: 7870, RMSE test: 10186.041015625\nEpoch: 7880, RMSE test: 10179.9521484375\nEpoch: 7890, RMSE test: 10173.8603515625\nEpoch: 7900, RMSE test: 10167.767578125\nEpoch: 7910, RMSE test: 10161.673828125\nEpoch: 7920, RMSE test: 10155.5791015625\nEpoch: 7930, RMSE test: 10149.482421875\nEpoch: 7940, RMSE test: 10143.384765625\nEpoch: 7950, RMSE test: 10137.28515625\nEpoch: 7960, RMSE test: 10131.1845703125\nEpoch: 7970, RMSE test: 10125.0830078125\nEpoch: 7980, RMSE test: 10118.9794921875\nEpoch: 7990, RMSE test: 10112.875\nEpoch: 8000, RMSE test: 10106.76953125\nEpoch: 8010, RMSE test: 10100.662109375\nEpoch: 8020, RMSE test: 10094.5537109375\nEpoch: 8030, RMSE test: 10088.4443359375\nEpoch: 8040, RMSE test: 10082.333984375\nEpoch: 8050, RMSE test: 10076.2216796875\nEpoch: 8060, RMSE test: 10070.109375\nEpoch: 8070, RMSE test: 10063.994140625\nEpoch: 8080, RMSE test: 10057.87890625\nEpoch: 8090, RMSE test: 10051.7626953125\nEpoch: 8100, RMSE test: 10045.64453125\nEpoch: 8110, RMSE test: 10039.525390625\nEpoch: 8120, RMSE test: 10033.4052734375\nEpoch: 8130, RMSE test: 10027.2841796875\nEpoch: 8140, RMSE test: 10021.1611328125\nEpoch: 8150, RMSE test: 10015.0380859375\nEpoch: 8160, RMSE test: 10008.9130859375\nEpoch: 8170, RMSE test: 10002.787109375\nEpoch: 8180, RMSE test: 9996.66015625\nEpoch: 8190, RMSE test: 9990.5322265625\nEpoch: 8200, RMSE test: 9984.4033203125\nEpoch: 8210, RMSE test: 9978.2724609375\nEpoch: 8220, RMSE test: 9972.1416015625\nEpoch: 8230, RMSE test: 9966.009765625\nEpoch: 8240, RMSE test: 9959.8759765625\nEpoch: 8250, RMSE test: 9953.7412109375\nEpoch: 8260, RMSE test: 9947.60546875\nEpoch: 8270, RMSE test: 9941.46875\nEpoch: 8280, RMSE test: 9935.33203125\nEpoch: 8290, RMSE test: 9929.193359375\nEpoch: 8300, RMSE test: 9923.0546875\nEpoch: 8310, RMSE test: 9916.9140625\nEpoch: 8320, RMSE test: 9910.771484375\nEpoch: 8330, RMSE test: 9904.6298828125\nEpoch: 8340, RMSE test: 9898.486328125\nEpoch: 8350, RMSE test: 9892.341796875\nEpoch: 8360, RMSE test: 9886.197265625\nEpoch: 8370, RMSE test: 9880.0498046875\n"
    },
    {
     "name": "stdout",
     "output_type": "stream",
     "text": "Epoch: 8380, RMSE test: 9873.90234375\nEpoch: 8390, RMSE test: 9867.75390625\nEpoch: 8400, RMSE test: 9861.60546875\nEpoch: 8410, RMSE test: 9855.4541015625\nEpoch: 8420, RMSE test: 9849.3037109375\nEpoch: 8430, RMSE test: 9843.15234375\nEpoch: 8440, RMSE test: 9836.9990234375\nEpoch: 8450, RMSE test: 9830.8447265625\nEpoch: 8460, RMSE test: 9824.6904296875\nEpoch: 8470, RMSE test: 9818.53515625\nEpoch: 8480, RMSE test: 9812.37890625\nEpoch: 8490, RMSE test: 9806.220703125\nEpoch: 8500, RMSE test: 9800.0625\nEpoch: 8510, RMSE test: 9793.9033203125\nEpoch: 8520, RMSE test: 9787.7431640625\nEpoch: 8530, RMSE test: 9781.5810546875\nEpoch: 8540, RMSE test: 9775.4189453125\nEpoch: 8550, RMSE test: 9769.2578125\nEpoch: 8560, RMSE test: 9763.09375\nEpoch: 8570, RMSE test: 9756.9296875\nEpoch: 8580, RMSE test: 9750.763671875\nEpoch: 8590, RMSE test: 9744.59765625\nEpoch: 8600, RMSE test: 9738.4306640625\nEpoch: 8610, RMSE test: 9732.2626953125\nEpoch: 8620, RMSE test: 9726.09375\nEpoch: 8630, RMSE test: 9719.923828125\nEpoch: 8640, RMSE test: 9713.75390625\nEpoch: 8650, RMSE test: 9707.5830078125\nEpoch: 8660, RMSE test: 9701.4111328125\nEpoch: 8670, RMSE test: 9695.2373046875\nEpoch: 8680, RMSE test: 9689.0634765625\nEpoch: 8690, RMSE test: 9682.8896484375\nEpoch: 8700, RMSE test: 9676.7138671875\nEpoch: 8710, RMSE test: 9670.5380859375\nEpoch: 8720, RMSE test: 9664.361328125\nEpoch: 8730, RMSE test: 9658.1826171875\nEpoch: 8740, RMSE test: 9652.00390625\nEpoch: 8750, RMSE test: 9645.8251953125\nEpoch: 8760, RMSE test: 9639.64453125\nEpoch: 8770, RMSE test: 9633.462890625\nEpoch: 8780, RMSE test: 9627.2822265625\nEpoch: 8790, RMSE test: 9621.0986328125\nEpoch: 8800, RMSE test: 9614.9150390625\nEpoch: 8810, RMSE test: 9608.73046875\nEpoch: 8820, RMSE test: 9602.5458984375\nEpoch: 8830, RMSE test: 9596.359375\nEpoch: 8840, RMSE test: 9590.1728515625\nEpoch: 8850, RMSE test: 9583.986328125\nEpoch: 8860, RMSE test: 9577.7978515625\nEpoch: 8870, RMSE test: 9571.6083984375\nEpoch: 8880, RMSE test: 9565.4189453125\nEpoch: 8890, RMSE test: 9559.2275390625\nEpoch: 8900, RMSE test: 9553.037109375\nEpoch: 8910, RMSE test: 9546.8447265625\nEpoch: 8920, RMSE test: 9540.65234375\nEpoch: 8930, RMSE test: 9534.4580078125\nEpoch: 8940, RMSE test: 9528.2646484375\nEpoch: 8950, RMSE test: 9522.0693359375\nEpoch: 8960, RMSE test: 9515.873046875\nEpoch: 8970, RMSE test: 9509.6767578125\nEpoch: 8980, RMSE test: 9503.4794921875\nEpoch: 8990, RMSE test: 9497.28125\nEpoch: 9000, RMSE test: 9491.0830078125\nEpoch: 9010, RMSE test: 9484.8837890625\nEpoch: 9020, RMSE test: 9478.68359375\nEpoch: 9030, RMSE test: 9472.4814453125\nEpoch: 9040, RMSE test: 9466.28125\nEpoch: 9050, RMSE test: 9460.078125\nEpoch: 9060, RMSE test: 9453.875\nEpoch: 9070, RMSE test: 9447.671875\nEpoch: 9080, RMSE test: 9441.466796875\nEpoch: 9090, RMSE test: 9435.26171875\nEpoch: 9100, RMSE test: 9429.056640625\nEpoch: 9110, RMSE test: 9422.8505859375\nEpoch: 9120, RMSE test: 9416.642578125\nEpoch: 9130, RMSE test: 9410.435546875\nEpoch: 9140, RMSE test: 9404.2265625\nEpoch: 9150, RMSE test: 9398.0185546875\nEpoch: 9160, RMSE test: 9391.80859375\nEpoch: 9170, RMSE test: 9385.5986328125\nEpoch: 9180, RMSE test: 9379.3876953125\nEpoch: 9190, RMSE test: 9373.1767578125\nEpoch: 9200, RMSE test: 9366.96484375\nEpoch: 9210, RMSE test: 9360.751953125\nEpoch: 9220, RMSE test: 9354.5390625\nEpoch: 9230, RMSE test: 9348.3251953125\nEpoch: 9240, RMSE test: 9342.1103515625\nEpoch: 9250, RMSE test: 9335.896484375\nEpoch: 9260, RMSE test: 9329.6806640625\nEpoch: 9270, RMSE test: 9323.46484375\nEpoch: 9280, RMSE test: 9317.248046875\nEpoch: 9290, RMSE test: 9311.0322265625\nEpoch: 9300, RMSE test: 9304.814453125\nEpoch: 9310, RMSE test: 9298.5966796875\nEpoch: 9320, RMSE test: 9292.37890625\nEpoch: 9330, RMSE test: 9286.1591796875\nEpoch: 9340, RMSE test: 9279.9404296875\nEpoch: 9350, RMSE test: 9273.720703125\nEpoch: 9360, RMSE test: 9267.5009765625\nEpoch: 9370, RMSE test: 9261.2802734375\nEpoch: 9380, RMSE test: 9255.0595703125\nEpoch: 9390, RMSE test: 9248.8388671875\nEpoch: 9400, RMSE test: 9242.6171875\nEpoch: 9410, RMSE test: 9236.3955078125\nEpoch: 9420, RMSE test: 9230.1728515625\nEpoch: 9430, RMSE test: 9223.9501953125\nEpoch: 9440, RMSE test: 9217.7265625\nEpoch: 9450, RMSE test: 9211.5048828125\nEpoch: 9460, RMSE test: 9205.2802734375\nEpoch: 9470, RMSE test: 9199.056640625\nEpoch: 9480, RMSE test: 9192.8330078125\nEpoch: 9490, RMSE test: 9186.609375\nEpoch: 9500, RMSE test: 9180.384765625\nEpoch: 9510, RMSE test: 9174.1591796875\nEpoch: 9520, RMSE test: 9167.9345703125\nEpoch: 9530, RMSE test: 9161.708984375\nEpoch: 9540, RMSE test: 9155.4833984375\nEpoch: 9550, RMSE test: 9149.2587890625\nEpoch: 9560, RMSE test: 9143.033203125\nEpoch: 9570, RMSE test: 9136.806640625\nEpoch: 9580, RMSE test: 9130.58203125\nEpoch: 9590, RMSE test: 9124.35546875\nEpoch: 9600, RMSE test: 9118.12890625\nEpoch: 9610, RMSE test: 9111.9033203125\nEpoch: 9620, RMSE test: 9105.677734375\nEpoch: 9630, RMSE test: 9099.4501953125\nEpoch: 9640, RMSE test: 9093.2255859375\nEpoch: 9650, RMSE test: 9086.9990234375\nEpoch: 9660, RMSE test: 9080.7724609375\nEpoch: 9670, RMSE test: 9074.5458984375\nEpoch: 9680, RMSE test: 9068.3193359375\nEpoch: 9690, RMSE test: 9062.09375\nEpoch: 9700, RMSE test: 9055.8681640625\nEpoch: 9710, RMSE test: 9049.642578125\nEpoch: 9720, RMSE test: 9043.416015625\nEpoch: 9730, RMSE test: 9037.1904296875\nEpoch: 9740, RMSE test: 9030.96484375\nEpoch: 9750, RMSE test: 9024.740234375\nEpoch: 9760, RMSE test: 9018.5146484375\nEpoch: 9770, RMSE test: 9012.2900390625\nEpoch: 9780, RMSE test: 9006.0654296875\nEpoch: 9790, RMSE test: 8999.8408203125\nEpoch: 9800, RMSE test: 8993.6162109375\nEpoch: 9810, RMSE test: 8987.3916015625\nEpoch: 9820, RMSE test: 8981.16796875\nEpoch: 9830, RMSE test: 8974.9453125\nEpoch: 9840, RMSE test: 8968.7216796875\nEpoch: 9850, RMSE test: 8962.4990234375\nEpoch: 9860, RMSE test: 8956.2763671875\nEpoch: 9870, RMSE test: 8950.0546875\nEpoch: 9880, RMSE test: 8943.8330078125\nEpoch: 9890, RMSE test: 8937.611328125\nEpoch: 9900, RMSE test: 8931.390625\nEpoch: 9910, RMSE test: 8925.1708984375\nEpoch: 9920, RMSE test: 8918.9501953125\nEpoch: 9930, RMSE test: 8912.7314453125\nEpoch: 9940, RMSE test: 8906.51171875\nEpoch: 9950, RMSE test: 8900.2939453125\nEpoch: 9960, RMSE test: 8894.0751953125\nEpoch: 9970, RMSE test: 8887.857421875\nEpoch: 9980, RMSE test: 8881.6416015625\nEpoch: 9990, RMSE test: 8875.4248046875\nEpoch: 10000, RMSE test: 8869.2080078125\nEpoch: 10010, RMSE test: 8862.994140625\nEpoch: 10020, RMSE test: 8856.779296875\nEpoch: 10030, RMSE test: 8850.5654296875\nEpoch: 10040, RMSE test: 8844.3525390625\nEpoch: 10050, RMSE test: 8838.1396484375\nEpoch: 10060, RMSE test: 8831.927734375\nEpoch: 10070, RMSE test: 8825.716796875\nEpoch: 10080, RMSE test: 8819.5068359375\nEpoch: 10090, RMSE test: 8813.296875\nEpoch: 10100, RMSE test: 8807.0888671875\nEpoch: 10110, RMSE test: 8800.880859375\nEpoch: 10120, RMSE test: 8794.6728515625\nEpoch: 10130, RMSE test: 8788.466796875\nEpoch: 10140, RMSE test: 8782.2607421875\nEpoch: 10150, RMSE test: 8776.056640625\nEpoch: 10160, RMSE test: 8769.8525390625\nEpoch: 10170, RMSE test: 8763.650390625\nEpoch: 10180, RMSE test: 8757.447265625\nEpoch: 10190, RMSE test: 8751.24609375\nEpoch: 10200, RMSE test: 8745.046875\nEpoch: 10210, RMSE test: 8738.84765625\nEpoch: 10220, RMSE test: 8732.6494140625\nEpoch: 10230, RMSE test: 8726.4521484375\nEpoch: 10240, RMSE test: 8720.255859375\nEpoch: 10250, RMSE test: 8714.0615234375\nEpoch: 10260, RMSE test: 8707.8671875\nEpoch: 10270, RMSE test: 8701.673828125\nEpoch: 10280, RMSE test: 8695.4814453125\nEpoch: 10290, RMSE test: 8689.291015625\nEpoch: 10300, RMSE test: 8683.1015625\nEpoch: 10310, RMSE test: 8676.9130859375\nEpoch: 10320, RMSE test: 8670.7255859375\nEpoch: 10330, RMSE test: 8664.5400390625\nEpoch: 10340, RMSE test: 8658.3544921875\nEpoch: 10350, RMSE test: 8652.1708984375\nEpoch: 10360, RMSE test: 8645.98828125\nEpoch: 10370, RMSE test: 8639.806640625\nEpoch: 10380, RMSE test: 8633.626953125\nEpoch: 10390, RMSE test: 8627.4482421875\nEpoch: 10400, RMSE test: 8621.2705078125\nEpoch: 10410, RMSE test: 8615.09375\nEpoch: 10420, RMSE test: 8608.9189453125\nEpoch: 10430, RMSE test: 8602.74609375\nEpoch: 10440, RMSE test: 8596.57421875\nEpoch: 10450, RMSE test: 8590.40234375\nEpoch: 10460, RMSE test: 8584.2333984375\nEpoch: 10470, RMSE test: 8578.0654296875\nEpoch: 10480, RMSE test: 8571.8984375\nEpoch: 10490, RMSE test: 8565.7333984375\n"
    },
    {
     "name": "stdout",
     "output_type": "stream",
     "text": "Epoch: 10500, RMSE test: 8559.5703125\nEpoch: 10510, RMSE test: 8553.408203125\nEpoch: 10520, RMSE test: 8547.2470703125\nEpoch: 10530, RMSE test: 8541.087890625\nEpoch: 10540, RMSE test: 8534.9296875\nEpoch: 10550, RMSE test: 8528.7744140625\nEpoch: 10560, RMSE test: 8522.6201171875\nEpoch: 10570, RMSE test: 8516.4677734375\nEpoch: 10580, RMSE test: 8510.3154296875\nEpoch: 10590, RMSE test: 8504.166015625\nEpoch: 10600, RMSE test: 8498.017578125\nEpoch: 10610, RMSE test: 8491.87109375\nEpoch: 10620, RMSE test: 8485.7265625\nEpoch: 10630, RMSE test: 8479.5830078125\nEpoch: 10640, RMSE test: 8473.44140625\nEpoch: 10650, RMSE test: 8467.3017578125\nEpoch: 10660, RMSE test: 8461.1630859375\nEpoch: 10670, RMSE test: 8455.0283203125\nEpoch: 10680, RMSE test: 8448.8935546875\nEpoch: 10690, RMSE test: 8442.759765625\nEpoch: 10700, RMSE test: 8436.62890625\nEpoch: 10710, RMSE test: 8430.4990234375\nEpoch: 10720, RMSE test: 8424.3720703125\nEpoch: 10730, RMSE test: 8418.24609375\nEpoch: 10740, RMSE test: 8412.123046875\nEpoch: 10750, RMSE test: 8406.0009765625\nEpoch: 10760, RMSE test: 8399.8818359375\nEpoch: 10770, RMSE test: 8393.763671875\nEpoch: 10780, RMSE test: 8387.646484375\nEpoch: 10790, RMSE test: 8381.5322265625\nEpoch: 10800, RMSE test: 8375.4208984375\nEpoch: 10810, RMSE test: 8369.3095703125\nEpoch: 10820, RMSE test: 8363.2021484375\nEpoch: 10830, RMSE test: 8357.0947265625\nEpoch: 10840, RMSE test: 8350.990234375\nEpoch: 10850, RMSE test: 8344.8876953125\nEpoch: 10860, RMSE test: 8338.7880859375\nEpoch: 10870, RMSE test: 8332.6884765625\nEpoch: 10880, RMSE test: 8326.5927734375\nEpoch: 10890, RMSE test: 8320.4990234375\nEpoch: 10900, RMSE test: 8314.40625\nEpoch: 10910, RMSE test: 8308.31640625\nEpoch: 10920, RMSE test: 8302.228515625\nEpoch: 10930, RMSE test: 8296.1416015625\nEpoch: 10940, RMSE test: 8290.05859375\nEpoch: 10950, RMSE test: 8283.9765625\nEpoch: 10960, RMSE test: 8277.896484375\nEpoch: 10970, RMSE test: 8271.8193359375\nEpoch: 10980, RMSE test: 8265.744140625\nEpoch: 10990, RMSE test: 8259.671875\nEpoch: 11000, RMSE test: 8253.6005859375\nEpoch: 11010, RMSE test: 8247.5322265625\nEpoch: 11020, RMSE test: 8241.466796875\nEpoch: 11030, RMSE test: 8235.40234375\nEpoch: 11040, RMSE test: 8229.3408203125\nEpoch: 11050, RMSE test: 8223.2802734375\nEpoch: 11060, RMSE test: 8217.2236328125\nEpoch: 11070, RMSE test: 8211.1689453125\nEpoch: 11080, RMSE test: 8205.1162109375\nEpoch: 11090, RMSE test: 8199.0654296875\nEpoch: 11100, RMSE test: 8193.0185546875\nEpoch: 11110, RMSE test: 8186.97265625\nEpoch: 11120, RMSE test: 8180.9296875\nEpoch: 11130, RMSE test: 8174.88818359375\nEpoch: 11140, RMSE test: 8168.85009765625\nEpoch: 11150, RMSE test: 8162.81396484375\nEpoch: 11160, RMSE test: 8156.78076171875\nEpoch: 11170, RMSE test: 8150.7490234375\nEpoch: 11180, RMSE test: 8144.720703125\nEpoch: 11190, RMSE test: 8138.69384765625\nEpoch: 11200, RMSE test: 8132.6708984375\nEpoch: 11210, RMSE test: 8126.64892578125\nEpoch: 11220, RMSE test: 8120.62939453125\nEpoch: 11230, RMSE test: 8114.61376953125\nEpoch: 11240, RMSE test: 8108.59912109375\nEpoch: 11250, RMSE test: 8102.58740234375\nEpoch: 11260, RMSE test: 8096.57861328125\nEpoch: 11270, RMSE test: 8090.572265625\nEpoch: 11280, RMSE test: 8084.56884765625\nEpoch: 11290, RMSE test: 8078.56689453125\nEpoch: 11300, RMSE test: 8072.568359375\nEpoch: 11310, RMSE test: 8066.572265625\nEpoch: 11320, RMSE test: 8060.5791015625\nEpoch: 11330, RMSE test: 8054.58740234375\nEpoch: 11340, RMSE test: 8048.59912109375\nEpoch: 11350, RMSE test: 8042.61328125\nEpoch: 11360, RMSE test: 8036.62939453125\nEpoch: 11370, RMSE test: 8030.6494140625\nEpoch: 11380, RMSE test: 8024.6708984375\nEpoch: 11390, RMSE test: 8018.6953125\nEpoch: 11400, RMSE test: 8012.72265625\nEpoch: 11410, RMSE test: 8006.75244140625\nEpoch: 11420, RMSE test: 8000.78564453125\nEpoch: 11430, RMSE test: 7994.8212890625\nEpoch: 11440, RMSE test: 7988.8583984375\nEpoch: 11450, RMSE test: 7982.89892578125\nEpoch: 11460, RMSE test: 7976.94287109375\nEpoch: 11470, RMSE test: 7970.98828125\nEpoch: 11480, RMSE test: 7965.03662109375\nEpoch: 11490, RMSE test: 7959.0888671875\nEpoch: 11500, RMSE test: 7953.14208984375\nEpoch: 11510, RMSE test: 7947.19970703125\nEpoch: 11520, RMSE test: 7941.25927734375\nEpoch: 11530, RMSE test: 7935.3212890625\nEpoch: 11540, RMSE test: 7929.38623046875\nEpoch: 11550, RMSE test: 7923.4541015625\nEpoch: 11560, RMSE test: 7917.52490234375\nEpoch: 11570, RMSE test: 7911.59765625\nEpoch: 11580, RMSE test: 7905.67431640625\nEpoch: 11590, RMSE test: 7899.75244140625\nEpoch: 11600, RMSE test: 7893.83447265625\nEpoch: 11610, RMSE test: 7887.9189453125\nEpoch: 11620, RMSE test: 7882.005859375\nEpoch: 11630, RMSE test: 7876.095703125\nEpoch: 11640, RMSE test: 7870.18896484375\nEpoch: 11650, RMSE test: 7864.28466796875\nEpoch: 11660, RMSE test: 7858.38330078125\nEpoch: 11670, RMSE test: 7852.48486328125\nEpoch: 11680, RMSE test: 7846.58837890625\nEpoch: 11690, RMSE test: 7840.69580078125\nEpoch: 11700, RMSE test: 7834.80419921875\nEpoch: 11710, RMSE test: 7828.91748046875\nEpoch: 11720, RMSE test: 7823.03271484375\nEpoch: 11730, RMSE test: 7817.1513671875\nEpoch: 11740, RMSE test: 7811.27197265625\nEpoch: 11750, RMSE test: 7805.39599609375\nEpoch: 11760, RMSE test: 7799.52294921875\nEpoch: 11770, RMSE test: 7793.65185546875\nEpoch: 11780, RMSE test: 7787.78466796875\nEpoch: 11790, RMSE test: 7781.919921875\nEpoch: 11800, RMSE test: 7776.05859375\nEpoch: 11810, RMSE test: 7770.19873046875\nEpoch: 11820, RMSE test: 7764.3427734375\nEpoch: 11830, RMSE test: 7758.48974609375\nEpoch: 11840, RMSE test: 7752.63916015625\nEpoch: 11850, RMSE test: 7746.79150390625\nEpoch: 11860, RMSE test: 7740.94677734375\nEpoch: 11870, RMSE test: 7735.1044921875\nEpoch: 11880, RMSE test: 7729.265625\nEpoch: 11890, RMSE test: 7723.43017578125\nEpoch: 11900, RMSE test: 7717.59619140625\nEpoch: 11910, RMSE test: 7711.765625\nEpoch: 11920, RMSE test: 7705.93798828125\nEpoch: 11930, RMSE test: 7700.11328125\nEpoch: 11940, RMSE test: 7694.2919921875\nEpoch: 11950, RMSE test: 7688.47314453125\nEpoch: 11960, RMSE test: 7682.65673828125\nEpoch: 11970, RMSE test: 7676.84375\nEpoch: 11980, RMSE test: 7671.033203125\nEpoch: 11990, RMSE test: 7665.2255859375\nEpoch: 12000, RMSE test: 7659.4208984375\nEpoch: 12010, RMSE test: 7653.61865234375\nEpoch: 12020, RMSE test: 7647.81982421875\nEpoch: 12030, RMSE test: 7642.02392578125\nEpoch: 12040, RMSE test: 7636.23095703125\nEpoch: 12050, RMSE test: 7630.4404296875\nEpoch: 12060, RMSE test: 7624.65283203125\nEpoch: 12070, RMSE test: 7618.8681640625\nEpoch: 12080, RMSE test: 7613.08642578125\nEpoch: 12090, RMSE test: 7607.30712890625\nEpoch: 12100, RMSE test: 7601.53076171875\nEpoch: 12110, RMSE test: 7595.7578125\nEpoch: 12120, RMSE test: 7589.98681640625\nEpoch: 12130, RMSE test: 7584.2197265625\nEpoch: 12140, RMSE test: 7578.4541015625\nEpoch: 12150, RMSE test: 7572.6923828125\nEpoch: 12160, RMSE test: 7566.93310546875\nEpoch: 12170, RMSE test: 7561.1767578125\nEpoch: 12180, RMSE test: 7555.42333984375\nEpoch: 12190, RMSE test: 7549.671875\nEpoch: 12200, RMSE test: 7543.923828125\nEpoch: 12210, RMSE test: 7538.17822265625\nEpoch: 12220, RMSE test: 7532.4365234375\nEpoch: 12230, RMSE test: 7526.69677734375\nEpoch: 12240, RMSE test: 7520.95947265625\nEpoch: 12250, RMSE test: 7515.22607421875\nEpoch: 12260, RMSE test: 7509.494140625\nEpoch: 12270, RMSE test: 7503.765625\nEpoch: 12280, RMSE test: 7498.0400390625\nEpoch: 12290, RMSE test: 7492.31689453125\nEpoch: 12300, RMSE test: 7486.59619140625\nEpoch: 12310, RMSE test: 7480.87939453125\nEpoch: 12320, RMSE test: 7475.1640625\nEpoch: 12330, RMSE test: 7469.4521484375\nEpoch: 12340, RMSE test: 7463.74267578125\nEpoch: 12350, RMSE test: 7458.0361328125\nEpoch: 12360, RMSE test: 7452.33203125\nEpoch: 12370, RMSE test: 7446.63134765625\nEpoch: 12380, RMSE test: 7440.9326171875\nEpoch: 12390, RMSE test: 7435.236328125\nEpoch: 12400, RMSE test: 7429.5439453125\nEpoch: 12410, RMSE test: 7423.853515625\nEpoch: 12420, RMSE test: 7418.166015625\nEpoch: 12430, RMSE test: 7412.48095703125\nEpoch: 12440, RMSE test: 7406.798828125\nEpoch: 12450, RMSE test: 7401.11865234375\nEpoch: 12460, RMSE test: 7395.44189453125\nEpoch: 12470, RMSE test: 7389.767578125\nEpoch: 12480, RMSE test: 7384.095703125\nEpoch: 12490, RMSE test: 7378.4267578125\nEpoch: 12500, RMSE test: 7372.76025390625\nEpoch: 12510, RMSE test: 7367.0966796875\nEpoch: 12520, RMSE test: 7361.435546875\nEpoch: 12530, RMSE test: 7355.77685546875\nEpoch: 12540, RMSE test: 7350.12060546875\nEpoch: 12550, RMSE test: 7344.46826171875\nEpoch: 12560, RMSE test: 7338.81689453125\nEpoch: 12570, RMSE test: 7333.16943359375\n"
    },
    {
     "name": "stdout",
     "output_type": "stream",
     "text": "Epoch: 12580, RMSE test: 7327.52392578125\nEpoch: 12590, RMSE test: 7321.880859375\nEpoch: 12600, RMSE test: 7316.24072265625\nEpoch: 12610, RMSE test: 7310.6025390625\nEpoch: 12620, RMSE test: 7304.96728515625\nEpoch: 12630, RMSE test: 7299.33544921875\nEpoch: 12640, RMSE test: 7293.705078125\nEpoch: 12650, RMSE test: 7288.07763671875\nEpoch: 12660, RMSE test: 7282.453125\nEpoch: 12670, RMSE test: 7276.8310546875\nEpoch: 12680, RMSE test: 7271.2109375\nEpoch: 12690, RMSE test: 7265.59375\nEpoch: 12700, RMSE test: 7259.97900390625\nEpoch: 12710, RMSE test: 7254.3671875\nEpoch: 12720, RMSE test: 7248.75732421875\nEpoch: 12730, RMSE test: 7243.150390625\nEpoch: 12740, RMSE test: 7237.54541015625\nEpoch: 12750, RMSE test: 7231.94384765625\nEpoch: 12760, RMSE test: 7226.34423828125\nEpoch: 12770, RMSE test: 7220.74755859375\nEpoch: 12780, RMSE test: 7215.15283203125\nEpoch: 12790, RMSE test: 7209.5615234375\nEpoch: 12800, RMSE test: 7203.97216796875\nEpoch: 12810, RMSE test: 7198.38525390625\nEpoch: 12820, RMSE test: 7192.80078125\nEpoch: 12830, RMSE test: 7187.2197265625\nEpoch: 12840, RMSE test: 7181.64013671875\nEpoch: 12850, RMSE test: 7176.0634765625\nEpoch: 12860, RMSE test: 7170.4892578125\nEpoch: 12870, RMSE test: 7164.91748046875\nEpoch: 12880, RMSE test: 7159.3486328125\nEpoch: 12890, RMSE test: 7153.78173828125\nEpoch: 12900, RMSE test: 7148.2177734375\nEpoch: 12910, RMSE test: 7142.65625\nEpoch: 12920, RMSE test: 7137.09765625\nEpoch: 12930, RMSE test: 7131.541015625\nEpoch: 12940, RMSE test: 7125.9873046875\nEpoch: 12950, RMSE test: 7120.43603515625\nEpoch: 12960, RMSE test: 7114.88720703125\nEpoch: 12970, RMSE test: 7109.34130859375\nEpoch: 12980, RMSE test: 7103.79736328125\nEpoch: 12990, RMSE test: 7098.255859375\nEpoch: 13000, RMSE test: 7092.7177734375\nEpoch: 13010, RMSE test: 7087.181640625\nEpoch: 13020, RMSE test: 7081.6484375\nEpoch: 13030, RMSE test: 7076.11865234375\nEpoch: 13040, RMSE test: 7070.58935546875\nEpoch: 13050, RMSE test: 7065.064453125\nEpoch: 13060, RMSE test: 7059.5419921875\nEpoch: 13070, RMSE test: 7054.021484375\nEpoch: 13080, RMSE test: 7048.50439453125\nEpoch: 13090, RMSE test: 7042.98876953125\nEpoch: 13100, RMSE test: 7037.47705078125\nEpoch: 13110, RMSE test: 7031.96728515625\nEpoch: 13120, RMSE test: 7026.4599609375\nEpoch: 13130, RMSE test: 7020.9560546875\nEpoch: 13140, RMSE test: 7015.4541015625\nEpoch: 13150, RMSE test: 7009.95556640625\nEpoch: 13160, RMSE test: 7004.4599609375\nEpoch: 13170, RMSE test: 6998.96630859375\nEpoch: 13180, RMSE test: 6993.4755859375\nEpoch: 13190, RMSE test: 6987.98876953125\nEpoch: 13200, RMSE test: 6982.5029296875\nEpoch: 13210, RMSE test: 6977.021484375\nEpoch: 13220, RMSE test: 6971.54150390625\nEpoch: 13230, RMSE test: 6966.06494140625\nEpoch: 13240, RMSE test: 6960.591796875\nEpoch: 13250, RMSE test: 6955.12060546875\nEpoch: 13260, RMSE test: 6949.65234375\nEpoch: 13270, RMSE test: 6944.1875\nEpoch: 13280, RMSE test: 6938.72607421875\nEpoch: 13290, RMSE test: 6933.2666015625\nEpoch: 13300, RMSE test: 6927.810546875\nEpoch: 13310, RMSE test: 6922.35693359375\nEpoch: 13320, RMSE test: 6916.90673828125\nEpoch: 13330, RMSE test: 6911.4599609375\nEpoch: 13340, RMSE test: 6906.01513671875\nEpoch: 13350, RMSE test: 6900.57421875\nEpoch: 13360, RMSE test: 6895.1357421875\nEpoch: 13370, RMSE test: 6889.701171875\nEpoch: 13380, RMSE test: 6884.26953125\nEpoch: 13390, RMSE test: 6878.84033203125\nEpoch: 13400, RMSE test: 6873.41552734375\nEpoch: 13410, RMSE test: 6867.99267578125\nEpoch: 13420, RMSE test: 6862.57373046875\nEpoch: 13430, RMSE test: 6857.1572265625\nEpoch: 13440, RMSE test: 6851.74462890625\nEpoch: 13450, RMSE test: 6846.33544921875\nEpoch: 13460, RMSE test: 6840.9287109375\nEpoch: 13470, RMSE test: 6835.52587890625\nEpoch: 13480, RMSE test: 6830.1259765625\nEpoch: 13490, RMSE test: 6824.73046875\nEpoch: 13500, RMSE test: 6819.33740234375\nEpoch: 13510, RMSE test: 6813.94775390625\nEpoch: 13520, RMSE test: 6808.5615234375\nEpoch: 13530, RMSE test: 6803.17919921875\nEpoch: 13540, RMSE test: 6797.7998046875\nEpoch: 13550, RMSE test: 6792.423828125\nEpoch: 13560, RMSE test: 6787.05126953125\nEpoch: 13570, RMSE test: 6781.68310546875\nEpoch: 13580, RMSE test: 6776.3173828125\nEpoch: 13590, RMSE test: 6770.9560546875\nEpoch: 13600, RMSE test: 6765.59814453125\nEpoch: 13610, RMSE test: 6760.24365234375\nEpoch: 13620, RMSE test: 6754.892578125\nEpoch: 13630, RMSE test: 6749.5458984375\nEpoch: 13640, RMSE test: 6744.2021484375\nEpoch: 13650, RMSE test: 6738.8623046875\nEpoch: 13660, RMSE test: 6733.52685546875\nEpoch: 13670, RMSE test: 6728.19482421875\nEpoch: 13680, RMSE test: 6722.8662109375\nEpoch: 13690, RMSE test: 6717.54150390625\nEpoch: 13700, RMSE test: 6712.220703125\nEpoch: 13710, RMSE test: 6706.90283203125\nEpoch: 13720, RMSE test: 6701.58984375\nEpoch: 13730, RMSE test: 6696.28076171875\nEpoch: 13740, RMSE test: 6690.974609375\nEpoch: 13750, RMSE test: 6685.673828125\nEpoch: 13760, RMSE test: 6680.3759765625\nEpoch: 13770, RMSE test: 6675.08203125\nEpoch: 13780, RMSE test: 6669.79248046875\nEpoch: 13790, RMSE test: 6664.50634765625\nEpoch: 13800, RMSE test: 6659.22509765625\nEpoch: 13810, RMSE test: 6653.947265625\nEpoch: 13820, RMSE test: 6648.67333984375\nEpoch: 13830, RMSE test: 6643.40380859375\nEpoch: 13840, RMSE test: 6638.13818359375\nEpoch: 13850, RMSE test: 6632.87744140625\nEpoch: 13860, RMSE test: 6627.61962890625\nEpoch: 13870, RMSE test: 6622.3662109375\nEpoch: 13880, RMSE test: 6617.11767578125\nEpoch: 13890, RMSE test: 6611.87255859375\nEpoch: 13900, RMSE test: 6606.63134765625\nEpoch: 13910, RMSE test: 6601.3955078125\nEpoch: 13920, RMSE test: 6596.16259765625\nEpoch: 13930, RMSE test: 6590.9345703125\nEpoch: 13940, RMSE test: 6585.7109375\nEpoch: 13950, RMSE test: 6580.49072265625\nEpoch: 13960, RMSE test: 6575.27587890625\nEpoch: 13970, RMSE test: 6570.064453125\nEpoch: 13980, RMSE test: 6564.85791015625\nEpoch: 13990, RMSE test: 6559.6552734375\nEpoch: 14000, RMSE test: 6554.45703125\nEpoch: 14010, RMSE test: 6549.2626953125\nEpoch: 14020, RMSE test: 6544.07373046875\nEpoch: 14030, RMSE test: 6538.88818359375\nEpoch: 14040, RMSE test: 6533.70751953125\nEpoch: 14050, RMSE test: 6528.53076171875\nEpoch: 14060, RMSE test: 6523.35888671875\nEpoch: 14070, RMSE test: 6518.19091796875\nEpoch: 14080, RMSE test: 6513.0283203125\nEpoch: 14090, RMSE test: 6507.86962890625\nEpoch: 14100, RMSE test: 6502.71533203125\nEpoch: 14110, RMSE test: 6497.5654296875\nEpoch: 14120, RMSE test: 6492.419921875\nEpoch: 14130, RMSE test: 6487.27880859375\nEpoch: 14140, RMSE test: 6482.14208984375\nEpoch: 14150, RMSE test: 6477.01025390625\nEpoch: 14160, RMSE test: 6471.8828125\nEpoch: 14170, RMSE test: 6466.759765625\nEpoch: 14180, RMSE test: 6461.64111328125\nEpoch: 14190, RMSE test: 6456.52734375\nEpoch: 14200, RMSE test: 6451.41796875\nEpoch: 14210, RMSE test: 6446.31298828125\nEpoch: 14220, RMSE test: 6441.21240234375\nEpoch: 14230, RMSE test: 6436.11669921875\nEpoch: 14240, RMSE test: 6431.025390625\nEpoch: 14250, RMSE test: 6425.9384765625\nEpoch: 14260, RMSE test: 6420.8564453125\nEpoch: 14270, RMSE test: 6415.77880859375\nEpoch: 14280, RMSE test: 6410.70556640625\nEpoch: 14290, RMSE test: 6405.6376953125\nEpoch: 14300, RMSE test: 6400.57421875\nEpoch: 14310, RMSE test: 6395.51513671875\nEpoch: 14320, RMSE test: 6390.4599609375\nEpoch: 14330, RMSE test: 6385.41064453125\nEpoch: 14340, RMSE test: 6380.36572265625\nEpoch: 14350, RMSE test: 6375.32568359375\nEpoch: 14360, RMSE test: 6370.28955078125\nEpoch: 14370, RMSE test: 6365.25830078125\nEpoch: 14380, RMSE test: 6360.232421875\nEpoch: 14390, RMSE test: 6355.21044921875\nEpoch: 14400, RMSE test: 6350.193359375\nEpoch: 14410, RMSE test: 6345.18115234375\nEpoch: 14420, RMSE test: 6340.173828125\nEpoch: 14430, RMSE test: 6335.17138671875\nEpoch: 14440, RMSE test: 6330.1728515625\nEpoch: 14450, RMSE test: 6325.17919921875\nEpoch: 14460, RMSE test: 6320.19091796875\nEpoch: 14470, RMSE test: 6315.20703125\nEpoch: 14480, RMSE test: 6310.22900390625\nEpoch: 14490, RMSE test: 6305.25390625\nEpoch: 14500, RMSE test: 6300.28466796875\nEpoch: 14510, RMSE test: 6295.3203125\nEpoch: 14520, RMSE test: 6290.3603515625\nEpoch: 14530, RMSE test: 6285.40576171875\nEpoch: 14540, RMSE test: 6280.45556640625\nEpoch: 14550, RMSE test: 6275.5107421875\nEpoch: 14560, RMSE test: 6270.57080078125\nEpoch: 14570, RMSE test: 6265.63525390625\n"
    },
    {
     "name": "stdout",
     "output_type": "stream",
     "text": "Epoch: 14580, RMSE test: 6260.705078125\nEpoch: 14590, RMSE test: 6255.779296875\nEpoch: 14600, RMSE test: 6250.859375\nEpoch: 14610, RMSE test: 6245.943359375\nEpoch: 14620, RMSE test: 6241.03271484375\nEpoch: 14630, RMSE test: 6236.12646484375\nEpoch: 14640, RMSE test: 6231.22607421875\nEpoch: 14650, RMSE test: 6226.3310546875\nEpoch: 14660, RMSE test: 6221.43994140625\nEpoch: 14670, RMSE test: 6216.5537109375\nEpoch: 14680, RMSE test: 6211.6728515625\nEpoch: 14690, RMSE test: 6206.79638671875\nEpoch: 14700, RMSE test: 6201.92578125\nEpoch: 14710, RMSE test: 6197.06005859375\nEpoch: 14720, RMSE test: 6192.19970703125\nEpoch: 14730, RMSE test: 6187.34375\nEpoch: 14740, RMSE test: 6182.49365234375\nEpoch: 14750, RMSE test: 6177.64794921875\nEpoch: 14760, RMSE test: 6172.8076171875\nEpoch: 14770, RMSE test: 6167.9716796875\nEpoch: 14780, RMSE test: 6163.142578125\nEpoch: 14790, RMSE test: 6158.31689453125\nEpoch: 14800, RMSE test: 6153.49755859375\nEpoch: 14810, RMSE test: 6148.6826171875\nEpoch: 14820, RMSE test: 6143.87353515625\nEpoch: 14830, RMSE test: 6139.068359375\nEpoch: 14840, RMSE test: 6134.26953125\nEpoch: 14850, RMSE test: 6129.4755859375\nEpoch: 14860, RMSE test: 6124.68701171875\nEpoch: 14870, RMSE test: 6119.90380859375\nEpoch: 14880, RMSE test: 6115.12548828125\nEpoch: 14890, RMSE test: 6110.35205078125\nEpoch: 14900, RMSE test: 6105.58447265625\nEpoch: 14910, RMSE test: 6100.82373046875\nEpoch: 14920, RMSE test: 6096.06640625\nEpoch: 14930, RMSE test: 6091.314453125\nEpoch: 14940, RMSE test: 6086.5673828125\nEpoch: 14950, RMSE test: 6081.82666015625\nEpoch: 14960, RMSE test: 6077.09033203125\nEpoch: 14970, RMSE test: 6072.35986328125\nEpoch: 14980, RMSE test: 6067.6357421875\nEpoch: 14990, RMSE test: 6062.91650390625\nEpoch: 15000, RMSE test: 6058.2021484375\nEpoch: 15010, RMSE test: 6053.4921875\nEpoch: 15020, RMSE test: 6048.78857421875\nEpoch: 15030, RMSE test: 6044.0908203125\nEpoch: 15040, RMSE test: 6039.3984375\nEpoch: 15050, RMSE test: 6034.71142578125\nEpoch: 15060, RMSE test: 6030.029296875\nEpoch: 15070, RMSE test: 6025.3525390625\nEpoch: 15080, RMSE test: 6020.681640625\nEpoch: 15090, RMSE test: 6016.0166015625\nEpoch: 15100, RMSE test: 6011.3564453125\nEpoch: 15110, RMSE test: 6006.703125\nEpoch: 15120, RMSE test: 6002.05419921875\nEpoch: 15130, RMSE test: 5997.41064453125\nEpoch: 15140, RMSE test: 5992.7724609375\nEpoch: 15150, RMSE test: 5988.14013671875\nEpoch: 15160, RMSE test: 5983.513671875\nEpoch: 15170, RMSE test: 5978.89306640625\nEpoch: 15180, RMSE test: 5974.27734375\nEpoch: 15190, RMSE test: 5969.66748046875\nEpoch: 15200, RMSE test: 5965.0634765625\nEpoch: 15210, RMSE test: 5960.46484375\nEpoch: 15220, RMSE test: 5955.87109375\nEpoch: 15230, RMSE test: 5951.28369140625\nEpoch: 15240, RMSE test: 5946.70263671875\nEpoch: 15250, RMSE test: 5942.1259765625\nEpoch: 15260, RMSE test: 5937.5556640625\nEpoch: 15270, RMSE test: 5932.99072265625\nEpoch: 15280, RMSE test: 5928.431640625\nEpoch: 15290, RMSE test: 5923.87890625\nEpoch: 15300, RMSE test: 5919.33056640625\nEpoch: 15310, RMSE test: 5914.7890625\nEpoch: 15320, RMSE test: 5910.2529296875\nEpoch: 15330, RMSE test: 5905.72216796875\nEpoch: 15340, RMSE test: 5901.197265625\nEpoch: 15350, RMSE test: 5896.6787109375\nEpoch: 15360, RMSE test: 5892.16552734375\nEpoch: 15370, RMSE test: 5887.65771484375\nEpoch: 15380, RMSE test: 5883.15625\nEpoch: 15390, RMSE test: 5878.66015625\nEpoch: 15400, RMSE test: 5874.1708984375\nEpoch: 15410, RMSE test: 5869.6865234375\nEpoch: 15420, RMSE test: 5865.2080078125\nEpoch: 15430, RMSE test: 5860.7353515625\nEpoch: 15440, RMSE test: 5856.26904296875\nEpoch: 15450, RMSE test: 5851.80810546875\nEpoch: 15460, RMSE test: 5847.35302734375\nEpoch: 15470, RMSE test: 5842.904296875\nEpoch: 15480, RMSE test: 5838.4609375\nEpoch: 15490, RMSE test: 5834.0244140625\nEpoch: 15500, RMSE test: 5829.5927734375\nEpoch: 15510, RMSE test: 5825.16796875\nEpoch: 15520, RMSE test: 5820.74853515625\nEpoch: 15530, RMSE test: 5816.33544921875\nEpoch: 15540, RMSE test: 5811.927734375\nEpoch: 15550, RMSE test: 5807.5263671875\nEpoch: 15560, RMSE test: 5803.13134765625\nEpoch: 15570, RMSE test: 5798.7421875\nEpoch: 15580, RMSE test: 5794.3583984375\nEpoch: 15590, RMSE test: 5789.98193359375\nEpoch: 15600, RMSE test: 5785.611328125\nEpoch: 15610, RMSE test: 5781.24658203125\nEpoch: 15620, RMSE test: 5776.8876953125\nEpoch: 15630, RMSE test: 5772.53515625\nEpoch: 15640, RMSE test: 5768.18896484375\nEpoch: 15650, RMSE test: 5763.84912109375\nEpoch: 15660, RMSE test: 5759.51513671875\nEpoch: 15670, RMSE test: 5755.18701171875\nEpoch: 15680, RMSE test: 5750.86572265625\nEpoch: 15690, RMSE test: 5746.55029296875\nEpoch: 15700, RMSE test: 5742.2421875\nEpoch: 15710, RMSE test: 5737.93896484375\nEpoch: 15720, RMSE test: 5733.64306640625\nEpoch: 15730, RMSE test: 5729.3525390625\nEpoch: 15740, RMSE test: 5725.06884765625\nEpoch: 15750, RMSE test: 5720.79150390625\nEpoch: 15760, RMSE test: 5716.52099609375\nEpoch: 15770, RMSE test: 5712.25634765625\nEpoch: 15780, RMSE test: 5707.99853515625\nEpoch: 15790, RMSE test: 5703.74658203125\nEpoch: 15800, RMSE test: 5699.50146484375\nEpoch: 15810, RMSE test: 5695.2626953125\nEpoch: 15820, RMSE test: 5691.03076171875\nEpoch: 15830, RMSE test: 5686.8046875\nEpoch: 15840, RMSE test: 5682.5859375\nEpoch: 15850, RMSE test: 5678.373046875\nEpoch: 15860, RMSE test: 5674.16650390625\nEpoch: 15870, RMSE test: 5669.9677734375\nEpoch: 15880, RMSE test: 5665.77490234375\nEpoch: 15890, RMSE test: 5661.58837890625\nEpoch: 15900, RMSE test: 5657.40869140625\nEpoch: 15910, RMSE test: 5653.236328125\nEpoch: 15920, RMSE test: 5649.0693359375\nEpoch: 15930, RMSE test: 5644.91015625\nEpoch: 15940, RMSE test: 5640.75732421875\nEpoch: 15950, RMSE test: 5636.61083984375\nEpoch: 15960, RMSE test: 5632.47119140625\nEpoch: 15970, RMSE test: 5628.3388671875\nEpoch: 15980, RMSE test: 5624.21337890625\nEpoch: 15990, RMSE test: 5620.09375\nEpoch: 16000, RMSE test: 5615.9814453125\nEpoch: 16010, RMSE test: 5611.87646484375\nEpoch: 16020, RMSE test: 5607.7783203125\nEpoch: 16030, RMSE test: 5603.68603515625\nEpoch: 16040, RMSE test: 5599.60107421875\nEpoch: 16050, RMSE test: 5595.5234375\nEpoch: 16060, RMSE test: 5591.45263671875\nEpoch: 16070, RMSE test: 5587.38818359375\nEpoch: 16080, RMSE test: 5583.33154296875\nEpoch: 16090, RMSE test: 5579.28125\nEpoch: 16100, RMSE test: 5575.23779296875\nEpoch: 16110, RMSE test: 5571.20166015625\nEpoch: 16120, RMSE test: 5567.17236328125\nEpoch: 16130, RMSE test: 5563.150390625\nEpoch: 16140, RMSE test: 5559.13525390625\nEpoch: 16150, RMSE test: 5555.126953125\nEpoch: 16160, RMSE test: 5551.1259765625\nEpoch: 16170, RMSE test: 5547.1328125\nEpoch: 16180, RMSE test: 5543.14599609375\nEpoch: 16190, RMSE test: 5539.166015625\nEpoch: 16200, RMSE test: 5535.193359375\nEpoch: 16210, RMSE test: 5531.228515625\nEpoch: 16220, RMSE test: 5527.2705078125\nEpoch: 16230, RMSE test: 5523.31884765625\nEpoch: 16240, RMSE test: 5519.375\nEpoch: 16250, RMSE test: 5515.4384765625\nEpoch: 16260, RMSE test: 5511.509765625\nEpoch: 16270, RMSE test: 5507.58642578125\nEpoch: 16280, RMSE test: 5503.671875\nEpoch: 16290, RMSE test: 5499.763671875\nEpoch: 16300, RMSE test: 5495.86328125\nEpoch: 16310, RMSE test: 5491.9697265625\nEpoch: 16320, RMSE test: 5488.083984375\nEpoch: 16330, RMSE test: 5484.205078125\nEpoch: 16340, RMSE test: 5480.33349609375\nEpoch: 16350, RMSE test: 5476.4697265625\nEpoch: 16360, RMSE test: 5472.6123046875\nEpoch: 16370, RMSE test: 5468.7626953125\nEpoch: 16380, RMSE test: 5464.92041015625\nEpoch: 16390, RMSE test: 5461.0859375\nEpoch: 16400, RMSE test: 5457.2578125\nEpoch: 16410, RMSE test: 5453.4375\nEpoch: 16420, RMSE test: 5449.62451171875\nEpoch: 16430, RMSE test: 5445.81884765625\nEpoch: 16440, RMSE test: 5442.02099609375\nEpoch: 16450, RMSE test: 5438.23046875\nEpoch: 16460, RMSE test: 5434.4462890625\nEpoch: 16470, RMSE test: 5430.6708984375\nEpoch: 16480, RMSE test: 5426.90234375\nEpoch: 16490, RMSE test: 5423.140625\nEpoch: 16500, RMSE test: 5419.38671875\nEpoch: 16510, RMSE test: 5415.64111328125\nEpoch: 16520, RMSE test: 5411.90185546875\nEpoch: 16530, RMSE test: 5408.16943359375\nEpoch: 16540, RMSE test: 5404.44580078125\nEpoch: 16550, RMSE test: 5400.72900390625\nEpoch: 16560, RMSE test: 5397.0205078125\nEpoch: 16570, RMSE test: 5393.31884765625\nEpoch: 16580, RMSE test: 5389.6240234375\nEpoch: 16590, RMSE test: 5385.9365234375\n"
    },
    {
     "name": "stdout",
     "output_type": "stream",
     "text": "Epoch: 16600, RMSE test: 5382.25830078125\nEpoch: 16610, RMSE test: 5378.58544921875\nEpoch: 16620, RMSE test: 5374.92138671875\nEpoch: 16630, RMSE test: 5371.2646484375\nEpoch: 16640, RMSE test: 5367.61572265625\nEpoch: 16650, RMSE test: 5363.9736328125\nEpoch: 16660, RMSE test: 5360.33837890625\nEpoch: 16670, RMSE test: 5356.7119140625\nEpoch: 16680, RMSE test: 5353.0927734375\nEpoch: 16690, RMSE test: 5349.48095703125\nEpoch: 16700, RMSE test: 5345.8759765625\nEpoch: 16710, RMSE test: 5342.279296875\nEpoch: 16720, RMSE test: 5338.6904296875\nEpoch: 16730, RMSE test: 5335.1083984375\nEpoch: 16740, RMSE test: 5331.5341796875\nEpoch: 16750, RMSE test: 5327.96826171875\nEpoch: 16760, RMSE test: 5324.40869140625\nEpoch: 16770, RMSE test: 5320.85693359375\nEpoch: 16780, RMSE test: 5317.31298828125\nEpoch: 16790, RMSE test: 5313.7763671875\nEpoch: 16800, RMSE test: 5310.248046875\nEpoch: 16810, RMSE test: 5306.72705078125\nEpoch: 16820, RMSE test: 5303.212890625\nEpoch: 16830, RMSE test: 5299.70654296875\nEpoch: 16840, RMSE test: 5296.20849609375\nEpoch: 16850, RMSE test: 5292.71728515625\nEpoch: 16860, RMSE test: 5289.2333984375\nEpoch: 16870, RMSE test: 5285.75830078125\nEpoch: 16880, RMSE test: 5282.28955078125\nEpoch: 16890, RMSE test: 5278.8291015625\nEpoch: 16900, RMSE test: 5275.3759765625\nEpoch: 16910, RMSE test: 5271.93115234375\nEpoch: 16920, RMSE test: 5268.4931640625\nEpoch: 16930, RMSE test: 5265.0634765625\nEpoch: 16940, RMSE test: 5261.64013671875\nEpoch: 16950, RMSE test: 5258.2255859375\nEpoch: 16960, RMSE test: 5254.81787109375\nEpoch: 16970, RMSE test: 5251.41845703125\nEpoch: 16980, RMSE test: 5248.0263671875\nEpoch: 16990, RMSE test: 5244.64208984375\nEpoch: 17000, RMSE test: 5241.265625\nEpoch: 17010, RMSE test: 5237.896484375\nEpoch: 17020, RMSE test: 5234.5341796875\nEpoch: 17030, RMSE test: 5231.18115234375\nEpoch: 17040, RMSE test: 5227.83544921875\nEpoch: 17050, RMSE test: 5224.4970703125\nEpoch: 17060, RMSE test: 5221.166015625\nEpoch: 17070, RMSE test: 5217.8427734375\nEpoch: 17080, RMSE test: 5214.52734375\nEpoch: 17090, RMSE test: 5211.21923828125\nEpoch: 17100, RMSE test: 5207.9189453125\nEpoch: 17110, RMSE test: 5204.62646484375\nEpoch: 17120, RMSE test: 5201.341796875\nEpoch: 17130, RMSE test: 5198.06494140625\nEpoch: 17140, RMSE test: 5194.794921875\nEpoch: 17150, RMSE test: 5191.53369140625\nEpoch: 17160, RMSE test: 5188.27978515625\nEpoch: 17170, RMSE test: 5185.033203125\nEpoch: 17180, RMSE test: 5181.79443359375\nEpoch: 17190, RMSE test: 5178.5634765625\nEpoch: 17200, RMSE test: 5175.3408203125\nEpoch: 17210, RMSE test: 5172.12451171875\nEpoch: 17220, RMSE test: 5168.91748046875\nEpoch: 17230, RMSE test: 5165.716796875\nEpoch: 17240, RMSE test: 5162.52490234375\nEpoch: 17250, RMSE test: 5159.33984375\nEpoch: 17260, RMSE test: 5156.1630859375\nEpoch: 17270, RMSE test: 5152.99365234375\nEpoch: 17280, RMSE test: 5149.83251953125\nEpoch: 17290, RMSE test: 5146.67822265625\nEpoch: 17300, RMSE test: 5143.53271484375\nEpoch: 17310, RMSE test: 5140.39453125\nEpoch: 17320, RMSE test: 5137.26318359375\nEpoch: 17330, RMSE test: 5134.140625\nEpoch: 17340, RMSE test: 5131.025390625\nEpoch: 17350, RMSE test: 5127.91796875\nEpoch: 17360, RMSE test: 5124.81884765625\nEpoch: 17370, RMSE test: 5121.72607421875\nEpoch: 17380, RMSE test: 5118.64208984375\nEpoch: 17390, RMSE test: 5115.56494140625\nEpoch: 17400, RMSE test: 5112.49609375\nEpoch: 17410, RMSE test: 5109.43505859375\nEpoch: 17420, RMSE test: 5106.38134765625\nEpoch: 17430, RMSE test: 5103.3359375\nEpoch: 17440, RMSE test: 5100.2978515625\nEpoch: 17450, RMSE test: 5097.267578125\nEpoch: 17460, RMSE test: 5094.24560546875\nEpoch: 17470, RMSE test: 5091.23095703125\nEpoch: 17480, RMSE test: 5088.22412109375\nEpoch: 17490, RMSE test: 5085.224609375\nEpoch: 17500, RMSE test: 5082.2333984375\nEpoch: 17510, RMSE test: 5079.24951171875\nEpoch: 17520, RMSE test: 5076.2734375\nEpoch: 17530, RMSE test: 5073.3056640625\nEpoch: 17540, RMSE test: 5070.34521484375\nEpoch: 17550, RMSE test: 5067.392578125\nEpoch: 17560, RMSE test: 5064.44775390625\nEpoch: 17570, RMSE test: 5061.51025390625\nEpoch: 17580, RMSE test: 5058.5810546875\nEpoch: 17590, RMSE test: 5055.65966796875\nEpoch: 17600, RMSE test: 5052.7451171875\nEpoch: 17610, RMSE test: 5049.8388671875\nEpoch: 17620, RMSE test: 5046.9404296875\nEpoch: 17630, RMSE test: 5044.04931640625\nEpoch: 17640, RMSE test: 5041.166015625\nEpoch: 17650, RMSE test: 5038.291015625\nEpoch: 17660, RMSE test: 5035.42236328125\nEpoch: 17670, RMSE test: 5032.56201171875\nEpoch: 17680, RMSE test: 5029.70947265625\nEpoch: 17690, RMSE test: 5026.8642578125\nEpoch: 17700, RMSE test: 5024.0263671875\nEpoch: 17710, RMSE test: 5021.19677734375\nEpoch: 17720, RMSE test: 5018.375\nEpoch: 17730, RMSE test: 5015.5595703125\nEpoch: 17740, RMSE test: 5012.75244140625\nEpoch: 17750, RMSE test: 5009.95263671875\nEpoch: 17760, RMSE test: 5007.1611328125\nEpoch: 17770, RMSE test: 5004.37646484375\nEpoch: 17780, RMSE test: 5001.59912109375\nEpoch: 17790, RMSE test: 4998.830078125\nEpoch: 17800, RMSE test: 4996.06787109375\nEpoch: 17810, RMSE test: 4993.31396484375\nEpoch: 17820, RMSE test: 4990.56640625\nEpoch: 17830, RMSE test: 4987.8271484375\nEpoch: 17840, RMSE test: 4985.09521484375\nEpoch: 17850, RMSE test: 4982.37109375\nEpoch: 17860, RMSE test: 4979.65380859375\nEpoch: 17870, RMSE test: 4976.9443359375\nEpoch: 17880, RMSE test: 4974.24267578125\nEpoch: 17890, RMSE test: 4971.54736328125\nEpoch: 17900, RMSE test: 4968.8603515625\nEpoch: 17910, RMSE test: 4966.18017578125\nEpoch: 17920, RMSE test: 4963.50732421875\nEpoch: 17930, RMSE test: 4960.84228515625\nEpoch: 17940, RMSE test: 4958.18359375\nEpoch: 17950, RMSE test: 4955.533203125\nEpoch: 17960, RMSE test: 4952.8896484375\nEpoch: 17970, RMSE test: 4950.2529296875\nEpoch: 17980, RMSE test: 4947.62353515625\nEpoch: 17990, RMSE test: 4945.00146484375\nEpoch: 18000, RMSE test: 4942.38623046875\nEpoch: 18010, RMSE test: 4939.7783203125\nEpoch: 18020, RMSE test: 4937.177734375\nEpoch: 18030, RMSE test: 4934.583984375\nEpoch: 18040, RMSE test: 4931.99755859375\nEpoch: 18050, RMSE test: 4929.41796875\nEpoch: 18060, RMSE test: 4926.84521484375\nEpoch: 18070, RMSE test: 4924.2802734375\nEpoch: 18080, RMSE test: 4921.7216796875\nEpoch: 18090, RMSE test: 4919.17041015625\nEpoch: 18100, RMSE test: 4916.6259765625\nEpoch: 18110, RMSE test: 4914.087890625\nEpoch: 18120, RMSE test: 4911.5576171875\nEpoch: 18130, RMSE test: 4909.0341796875\nEpoch: 18140, RMSE test: 4906.51708984375\nEpoch: 18150, RMSE test: 4904.0068359375\nEpoch: 18160, RMSE test: 4901.50341796875\nEpoch: 18170, RMSE test: 4899.00732421875\nEpoch: 18180, RMSE test: 4896.51708984375\nEpoch: 18190, RMSE test: 4894.03369140625\nEpoch: 18200, RMSE test: 4891.55712890625\nEpoch: 18210, RMSE test: 4889.08740234375\nEpoch: 18220, RMSE test: 4886.62353515625\nEpoch: 18230, RMSE test: 4884.1669921875\nEpoch: 18240, RMSE test: 4881.716796875\nEpoch: 18250, RMSE test: 4879.27294921875\nEpoch: 18260, RMSE test: 4876.8359375\nEpoch: 18270, RMSE test: 4874.4052734375\nEpoch: 18280, RMSE test: 4871.9814453125\nEpoch: 18290, RMSE test: 4869.5634765625\nEpoch: 18300, RMSE test: 4867.15283203125\nEpoch: 18310, RMSE test: 4864.74755859375\nEpoch: 18320, RMSE test: 4862.349609375\nEpoch: 18330, RMSE test: 4859.95703125\nEpoch: 18340, RMSE test: 4857.572265625\nEpoch: 18350, RMSE test: 4855.1923828125\nEpoch: 18360, RMSE test: 4852.8193359375\nEpoch: 18370, RMSE test: 4850.4521484375\nEpoch: 18380, RMSE test: 4848.09130859375\nEpoch: 18390, RMSE test: 4845.736328125\nEpoch: 18400, RMSE test: 4843.3876953125\nEpoch: 18410, RMSE test: 4841.04541015625\nEpoch: 18420, RMSE test: 4838.708984375\nEpoch: 18430, RMSE test: 4836.37890625\nEpoch: 18440, RMSE test: 4834.0546875\nEpoch: 18450, RMSE test: 4831.736328125\nEpoch: 18460, RMSE test: 4829.423828125\nEpoch: 18470, RMSE test: 4827.11767578125\nEpoch: 18480, RMSE test: 4824.81787109375\nEpoch: 18490, RMSE test: 4822.5234375\nEpoch: 18500, RMSE test: 4820.23486328125\nEpoch: 18510, RMSE test: 4817.9521484375\nEpoch: 18520, RMSE test: 4815.67578125\nEpoch: 18530, RMSE test: 4813.40478515625\nEpoch: 18540, RMSE test: 4811.13916015625\nEpoch: 18550, RMSE test: 4808.8798828125\nEpoch: 18560, RMSE test: 4806.62646484375\nEpoch: 18570, RMSE test: 4804.37841796875\nEpoch: 18580, RMSE test: 4802.1357421875\nEpoch: 18590, RMSE test: 4799.89892578125\nEpoch: 18600, RMSE test: 4797.66796875\nEpoch: 18610, RMSE test: 4795.44287109375\nEpoch: 18620, RMSE test: 4793.22265625\nEpoch: 18630, RMSE test: 4791.0087890625\nEpoch: 18640, RMSE test: 4788.7998046875\n"
    },
    {
     "name": "stdout",
     "output_type": "stream",
     "text": "Epoch: 18650, RMSE test: 4786.5966796875\nEpoch: 18660, RMSE test: 4784.39892578125\nEpoch: 18670, RMSE test: 4782.20703125\nEpoch: 18680, RMSE test: 4780.02001953125\nEpoch: 18690, RMSE test: 4777.8388671875\nEpoch: 18700, RMSE test: 4775.6630859375\nEpoch: 18710, RMSE test: 4773.49267578125\nEpoch: 18720, RMSE test: 4771.3271484375\nEpoch: 18730, RMSE test: 4769.16748046875\nEpoch: 18740, RMSE test: 4767.0126953125\nEpoch: 18750, RMSE test: 4764.86328125\nEpoch: 18760, RMSE test: 4762.71923828125\nEpoch: 18770, RMSE test: 4760.58056640625\nEpoch: 18780, RMSE test: 4758.44677734375\nEpoch: 18790, RMSE test: 4756.318359375\nEpoch: 18800, RMSE test: 4754.19580078125\nEpoch: 18810, RMSE test: 4752.07763671875\nEpoch: 18820, RMSE test: 4749.96435546875\nEpoch: 18830, RMSE test: 4747.85693359375\nEpoch: 18840, RMSE test: 4745.75390625\nEpoch: 18850, RMSE test: 4743.65673828125\nEpoch: 18860, RMSE test: 4741.564453125\nEpoch: 18870, RMSE test: 4739.4765625\nEpoch: 18880, RMSE test: 4737.39404296875\nEpoch: 18890, RMSE test: 4735.31640625\nEpoch: 18900, RMSE test: 4733.244140625\nEpoch: 18910, RMSE test: 4731.17578125\nEpoch: 18920, RMSE test: 4729.11279296875\nEpoch: 18930, RMSE test: 4727.0556640625\nEpoch: 18940, RMSE test: 4725.00244140625\nEpoch: 18950, RMSE test: 4722.95458984375\nEpoch: 18960, RMSE test: 4720.91162109375\nEpoch: 18970, RMSE test: 4718.873046875\nEpoch: 18980, RMSE test: 4716.83984375\nEpoch: 18990, RMSE test: 4714.8115234375\nEpoch: 19000, RMSE test: 4712.787109375\nEpoch: 19010, RMSE test: 4710.76806640625\nEpoch: 19020, RMSE test: 4708.75390625\nEpoch: 19030, RMSE test: 4706.74365234375\nEpoch: 19040, RMSE test: 4704.73828125\nEpoch: 19050, RMSE test: 4702.73828125\nEpoch: 19060, RMSE test: 4700.7421875\nEpoch: 19070, RMSE test: 4698.75146484375\nEpoch: 19080, RMSE test: 4696.76416015625\nEpoch: 19090, RMSE test: 4694.78271484375\nEpoch: 19100, RMSE test: 4692.80517578125\nEpoch: 19110, RMSE test: 4690.83251953125\nEpoch: 19120, RMSE test: 4688.8642578125\nEpoch: 19130, RMSE test: 4686.90087890625\nEpoch: 19140, RMSE test: 4684.94189453125\nEpoch: 19150, RMSE test: 4682.9873046875\nEpoch: 19160, RMSE test: 4681.037109375\nEpoch: 19170, RMSE test: 4679.09130859375\nEpoch: 19180, RMSE test: 4677.14990234375\nEpoch: 19190, RMSE test: 4675.21337890625\nEpoch: 19200, RMSE test: 4673.2802734375\nEpoch: 19210, RMSE test: 4671.3525390625\nEpoch: 19220, RMSE test: 4669.4287109375\nEpoch: 19230, RMSE test: 4667.509765625\nEpoch: 19240, RMSE test: 4665.59521484375\nEpoch: 19250, RMSE test: 4663.6845703125\nEpoch: 19260, RMSE test: 4661.7783203125\nEpoch: 19270, RMSE test: 4659.8759765625\nEpoch: 19280, RMSE test: 4657.97900390625\nEpoch: 19290, RMSE test: 4656.08544921875\nEpoch: 19300, RMSE test: 4654.19677734375\nEpoch: 19310, RMSE test: 4652.31201171875\nEpoch: 19320, RMSE test: 4650.43115234375\nEpoch: 19330, RMSE test: 4648.55419921875\nEpoch: 19340, RMSE test: 4646.68212890625\nEpoch: 19350, RMSE test: 4644.81494140625\nEpoch: 19360, RMSE test: 4642.95068359375\nEpoch: 19370, RMSE test: 4641.09130859375\nEpoch: 19380, RMSE test: 4639.2353515625\nEpoch: 19390, RMSE test: 4637.38427734375\nEpoch: 19400, RMSE test: 4635.537109375\nEpoch: 19410, RMSE test: 4633.6943359375\nEpoch: 19420, RMSE test: 4631.85546875\nEpoch: 19430, RMSE test: 4630.0205078125\nEpoch: 19440, RMSE test: 4628.189453125\nEpoch: 19450, RMSE test: 4626.36328125\nEpoch: 19460, RMSE test: 4624.5400390625\nEpoch: 19470, RMSE test: 4622.7216796875\nEpoch: 19480, RMSE test: 4620.90673828125\nEpoch: 19490, RMSE test: 4619.0966796875\nEpoch: 19500, RMSE test: 4617.29052734375\nEpoch: 19510, RMSE test: 4615.48828125\nEpoch: 19520, RMSE test: 4613.68896484375\nEpoch: 19530, RMSE test: 4611.89501953125\nEpoch: 19540, RMSE test: 4610.1044921875\nEpoch: 19550, RMSE test: 4608.31787109375\nEpoch: 19560, RMSE test: 4606.53564453125\nEpoch: 19570, RMSE test: 4604.7568359375\nEpoch: 19580, RMSE test: 4602.982421875\nEpoch: 19590, RMSE test: 4601.2119140625\nEpoch: 19600, RMSE test: 4599.44482421875\nEpoch: 19610, RMSE test: 4597.68212890625\nEpoch: 19620, RMSE test: 4595.92333984375\nEpoch: 19630, RMSE test: 4594.16845703125\nEpoch: 19640, RMSE test: 4592.4169921875\nEpoch: 19650, RMSE test: 4590.669921875\nEpoch: 19660, RMSE test: 4588.9267578125\nEpoch: 19670, RMSE test: 4587.1865234375\nEpoch: 19680, RMSE test: 4585.45166015625\nEpoch: 19690, RMSE test: 4583.7197265625\nEpoch: 19700, RMSE test: 4581.99169921875\nEpoch: 19710, RMSE test: 4580.26806640625\nEpoch: 19720, RMSE test: 4578.5478515625\nEpoch: 19730, RMSE test: 4576.8310546875\nEpoch: 19740, RMSE test: 4575.119140625\nEpoch: 19750, RMSE test: 4573.41015625\nEpoch: 19760, RMSE test: 4571.70556640625\nEpoch: 19770, RMSE test: 4570.0048828125\nEpoch: 19780, RMSE test: 4568.3076171875\nEpoch: 19790, RMSE test: 4566.6142578125\nEpoch: 19800, RMSE test: 4564.92578125\nEpoch: 19810, RMSE test: 4563.23974609375\nEpoch: 19820, RMSE test: 4561.55810546875\nEpoch: 19830, RMSE test: 4559.88037109375\nEpoch: 19840, RMSE test: 4558.20654296875\nEpoch: 19850, RMSE test: 4556.53564453125\nEpoch: 19860, RMSE test: 4554.869140625\nEpoch: 19870, RMSE test: 4553.2060546875\nEpoch: 19880, RMSE test: 4551.54736328125\nEpoch: 19890, RMSE test: 4549.89208984375\nEpoch: 19900, RMSE test: 4548.240234375\nEpoch: 19910, RMSE test: 4546.59228515625\nEpoch: 19920, RMSE test: 4544.94873046875\nEpoch: 19930, RMSE test: 4543.30810546875\nEpoch: 19940, RMSE test: 4541.671875\nEpoch: 19950, RMSE test: 4540.0390625\nEpoch: 19960, RMSE test: 4538.41015625\nEpoch: 19970, RMSE test: 4536.78564453125\nEpoch: 19980, RMSE test: 4535.1640625\nEpoch: 19990, RMSE test: 4533.54638671875\nEpoch: 20000, RMSE test: 4531.9326171875\nEpoch: 20010, RMSE test: 4530.322265625\nEpoch: 20020, RMSE test: 4528.71630859375\nEpoch: 20030, RMSE test: 4527.11376953125\nEpoch: 20040, RMSE test: 4525.51513671875\nEpoch: 20050, RMSE test: 4523.92041015625\nEpoch: 20060, RMSE test: 4522.32958984375\nEpoch: 20070, RMSE test: 4520.7421875\nEpoch: 20080, RMSE test: 4519.15869140625\nEpoch: 20090, RMSE test: 4517.578125\nEpoch: 20100, RMSE test: 4516.00244140625\nEpoch: 20110, RMSE test: 4514.43017578125\nEpoch: 20120, RMSE test: 4512.86181640625\nEpoch: 20130, RMSE test: 4511.296875\nEpoch: 20140, RMSE test: 4509.736328125\nEpoch: 20150, RMSE test: 4508.1787109375\nEpoch: 20160, RMSE test: 4506.625\nEpoch: 20170, RMSE test: 4505.0751953125\nEpoch: 20180, RMSE test: 4503.52978515625\nEpoch: 20190, RMSE test: 4501.98779296875\nEpoch: 20200, RMSE test: 4500.44921875\nEpoch: 20210, RMSE test: 4498.91455078125\nEpoch: 20220, RMSE test: 4497.38427734375\nEpoch: 20230, RMSE test: 4495.85693359375\nEpoch: 20240, RMSE test: 4494.333984375\nEpoch: 20250, RMSE test: 4492.814453125\nEpoch: 20260, RMSE test: 4491.29931640625\nEpoch: 20270, RMSE test: 4489.78759765625\nEpoch: 20280, RMSE test: 4488.27978515625\nEpoch: 20290, RMSE test: 4486.77587890625\nEpoch: 20300, RMSE test: 4485.275390625\nEpoch: 20310, RMSE test: 4483.77880859375\nEpoch: 20320, RMSE test: 4482.28662109375\nEpoch: 20330, RMSE test: 4480.7978515625\nEpoch: 20340, RMSE test: 4479.3125\nEpoch: 20350, RMSE test: 4477.83203125\nEpoch: 20360, RMSE test: 4476.35400390625\nEpoch: 20370, RMSE test: 4474.880859375\nEpoch: 20380, RMSE test: 4473.41064453125\nEpoch: 20390, RMSE test: 4471.94482421875\nEpoch: 20400, RMSE test: 4470.48291015625\nEpoch: 20410, RMSE test: 4469.0244140625\nEpoch: 20420, RMSE test: 4467.56982421875\nEpoch: 20430, RMSE test: 4466.119140625\nEpoch: 20440, RMSE test: 4464.6728515625\nEpoch: 20450, RMSE test: 4463.2294921875\nEpoch: 20460, RMSE test: 4461.7900390625\nEpoch: 20470, RMSE test: 4460.35498046875\nEpoch: 20480, RMSE test: 4458.92333984375\nEpoch: 20490, RMSE test: 4457.49560546875\nEpoch: 20500, RMSE test: 4456.07177734375\nEpoch: 20510, RMSE test: 4454.65185546875\nEpoch: 20520, RMSE test: 4453.236328125\nEpoch: 20530, RMSE test: 4451.82373046875\nEpoch: 20540, RMSE test: 4450.4150390625\nEpoch: 20550, RMSE test: 4449.0107421875\nEpoch: 20560, RMSE test: 4447.6103515625\nEpoch: 20570, RMSE test: 4446.21435546875\nEpoch: 20580, RMSE test: 4444.82080078125\nEpoch: 20590, RMSE test: 4443.43310546875\nEpoch: 20600, RMSE test: 4442.04833984375\nEpoch: 20610, RMSE test: 4440.66748046875\nEpoch: 20620, RMSE test: 4439.29052734375\nEpoch: 20630, RMSE test: 4437.91748046875\nEpoch: 20640, RMSE test: 4436.548828125\nEpoch: 20650, RMSE test: 4435.18359375\nEpoch: 20660, RMSE test: 4433.822265625\nEpoch: 20670, RMSE test: 4432.46484375\nEpoch: 20680, RMSE test: 4431.11181640625\nEpoch: 20690, RMSE test: 4429.7626953125\n"
    },
    {
     "name": "stdout",
     "output_type": "stream",
     "text": "Epoch: 20700, RMSE test: 4428.41650390625\nEpoch: 20710, RMSE test: 4427.07568359375\nEpoch: 20720, RMSE test: 4425.73779296875\nEpoch: 20730, RMSE test: 4424.40478515625\nEpoch: 20740, RMSE test: 4423.07470703125\nEpoch: 20750, RMSE test: 4421.7490234375\nEpoch: 20760, RMSE test: 4420.42724609375\nEpoch: 20770, RMSE test: 4419.10986328125\nEpoch: 20780, RMSE test: 4417.7958984375\nEpoch: 20790, RMSE test: 4416.48681640625\nEpoch: 20800, RMSE test: 4415.18115234375\nEpoch: 20810, RMSE test: 4413.8798828125\nEpoch: 20820, RMSE test: 4412.58203125\nEpoch: 20830, RMSE test: 4411.2890625\nEpoch: 20840, RMSE test: 4410.0\nEpoch: 20850, RMSE test: 4408.7138671875\nEpoch: 20860, RMSE test: 4407.43359375\nEpoch: 20870, RMSE test: 4406.15625\nEpoch: 20880, RMSE test: 4404.88330078125\nEpoch: 20890, RMSE test: 4403.615234375\nEpoch: 20900, RMSE test: 4402.35009765625\nEpoch: 20910, RMSE test: 4401.08935546875\nEpoch: 20920, RMSE test: 4399.83251953125\nEpoch: 20930, RMSE test: 4398.57958984375\nEpoch: 20940, RMSE test: 4397.3310546875\nEpoch: 20950, RMSE test: 4396.0869140625\nEpoch: 20960, RMSE test: 4394.8466796875\nEpoch: 20970, RMSE test: 4393.61083984375\nEpoch: 20980, RMSE test: 4392.37841796875\nEpoch: 20990, RMSE test: 4391.150390625\nEpoch: 21000, RMSE test: 4389.92626953125\nEpoch: 21010, RMSE test: 4388.70654296875\nEpoch: 21020, RMSE test: 4387.49072265625\nEpoch: 21030, RMSE test: 4386.279296875\nEpoch: 21040, RMSE test: 4385.072265625\nEpoch: 21050, RMSE test: 4383.869140625\nEpoch: 21060, RMSE test: 4382.669921875\nEpoch: 21070, RMSE test: 4381.47509765625\nEpoch: 21080, RMSE test: 4380.2841796875\nEpoch: 21090, RMSE test: 4379.09765625\nEpoch: 21100, RMSE test: 4377.91552734375\nEpoch: 21110, RMSE test: 4376.7373046875\nEpoch: 21120, RMSE test: 4375.5634765625\nEpoch: 21130, RMSE test: 4374.3935546875\nEpoch: 21140, RMSE test: 4373.228515625\nEpoch: 21150, RMSE test: 4372.0673828125\nEpoch: 21160, RMSE test: 4370.91015625\nEpoch: 21170, RMSE test: 4369.75732421875\nEpoch: 21180, RMSE test: 4368.60888671875\nEpoch: 21190, RMSE test: 4367.46435546875\nEpoch: 21200, RMSE test: 4366.32470703125\nEpoch: 21210, RMSE test: 4365.1884765625\nEpoch: 21220, RMSE test: 4364.056640625\nEpoch: 21230, RMSE test: 4362.9296875\nEpoch: 21240, RMSE test: 4361.806640625\nEpoch: 21250, RMSE test: 4360.68798828125\nEpoch: 21260, RMSE test: 4359.57373046875\nEpoch: 21270, RMSE test: 4358.4638671875\nEpoch: 21280, RMSE test: 4357.35791015625\nEpoch: 21290, RMSE test: 4356.25634765625\nEpoch: 21300, RMSE test: 4355.15966796875\nEpoch: 21310, RMSE test: 4354.06640625\nEpoch: 21320, RMSE test: 4352.97802734375\nEpoch: 21330, RMSE test: 4351.89306640625\nEpoch: 21340, RMSE test: 4350.8134765625\nEpoch: 21350, RMSE test: 4349.73779296875\nEpoch: 21360, RMSE test: 4348.666015625\nEpoch: 21370, RMSE test: 4347.59912109375\nEpoch: 21380, RMSE test: 4346.53564453125\nEpoch: 21390, RMSE test: 4345.4775390625\nEpoch: 21400, RMSE test: 4344.4228515625\nEpoch: 21410, RMSE test: 4343.373046875\nEpoch: 21420, RMSE test: 4342.3271484375\nEpoch: 21430, RMSE test: 4341.28564453125\nEpoch: 21440, RMSE test: 4340.24853515625\nEpoch: 21450, RMSE test: 4339.2158203125\nEpoch: 21460, RMSE test: 4338.18798828125\nEpoch: 21470, RMSE test: 4337.1640625\nEpoch: 21480, RMSE test: 4336.14404296875\nEpoch: 21490, RMSE test: 4335.12890625\nEpoch: 21500, RMSE test: 4334.11767578125\nEpoch: 21510, RMSE test: 4333.111328125\nEpoch: 21520, RMSE test: 4332.10888671875\nEpoch: 21530, RMSE test: 4331.111328125\nEpoch: 21540, RMSE test: 4330.1181640625\nEpoch: 21550, RMSE test: 4329.12841796875\nEpoch: 21560, RMSE test: 4328.14404296875\nEpoch: 21570, RMSE test: 4327.16357421875\nEpoch: 21580, RMSE test: 4326.1875\nEpoch: 21590, RMSE test: 4325.2158203125\nEpoch: 21600, RMSE test: 4324.2490234375\nEpoch: 21610, RMSE test: 4323.28662109375\nEpoch: 21620, RMSE test: 4322.328125\nEpoch: 21630, RMSE test: 4321.375\nEpoch: 21640, RMSE test: 4320.42529296875\nEpoch: 21650, RMSE test: 4319.48095703125\nEpoch: 21660, RMSE test: 4318.53955078125\nEpoch: 21670, RMSE test: 4317.603515625\nEpoch: 21680, RMSE test: 4316.671875\nEpoch: 21690, RMSE test: 4315.74462890625\nEpoch: 21700, RMSE test: 4314.8212890625\nEpoch: 21710, RMSE test: 4313.90234375\nEpoch: 21720, RMSE test: 4312.98828125\nEpoch: 21730, RMSE test: 4312.078125\nEpoch: 21740, RMSE test: 4311.17236328125\nEpoch: 21750, RMSE test: 4310.271484375\nEpoch: 21760, RMSE test: 4309.375\nEpoch: 21770, RMSE test: 4308.48291015625\nEpoch: 21780, RMSE test: 4307.59521484375\nEpoch: 21790, RMSE test: 4306.7119140625\nEpoch: 21800, RMSE test: 4305.8330078125\nEpoch: 21810, RMSE test: 4304.95849609375\nEpoch: 21820, RMSE test: 4304.087890625\nEpoch: 21830, RMSE test: 4303.2216796875\nEpoch: 21840, RMSE test: 4302.36083984375\nEpoch: 21850, RMSE test: 4301.50341796875\nEpoch: 21860, RMSE test: 4300.65087890625\nEpoch: 21870, RMSE test: 4299.802734375\nEpoch: 21880, RMSE test: 4298.958984375\nEpoch: 21890, RMSE test: 4298.1201171875\nEpoch: 21900, RMSE test: 4297.28466796875\nEpoch: 21910, RMSE test: 4296.4541015625\nEpoch: 21920, RMSE test: 4295.62841796875\nEpoch: 21930, RMSE test: 4294.80615234375\nEpoch: 21940, RMSE test: 4293.9892578125\nEpoch: 21950, RMSE test: 4293.17626953125\nEpoch: 21960, RMSE test: 4292.3681640625\nEpoch: 21970, RMSE test: 4291.564453125\nEpoch: 21980, RMSE test: 4290.7646484375\nEpoch: 21990, RMSE test: 4289.96923828125\nEpoch: 22000, RMSE test: 4289.1787109375\nEpoch: 22010, RMSE test: 4288.392578125\nEpoch: 22020, RMSE test: 4287.61083984375\nEpoch: 22030, RMSE test: 4286.83349609375\nEpoch: 22040, RMSE test: 4286.060546875\nEpoch: 22050, RMSE test: 4285.2919921875\nEpoch: 22060, RMSE test: 4284.52734375\nEpoch: 22070, RMSE test: 4283.76708984375\nEpoch: 22080, RMSE test: 4283.01220703125\nEpoch: 22090, RMSE test: 4282.2607421875\nEpoch: 22100, RMSE test: 4281.513671875\nEpoch: 22110, RMSE test: 4280.77099609375\nEpoch: 22120, RMSE test: 4280.03271484375\nEpoch: 22130, RMSE test: 4279.29931640625\nEpoch: 22140, RMSE test: 4278.56982421875\nEpoch: 22150, RMSE test: 4277.84423828125\nEpoch: 22160, RMSE test: 4277.1240234375\nEpoch: 22170, RMSE test: 4276.40771484375\nEpoch: 22180, RMSE test: 4275.69580078125\nEpoch: 22190, RMSE test: 4274.98779296875\nEpoch: 22200, RMSE test: 4274.28466796875\nEpoch: 22210, RMSE test: 4273.5859375\nEpoch: 22220, RMSE test: 4272.89111328125\nEpoch: 22230, RMSE test: 4272.201171875\nEpoch: 22240, RMSE test: 4271.5146484375\nEpoch: 22250, RMSE test: 4270.83349609375\nEpoch: 22260, RMSE test: 4270.15625\nEpoch: 22270, RMSE test: 4269.4833984375\nEpoch: 22280, RMSE test: 4268.81494140625\nEpoch: 22290, RMSE test: 4268.15087890625\nEpoch: 22300, RMSE test: 4267.49072265625\nEpoch: 22310, RMSE test: 4266.83447265625\nEpoch: 22320, RMSE test: 4266.18359375\nEpoch: 22330, RMSE test: 4265.5361328125\nEpoch: 22340, RMSE test: 4264.892578125\nEpoch: 22350, RMSE test: 4264.25439453125\nEpoch: 22360, RMSE test: 4263.619140625\nEpoch: 22370, RMSE test: 4262.9892578125\nEpoch: 22380, RMSE test: 4262.3623046875\nEpoch: 22390, RMSE test: 4261.7412109375\nEpoch: 22400, RMSE test: 4261.123046875\nEpoch: 22410, RMSE test: 4260.51025390625\nEpoch: 22420, RMSE test: 4259.9013671875\nEpoch: 22430, RMSE test: 4259.29638671875\nEpoch: 22440, RMSE test: 4258.69580078125\nEpoch: 22450, RMSE test: 4258.0986328125\nEpoch: 22460, RMSE test: 4257.5068359375\nEpoch: 22470, RMSE test: 4256.91845703125\nEpoch: 22480, RMSE test: 4256.3349609375\nEpoch: 22490, RMSE test: 4255.7548828125\nEpoch: 22500, RMSE test: 4255.1796875\nEpoch: 22510, RMSE test: 4254.60791015625\nEpoch: 22520, RMSE test: 4254.04052734375\nEpoch: 22530, RMSE test: 4253.47705078125\nEpoch: 22540, RMSE test: 4252.91796875\nEpoch: 22550, RMSE test: 4252.36328125\nEpoch: 22560, RMSE test: 4251.81201171875\nEpoch: 22570, RMSE test: 4251.2646484375\nEpoch: 22580, RMSE test: 4250.72216796875\nEpoch: 22590, RMSE test: 4250.18310546875\nEpoch: 22600, RMSE test: 4249.64892578125\nEpoch: 22610, RMSE test: 4249.11767578125\nEpoch: 22620, RMSE test: 4248.59130859375\nEpoch: 22630, RMSE test: 4248.06884765625\nEpoch: 22640, RMSE test: 4247.55078125\nEpoch: 22650, RMSE test: 4247.03662109375\nEpoch: 22660, RMSE test: 4246.52587890625\nEpoch: 22670, RMSE test: 4246.01953125\nEpoch: 22680, RMSE test: 4245.51708984375\nEpoch: 22690, RMSE test: 4245.01904296875\nEpoch: 22700, RMSE test: 4244.525390625\nEpoch: 22710, RMSE test: 4244.0341796875\nEpoch: 22720, RMSE test: 4243.54736328125\nEpoch: 22730, RMSE test: 4243.064453125\n"
    },
    {
     "name": "stdout",
     "output_type": "stream",
     "text": "Epoch: 22740, RMSE test: 4242.5859375\nEpoch: 22750, RMSE test: 4242.11083984375\nEpoch: 22760, RMSE test: 4241.64013671875\nEpoch: 22770, RMSE test: 4241.1728515625\nEpoch: 22780, RMSE test: 4240.7099609375\nEpoch: 22790, RMSE test: 4240.2509765625\nEpoch: 22800, RMSE test: 4239.794921875\nEpoch: 22810, RMSE test: 4239.34375\nEpoch: 22820, RMSE test: 4238.89697265625\nEpoch: 22830, RMSE test: 4238.453125\nEpoch: 22840, RMSE test: 4238.013671875\nEpoch: 22850, RMSE test: 4237.57763671875\nEpoch: 22860, RMSE test: 4237.1455078125\nEpoch: 22870, RMSE test: 4236.716796875\nEpoch: 22880, RMSE test: 4236.29248046875\nEpoch: 22890, RMSE test: 4235.87158203125\nEpoch: 22900, RMSE test: 4235.45458984375\nEpoch: 22910, RMSE test: 4235.0400390625\nEpoch: 22920, RMSE test: 4234.630859375\nEpoch: 22930, RMSE test: 4234.22509765625\nEpoch: 22940, RMSE test: 4233.82275390625\nEpoch: 22950, RMSE test: 4233.42431640625\nEpoch: 22960, RMSE test: 4233.02978515625\nEpoch: 22970, RMSE test: 4232.638671875\nEpoch: 22980, RMSE test: 4232.25146484375\nEpoch: 22990, RMSE test: 4231.86767578125\nEpoch: 23000, RMSE test: 4231.48876953125\nEpoch: 23010, RMSE test: 4231.1123046875\nEpoch: 23020, RMSE test: 4230.73974609375\nEpoch: 23030, RMSE test: 4230.37109375\nEpoch: 23040, RMSE test: 4230.005859375\nEpoch: 23050, RMSE test: 4229.64404296875\nEpoch: 23060, RMSE test: 4229.28564453125\nEpoch: 23070, RMSE test: 4228.93115234375\nEpoch: 23080, RMSE test: 4228.580078125\nEpoch: 23090, RMSE test: 4228.23291015625\nEpoch: 23100, RMSE test: 4227.88916015625\nEpoch: 23110, RMSE test: 4227.54833984375\nEpoch: 23120, RMSE test: 4227.21142578125\nEpoch: 23130, RMSE test: 4226.87890625\nEpoch: 23140, RMSE test: 4226.54931640625\nEpoch: 23150, RMSE test: 4226.22314453125\nEpoch: 23160, RMSE test: 4225.90087890625\nEpoch: 23170, RMSE test: 4225.58203125\nEpoch: 23180, RMSE test: 4225.2666015625\nEpoch: 23190, RMSE test: 4224.95458984375\nEpoch: 23200, RMSE test: 4224.646484375\nEpoch: 23210, RMSE test: 4224.3408203125\nEpoch: 23220, RMSE test: 4224.0390625\nEpoch: 23230, RMSE test: 4223.7412109375\nEpoch: 23240, RMSE test: 4223.44580078125\nEpoch: 23250, RMSE test: 4223.154296875\nEpoch: 23260, RMSE test: 4222.86669921875\nEpoch: 23270, RMSE test: 4222.58203125\nEpoch: 23280, RMSE test: 4222.30126953125\nEpoch: 23290, RMSE test: 4222.02392578125\nEpoch: 23300, RMSE test: 4221.7490234375\nEpoch: 23310, RMSE test: 4221.478515625\nEpoch: 23320, RMSE test: 4221.21044921875\nEpoch: 23330, RMSE test: 4220.94677734375\nEpoch: 23340, RMSE test: 4220.685546875\nEpoch: 23350, RMSE test: 4220.42822265625\nEpoch: 23360, RMSE test: 4220.173828125\nEpoch: 23370, RMSE test: 4219.92236328125\nEpoch: 23380, RMSE test: 4219.67529296875\nEpoch: 23390, RMSE test: 4219.43115234375\nEpoch: 23400, RMSE test: 4219.18994140625\nEpoch: 23410, RMSE test: 4218.9521484375\nEpoch: 23420, RMSE test: 4218.71728515625\nEpoch: 23430, RMSE test: 4218.486328125\nEpoch: 23440, RMSE test: 4218.25830078125\nEpoch: 23450, RMSE test: 4218.033203125\nEpoch: 23460, RMSE test: 4217.8125\nEpoch: 23470, RMSE test: 4217.59423828125\nEpoch: 23480, RMSE test: 4217.3798828125\nEpoch: 23490, RMSE test: 4217.1689453125\nEpoch: 23500, RMSE test: 4216.96044921875\nEpoch: 23510, RMSE test: 4216.75537109375\nEpoch: 23520, RMSE test: 4216.552734375\nEpoch: 23530, RMSE test: 4216.35400390625\nEpoch: 23540, RMSE test: 4216.158203125\nEpoch: 23550, RMSE test: 4215.9658203125\nEpoch: 23560, RMSE test: 4215.7763671875\nEpoch: 23570, RMSE test: 4215.59033203125\nEpoch: 23580, RMSE test: 4215.40673828125\nEpoch: 23590, RMSE test: 4215.2275390625\nEpoch: 23600, RMSE test: 4215.05029296875\nEpoch: 23610, RMSE test: 4214.8779296875\nEpoch: 23620, RMSE test: 4214.70751953125\nEpoch: 23630, RMSE test: 4214.54052734375\nEpoch: 23640, RMSE test: 4214.37646484375\nEpoch: 23650, RMSE test: 4214.2158203125\nEpoch: 23660, RMSE test: 4214.05810546875\nEpoch: 23670, RMSE test: 4213.90283203125\nEpoch: 23680, RMSE test: 4213.751953125\nEpoch: 23690, RMSE test: 4213.603515625\nEpoch: 23700, RMSE test: 4213.45703125\nEpoch: 23710, RMSE test: 4213.3154296875\nEpoch: 23720, RMSE test: 4213.17578125\nEpoch: 23730, RMSE test: 4213.03955078125\nEpoch: 23740, RMSE test: 4212.90673828125\nEpoch: 23750, RMSE test: 4212.77734375\nEpoch: 23760, RMSE test: 4212.65087890625\nEpoch: 23770, RMSE test: 4212.52685546875\nEpoch: 23780, RMSE test: 4212.40576171875\nEpoch: 23790, RMSE test: 4212.28857421875\nEpoch: 23800, RMSE test: 4212.17431640625\nEpoch: 23810, RMSE test: 4212.0625\nEpoch: 23820, RMSE test: 4211.95458984375\nEpoch: 23830, RMSE test: 4211.8486328125\nEpoch: 23840, RMSE test: 4211.74609375\nEpoch: 23850, RMSE test: 4211.646484375\nEpoch: 23860, RMSE test: 4211.55029296875\nEpoch: 23870, RMSE test: 4211.45654296875\nEpoch: 23880, RMSE test: 4211.3671875\nEpoch: 23890, RMSE test: 4211.27978515625\nEpoch: 23900, RMSE test: 4211.1953125\nEpoch: 23910, RMSE test: 4211.11474609375\nEpoch: 23920, RMSE test: 4211.0361328125\nEpoch: 23930, RMSE test: 4210.9609375\nEpoch: 23940, RMSE test: 4210.8896484375\nEpoch: 23950, RMSE test: 4210.8203125\nEpoch: 23960, RMSE test: 4210.75390625\nEpoch: 23970, RMSE test: 4210.69091796875\nEpoch: 23980, RMSE test: 4210.630859375\nEpoch: 23990, RMSE test: 4210.57373046875\nEpoch: 24000, RMSE test: 4210.51953125\nEpoch: 24010, RMSE test: 4210.46826171875\nEpoch: 24020, RMSE test: 4210.42041015625\nEpoch: 24030, RMSE test: 4210.3759765625\nEpoch: 24040, RMSE test: 4210.33349609375\nEpoch: 24050, RMSE test: 4210.29443359375\nEpoch: 24060, RMSE test: 4210.2587890625\nEpoch: 24070, RMSE test: 4210.2255859375\nEpoch: 24080, RMSE test: 4210.19580078125\nEpoch: 24090, RMSE test: 4210.1689453125\nEpoch: 24100, RMSE test: 4210.14453125\nEpoch: 24110, RMSE test: 4210.123046875\nEpoch: 24120, RMSE test: 4210.10498046875\nEpoch: 24130, RMSE test: 4210.08984375\nEpoch: 24140, RMSE test: 4210.078125\nEpoch: 24150, RMSE test: 4210.06884765625\nEpoch: 24160, RMSE test: 4210.0625\nEpoch: 24170, RMSE test: 4210.060546875\nEpoch: 24180, RMSE test: 4210.060546875\nEpoch: 24190, RMSE test: 4210.06396484375\nEpoch: 24200, RMSE test: 4210.06982421875\nEpoch: 24210, RMSE test: 4210.07861328125\nEpoch: 24220, RMSE test: 4210.09033203125\nEpoch: 24230, RMSE test: 4210.10546875\nEpoch: 24240, RMSE test: 4210.123046875\nEpoch: 24250, RMSE test: 4210.1435546875\nEpoch: 24260, RMSE test: 4210.16796875\nEpoch: 24270, RMSE test: 4210.19482421875\nEpoch: 24280, RMSE test: 4210.22509765625\nEpoch: 24290, RMSE test: 4210.25830078125\nEpoch: 24300, RMSE test: 4210.29443359375\nEpoch: 24310, RMSE test: 4210.333984375\nEpoch: 24320, RMSE test: 4210.3759765625\nEpoch: 24330, RMSE test: 4210.42138671875\nEpoch: 24340, RMSE test: 4210.4697265625\nEpoch: 24350, RMSE test: 4210.5205078125\nEpoch: 24360, RMSE test: 4210.57421875\nEpoch: 24370, RMSE test: 4210.63134765625\nEpoch: 24380, RMSE test: 4210.69140625\nEpoch: 24390, RMSE test: 4210.75537109375\nEpoch: 24400, RMSE test: 4210.82177734375\nEpoch: 24410, RMSE test: 4210.89111328125\nEpoch: 24420, RMSE test: 4210.9638671875\nEpoch: 24430, RMSE test: 4211.0400390625\nEpoch: 24440, RMSE test: 4211.11865234375\nEpoch: 24450, RMSE test: 4211.201171875\nEpoch: 24460, RMSE test: 4211.28515625\nEpoch: 24470, RMSE test: 4211.37255859375\nEpoch: 24480, RMSE test: 4211.46337890625\nEpoch: 24490, RMSE test: 4211.55712890625\nEpoch: 24500, RMSE test: 4211.654296875\nEpoch: 24510, RMSE test: 4211.75439453125\nEpoch: 24520, RMSE test: 4211.857421875\nEpoch: 24530, RMSE test: 4211.9638671875\nEpoch: 24540, RMSE test: 4212.07373046875\nEpoch: 24550, RMSE test: 4212.18603515625\nEpoch: 24560, RMSE test: 4212.3017578125\nEpoch: 24570, RMSE test: 4212.4208984375\nEpoch: 24580, RMSE test: 4212.54248046875\nEpoch: 24590, RMSE test: 4212.66748046875\nEpoch: 24600, RMSE test: 4212.794921875\nEpoch: 24610, RMSE test: 4212.9267578125\nEpoch: 24620, RMSE test: 4213.06103515625\nEpoch: 24630, RMSE test: 4213.19873046875\nEpoch: 24640, RMSE test: 4213.33935546875\nEpoch: 24650, RMSE test: 4213.4833984375\nEpoch: 24660, RMSE test: 4213.63037109375\nEpoch: 24670, RMSE test: 4213.7802734375\nEpoch: 24680, RMSE test: 4213.93310546875\nEpoch: 24690, RMSE test: 4214.08984375\nEpoch: 24700, RMSE test: 4214.2490234375\nEpoch: 24710, RMSE test: 4214.41064453125\nEpoch: 24720, RMSE test: 4214.57666015625\nEpoch: 24730, RMSE test: 4214.74560546875\nEpoch: 24740, RMSE test: 4214.91796875\nEpoch: 24750, RMSE test: 4215.09423828125\nEpoch: 24760, RMSE test: 4215.27294921875\nEpoch: 24770, RMSE test: 4215.45556640625\nEpoch: 24780, RMSE test: 4215.64013671875\n"
    },
    {
     "name": "stdout",
     "output_type": "stream",
     "text": "Epoch: 24790, RMSE test: 4215.828125\nEpoch: 24800, RMSE test: 4216.01953125\nEpoch: 24810, RMSE test: 4216.21484375\nEpoch: 24820, RMSE test: 4216.41357421875\nEpoch: 24830, RMSE test: 4216.61474609375\nEpoch: 24840, RMSE test: 4216.81982421875\nEpoch: 24850, RMSE test: 4217.0283203125\nEpoch: 24860, RMSE test: 4217.23876953125\nEpoch: 24870, RMSE test: 4217.45458984375\nEpoch: 24880, RMSE test: 4217.671875\nEpoch: 24890, RMSE test: 4217.8935546875\nEpoch: 24900, RMSE test: 4218.1162109375\nEpoch: 24910, RMSE test: 4218.34423828125\nEpoch: 24920, RMSE test: 4218.57568359375\nEpoch: 24930, RMSE test: 4218.81005859375\nEpoch: 24940, RMSE test: 4219.04736328125\nEpoch: 24950, RMSE test: 4219.28857421875\nEpoch: 24960, RMSE test: 4219.53271484375\nEpoch: 24970, RMSE test: 4219.78076171875\nEpoch: 24980, RMSE test: 4220.03125\nEpoch: 24990, RMSE test: 4220.28466796875\nEpoch: 25000, RMSE test: 4220.54248046875\nEpoch: 25010, RMSE test: 4220.80322265625\nEpoch: 25020, RMSE test: 4221.06787109375\nEpoch: 25030, RMSE test: 4221.33544921875\nEpoch: 25040, RMSE test: 4221.60693359375\nEpoch: 25050, RMSE test: 4221.880859375\nEpoch: 25060, RMSE test: 4222.1591796875\nEpoch: 25070, RMSE test: 4222.43994140625\nEpoch: 25080, RMSE test: 4222.724609375\nEpoch: 25090, RMSE test: 4223.01171875\nEpoch: 25100, RMSE test: 4223.3037109375\nEpoch: 25110, RMSE test: 4223.5986328125\nEpoch: 25120, RMSE test: 4223.89697265625\nEpoch: 25130, RMSE test: 4224.19873046875\nEpoch: 25140, RMSE test: 4224.50341796875\nEpoch: 25150, RMSE test: 4224.81103515625\nEpoch: 25160, RMSE test: 4225.12158203125\nEpoch: 25170, RMSE test: 4225.4365234375\nEpoch: 25180, RMSE test: 4225.7548828125\nEpoch: 25190, RMSE test: 4226.0771484375\nEpoch: 25200, RMSE test: 4226.4033203125\nEpoch: 25210, RMSE test: 4226.7333984375\nEpoch: 25220, RMSE test: 4227.06591796875\nEpoch: 25230, RMSE test: 4227.40185546875\nEpoch: 25240, RMSE test: 4227.7412109375\nEpoch: 25250, RMSE test: 4228.08349609375\nEpoch: 25260, RMSE test: 4228.4296875\nEpoch: 25270, RMSE test: 4228.7802734375\nEpoch: 25280, RMSE test: 4229.1337890625\nEpoch: 25290, RMSE test: 4229.49169921875\nEpoch: 25300, RMSE test: 4229.85205078125\nEpoch: 25310, RMSE test: 4230.216796875\nEpoch: 25320, RMSE test: 4230.5849609375\nEpoch: 25330, RMSE test: 4230.9560546875\nEpoch: 25340, RMSE test: 4231.33154296875\nEpoch: 25350, RMSE test: 4231.7099609375\nEpoch: 25360, RMSE test: 4232.0927734375\nEpoch: 25370, RMSE test: 4232.47802734375\nEpoch: 25380, RMSE test: 4232.8671875\nEpoch: 25390, RMSE test: 4233.26025390625\nEpoch: 25400, RMSE test: 4233.65673828125\nEpoch: 25410, RMSE test: 4234.056640625\nEpoch: 25420, RMSE test: 4234.45947265625\nEpoch: 25430, RMSE test: 4234.86669921875\nEpoch: 25440, RMSE test: 4235.27734375\nEpoch: 25450, RMSE test: 4235.6923828125\nEpoch: 25460, RMSE test: 4236.11083984375\nEpoch: 25470, RMSE test: 4236.53271484375\nEpoch: 25480, RMSE test: 4236.9580078125\nEpoch: 25490, RMSE test: 4237.38671875\nEpoch: 25500, RMSE test: 4237.8193359375\nEpoch: 25510, RMSE test: 4238.255859375\nEpoch: 25520, RMSE test: 4238.6953125\nEpoch: 25530, RMSE test: 4239.1396484375\nEpoch: 25540, RMSE test: 4239.5869140625\nEpoch: 25550, RMSE test: 4240.037109375\nEpoch: 25560, RMSE test: 4240.49169921875\nEpoch: 25570, RMSE test: 4240.94921875\nEpoch: 25580, RMSE test: 4241.41162109375\nEpoch: 25590, RMSE test: 4241.87744140625\nEpoch: 25600, RMSE test: 4242.34765625\nEpoch: 25610, RMSE test: 4242.82080078125\nEpoch: 25620, RMSE test: 4243.29736328125\nEpoch: 25630, RMSE test: 4243.77685546875\nEpoch: 25640, RMSE test: 4244.26123046875\nEpoch: 25650, RMSE test: 4244.74853515625\nEpoch: 25660, RMSE test: 4245.24072265625\nEpoch: 25670, RMSE test: 4245.7353515625\nEpoch: 25680, RMSE test: 4246.23486328125\nEpoch: 25690, RMSE test: 4246.73779296875\nEpoch: 25700, RMSE test: 4247.244140625\nEpoch: 25710, RMSE test: 4247.75341796875\nEpoch: 25720, RMSE test: 4248.267578125\nEpoch: 25730, RMSE test: 4248.78564453125\nEpoch: 25740, RMSE test: 4249.306640625\nEpoch: 25750, RMSE test: 4249.83203125\nEpoch: 25760, RMSE test: 4250.36083984375\nEpoch: 25770, RMSE test: 4250.89306640625\nEpoch: 25780, RMSE test: 4251.42919921875\nEpoch: 25790, RMSE test: 4251.9697265625\nEpoch: 25800, RMSE test: 4252.513671875\nEpoch: 25810, RMSE test: 4253.0615234375\nEpoch: 25820, RMSE test: 4253.6123046875\nEpoch: 25830, RMSE test: 4254.1669921875\nEpoch: 25840, RMSE test: 4254.7255859375\nEpoch: 25850, RMSE test: 4255.2880859375\nEpoch: 25860, RMSE test: 4255.85595703125\nEpoch: 25870, RMSE test: 4256.42578125\nEpoch: 25880, RMSE test: 4256.99951171875\nEpoch: 25890, RMSE test: 4257.5771484375\nEpoch: 25900, RMSE test: 4258.15869140625\nEpoch: 25910, RMSE test: 4258.74365234375\nEpoch: 25920, RMSE test: 4259.33349609375\nEpoch: 25930, RMSE test: 4259.92626953125\nEpoch: 25940, RMSE test: 4260.5234375\nEpoch: 25950, RMSE test: 4261.12353515625\nEpoch: 25960, RMSE test: 4261.72705078125\nEpoch: 25970, RMSE test: 4262.33447265625\nEpoch: 25980, RMSE test: 4262.94775390625\nEpoch: 25990, RMSE test: 4263.56298828125\nEpoch: 26000, RMSE test: 4264.18212890625\nEpoch: 26010, RMSE test: 4264.8056640625\nEpoch: 26020, RMSE test: 4265.4326171875\nEpoch: 26030, RMSE test: 4266.0625\nEpoch: 26040, RMSE test: 4266.697265625\nEpoch: 26050, RMSE test: 4267.33642578125\nEpoch: 26060, RMSE test: 4267.97900390625\nEpoch: 26070, RMSE test: 4268.6240234375\nEpoch: 26080, RMSE test: 4269.2744140625\nEpoch: 26090, RMSE test: 4269.927734375\nEpoch: 26100, RMSE test: 4270.58544921875\nEpoch: 26110, RMSE test: 4271.24755859375\nEpoch: 26120, RMSE test: 4271.9111328125\nEpoch: 26130, RMSE test: 4272.580078125\nEpoch: 26140, RMSE test: 4273.2529296875\nEpoch: 26150, RMSE test: 4273.92919921875\nEpoch: 26160, RMSE test: 4274.6103515625\nEpoch: 26170, RMSE test: 4275.29443359375\nEpoch: 26180, RMSE test: 4275.98193359375\nEpoch: 26190, RMSE test: 4276.6728515625\nEpoch: 26200, RMSE test: 4277.3681640625\nEpoch: 26210, RMSE test: 4278.0673828125\nEpoch: 26220, RMSE test: 4278.771484375\nEpoch: 26230, RMSE test: 4279.478515625\nEpoch: 26240, RMSE test: 4280.18896484375\nEpoch: 26250, RMSE test: 4280.9033203125\nEpoch: 26260, RMSE test: 4281.62109375\nEpoch: 26270, RMSE test: 4282.34326171875\nEpoch: 26280, RMSE test: 4283.06884765625\nEpoch: 26290, RMSE test: 4283.79833984375\nEpoch: 26300, RMSE test: 4284.5322265625\nEpoch: 26310, RMSE test: 4285.27001953125\nEpoch: 26320, RMSE test: 4286.0107421875\nEpoch: 26330, RMSE test: 4286.75634765625\nEpoch: 26340, RMSE test: 4287.50439453125\nEpoch: 26350, RMSE test: 4288.255859375\nEpoch: 26360, RMSE test: 4289.01220703125\nEpoch: 26370, RMSE test: 4289.77197265625\nEpoch: 26380, RMSE test: 4290.53515625\nEpoch: 26390, RMSE test: 4291.30322265625\nEpoch: 26400, RMSE test: 4292.07470703125\nEpoch: 26410, RMSE test: 4292.84912109375\nEpoch: 26420, RMSE test: 4293.62890625\nEpoch: 26430, RMSE test: 4294.4111328125\nEpoch: 26440, RMSE test: 4295.1982421875\nEpoch: 26450, RMSE test: 4295.98828125\nEpoch: 26460, RMSE test: 4296.7822265625\nEpoch: 26470, RMSE test: 4297.5791015625\nEpoch: 26480, RMSE test: 4298.3818359375\nEpoch: 26490, RMSE test: 4299.18701171875\nEpoch: 26500, RMSE test: 4299.99560546875\nEpoch: 26510, RMSE test: 4300.80810546875\nEpoch: 26520, RMSE test: 4301.62451171875\nEpoch: 26530, RMSE test: 4302.44482421875\nEpoch: 26540, RMSE test: 4303.2685546875\nEpoch: 26550, RMSE test: 4304.09619140625\nEpoch: 26560, RMSE test: 4304.9267578125\nEpoch: 26570, RMSE test: 4305.76171875\nEpoch: 26580, RMSE test: 4306.60107421875\nEpoch: 26590, RMSE test: 4307.44384765625\nEpoch: 26600, RMSE test: 4308.2900390625\nEpoch: 26610, RMSE test: 4309.1396484375\nEpoch: 26620, RMSE test: 4309.99365234375\nEpoch: 26630, RMSE test: 4310.85107421875\nEpoch: 26640, RMSE test: 4311.712890625\nEpoch: 26650, RMSE test: 4312.57763671875\nEpoch: 26660, RMSE test: 4313.4453125\nEpoch: 26670, RMSE test: 4314.31884765625\nEpoch: 26680, RMSE test: 4315.1953125\nEpoch: 26690, RMSE test: 4316.07421875\nEpoch: 26700, RMSE test: 4316.95751953125\nEpoch: 26710, RMSE test: 4317.84423828125\nEpoch: 26720, RMSE test: 4318.73583984375\nEpoch: 26730, RMSE test: 4319.630859375\nEpoch: 26740, RMSE test: 4320.52880859375\nEpoch: 26750, RMSE test: 4321.4306640625\nEpoch: 26760, RMSE test: 4322.3359375\nEpoch: 26770, RMSE test: 4323.24560546875\nEpoch: 26780, RMSE test: 4324.158203125\nEpoch: 26790, RMSE test: 4325.07470703125\n"
    },
    {
     "name": "stdout",
     "output_type": "stream",
     "text": "Epoch: 26800, RMSE test: 4325.99462890625\nEpoch: 26810, RMSE test: 4326.9189453125\nEpoch: 26820, RMSE test: 4327.84619140625\nEpoch: 26830, RMSE test: 4328.77734375\nEpoch: 26840, RMSE test: 4329.71142578125\nEpoch: 26850, RMSE test: 4330.64892578125\nEpoch: 26860, RMSE test: 4331.59228515625\nEpoch: 26870, RMSE test: 4332.53662109375\nEpoch: 26880, RMSE test: 4333.48583984375\nEpoch: 26890, RMSE test: 4334.4375\nEpoch: 26900, RMSE test: 4335.39453125\nEpoch: 26910, RMSE test: 4336.353515625\nEpoch: 26920, RMSE test: 4337.3173828125\nEpoch: 26930, RMSE test: 4338.28369140625\nEpoch: 26940, RMSE test: 4339.25341796875\nEpoch: 26950, RMSE test: 4340.2275390625\nEpoch: 26960, RMSE test: 4341.20556640625\nEpoch: 26970, RMSE test: 4342.18701171875\nEpoch: 26980, RMSE test: 4343.17138671875\nEpoch: 26990, RMSE test: 4344.16015625\nEpoch: 27000, RMSE test: 4345.15234375\nEpoch: 27010, RMSE test: 4346.14794921875\nEpoch: 27020, RMSE test: 4347.14697265625\nEpoch: 27030, RMSE test: 4348.14990234375\nEpoch: 27040, RMSE test: 4349.15576171875\nEpoch: 27050, RMSE test: 4350.16552734375\nEpoch: 27060, RMSE test: 4351.177734375\nEpoch: 27070, RMSE test: 4352.19482421875\nEpoch: 27080, RMSE test: 4353.21484375\nEpoch: 27090, RMSE test: 4354.2373046875\nEpoch: 27100, RMSE test: 4355.263671875\nEpoch: 27110, RMSE test: 4356.2939453125\nEpoch: 27120, RMSE test: 4357.328125\nEpoch: 27130, RMSE test: 4358.36572265625\nEpoch: 27140, RMSE test: 4359.40625\nEpoch: 27150, RMSE test: 4360.44921875\nEpoch: 27160, RMSE test: 4361.498046875\nEpoch: 27170, RMSE test: 4362.54931640625\nEpoch: 27180, RMSE test: 4363.603515625\nEpoch: 27190, RMSE test: 4364.662109375\nEpoch: 27200, RMSE test: 4365.72412109375\nEpoch: 27210, RMSE test: 4366.7890625\nEpoch: 27220, RMSE test: 4367.8564453125\nEpoch: 27230, RMSE test: 4368.927734375\nEpoch: 27240, RMSE test: 4370.00341796875\nEpoch: 27250, RMSE test: 4371.08154296875\nEpoch: 27260, RMSE test: 4372.16259765625\nEpoch: 27270, RMSE test: 4373.24755859375\nEpoch: 27280, RMSE test: 4374.3369140625\nEpoch: 27290, RMSE test: 4375.42822265625\nEpoch: 27300, RMSE test: 4376.52294921875\nEpoch: 27310, RMSE test: 4377.62109375\nEpoch: 27320, RMSE test: 4378.72265625\nEpoch: 27330, RMSE test: 4379.82763671875\nEpoch: 27340, RMSE test: 4380.935546875\nEpoch: 27350, RMSE test: 4382.0478515625\nEpoch: 27360, RMSE test: 4383.16259765625\nEpoch: 27370, RMSE test: 4384.28125\nEpoch: 27380, RMSE test: 4385.40185546875\nEpoch: 27390, RMSE test: 4386.52734375\nEpoch: 27400, RMSE test: 4387.6552734375\nEpoch: 27410, RMSE test: 4388.78662109375\nEpoch: 27420, RMSE test: 4389.9208984375\nEpoch: 27430, RMSE test: 4391.05908203125\nEpoch: 27440, RMSE test: 4392.2001953125\nEpoch: 27450, RMSE test: 4393.34375\nEpoch: 27460, RMSE test: 4394.49169921875\nEpoch: 27470, RMSE test: 4395.6416015625\nEpoch: 27480, RMSE test: 4396.79541015625\nEpoch: 27490, RMSE test: 4397.95166015625\nEpoch: 27500, RMSE test: 4399.11181640625\nEpoch: 27510, RMSE test: 4400.27490234375\nEpoch: 27520, RMSE test: 4401.4404296875\nEpoch: 27530, RMSE test: 4402.611328125\nEpoch: 27540, RMSE test: 4403.7841796875\nEpoch: 27550, RMSE test: 4404.9599609375\nEpoch: 27560, RMSE test: 4406.138671875\nEpoch: 27570, RMSE test: 4407.3212890625\nEpoch: 27580, RMSE test: 4408.50634765625\nEpoch: 27590, RMSE test: 4409.6943359375\nEpoch: 27600, RMSE test: 4410.88671875\nEpoch: 27610, RMSE test: 4412.08154296875\nEpoch: 27620, RMSE test: 4413.2783203125\nEpoch: 27630, RMSE test: 4414.478515625\nEpoch: 27640, RMSE test: 4415.68310546875\nEpoch: 27650, RMSE test: 4416.88916015625\nEpoch: 27660, RMSE test: 4418.0986328125\nEpoch: 27670, RMSE test: 4419.31201171875\nEpoch: 27680, RMSE test: 4420.52783203125\nEpoch: 27690, RMSE test: 4421.74560546875\nEpoch: 27700, RMSE test: 4422.966796875\nEpoch: 27710, RMSE test: 4424.19189453125\nEpoch: 27720, RMSE test: 4425.41845703125\nEpoch: 27730, RMSE test: 4426.64892578125\nEpoch: 27740, RMSE test: 4427.8818359375\nEpoch: 27750, RMSE test: 4429.11865234375\nEpoch: 27760, RMSE test: 4430.3583984375\nEpoch: 27770, RMSE test: 4431.60107421875\nEpoch: 27780, RMSE test: 4432.84619140625\nEpoch: 27790, RMSE test: 4434.09423828125\nEpoch: 27800, RMSE test: 4435.34521484375\nEpoch: 27810, RMSE test: 4436.599609375\nEpoch: 27820, RMSE test: 4437.8564453125\nEpoch: 27830, RMSE test: 4439.1162109375\nEpoch: 27840, RMSE test: 4440.37841796875\nEpoch: 27850, RMSE test: 4441.6435546875\nEpoch: 27860, RMSE test: 4442.91162109375\nEpoch: 27870, RMSE test: 4444.1826171875\nEpoch: 27880, RMSE test: 4445.45654296875\nEpoch: 27890, RMSE test: 4446.732421875\nEpoch: 27900, RMSE test: 4448.01171875\nEpoch: 27910, RMSE test: 4449.29296875\nEpoch: 27920, RMSE test: 4450.578125\nEpoch: 27930, RMSE test: 4451.86572265625\nEpoch: 27940, RMSE test: 4453.1552734375\nEpoch: 27950, RMSE test: 4454.44775390625\nEpoch: 27960, RMSE test: 4455.7431640625\nEpoch: 27970, RMSE test: 4457.04150390625\nEpoch: 27980, RMSE test: 4458.341796875\nEpoch: 27990, RMSE test: 4459.6455078125\nEpoch: 28000, RMSE test: 4460.95166015625\nEpoch: 28010, RMSE test: 4462.26123046875\nEpoch: 28020, RMSE test: 4463.5732421875\nEpoch: 28030, RMSE test: 4464.8876953125\nEpoch: 28040, RMSE test: 4466.2041015625\nEpoch: 28050, RMSE test: 4467.52392578125\nEpoch: 28060, RMSE test: 4468.84619140625\nEpoch: 28070, RMSE test: 4470.17041015625\nEpoch: 28080, RMSE test: 4471.49853515625\nEpoch: 28090, RMSE test: 4472.82763671875\nEpoch: 28100, RMSE test: 4474.15966796875\nEpoch: 28110, RMSE test: 4475.494140625\nEpoch: 28120, RMSE test: 4476.83154296875\nEpoch: 28130, RMSE test: 4478.17138671875\nEpoch: 28140, RMSE test: 4479.51318359375\nEpoch: 28150, RMSE test: 4480.8583984375\nEpoch: 28160, RMSE test: 4482.205078125\nEpoch: 28170, RMSE test: 4483.5546875\nEpoch: 28180, RMSE test: 4484.90673828125\nEpoch: 28190, RMSE test: 4486.2607421875\nEpoch: 28200, RMSE test: 4487.61767578125\nEpoch: 28210, RMSE test: 4488.97705078125\nEpoch: 28220, RMSE test: 4490.3388671875\nEpoch: 28230, RMSE test: 4491.703125\nEpoch: 28240, RMSE test: 4493.0693359375\nEpoch: 28250, RMSE test: 4494.43896484375\nEpoch: 28260, RMSE test: 4495.8095703125\nEpoch: 28270, RMSE test: 4497.18310546875\nEpoch: 28280, RMSE test: 4498.5595703125\nEpoch: 28290, RMSE test: 4499.9365234375\nEpoch: 28300, RMSE test: 4501.31787109375\nEpoch: 28310, RMSE test: 4502.69970703125\nEpoch: 28320, RMSE test: 4504.0849609375\nEpoch: 28330, RMSE test: 4505.4716796875\nEpoch: 28340, RMSE test: 4506.8603515625\nEpoch: 28350, RMSE test: 4508.25244140625\nEpoch: 28360, RMSE test: 4509.64599609375\nEpoch: 28370, RMSE test: 4511.041015625\nEpoch: 28380, RMSE test: 4512.439453125\nEpoch: 28390, RMSE test: 4513.83984375\nEpoch: 28400, RMSE test: 4515.2421875\nEpoch: 28410, RMSE test: 4516.64697265625\nEpoch: 28420, RMSE test: 4518.05419921875\nEpoch: 28430, RMSE test: 4519.46240234375\nEpoch: 28440, RMSE test: 4520.873046875\nEpoch: 28450, RMSE test: 4522.2861328125\nEpoch: 28460, RMSE test: 4523.701171875\nEpoch: 28470, RMSE test: 4525.11865234375\nEpoch: 28480, RMSE test: 4526.537109375\nEpoch: 28490, RMSE test: 4527.9580078125\nEpoch: 28500, RMSE test: 4529.3798828125\nEpoch: 28510, RMSE test: 4530.80517578125\nEpoch: 28520, RMSE test: 4532.2314453125\nEpoch: 28530, RMSE test: 4533.66015625\nEpoch: 28540, RMSE test: 4535.091796875\nEpoch: 28550, RMSE test: 4536.5244140625\nEpoch: 28560, RMSE test: 4537.9599609375\nEpoch: 28570, RMSE test: 4539.3955078125\nEpoch: 28580, RMSE test: 4540.8349609375\nEpoch: 28590, RMSE test: 4542.2744140625\nEpoch: 28600, RMSE test: 4543.716796875\nEpoch: 28610, RMSE test: 4545.16064453125\nEpoch: 28620, RMSE test: 4546.60595703125\nEpoch: 28630, RMSE test: 4548.0537109375\nEpoch: 28640, RMSE test: 4549.50244140625\nEpoch: 28650, RMSE test: 4550.95361328125\nEpoch: 28660, RMSE test: 4552.40673828125\nEpoch: 28670, RMSE test: 4553.86181640625\nEpoch: 28680, RMSE test: 4555.318359375\nEpoch: 28690, RMSE test: 4556.775390625\nEpoch: 28700, RMSE test: 4558.23583984375\nEpoch: 28710, RMSE test: 4559.6962890625\nEpoch: 28720, RMSE test: 4561.15966796875\nEpoch: 28730, RMSE test: 4562.62353515625\nEpoch: 28740, RMSE test: 4564.09033203125\nEpoch: 28750, RMSE test: 4565.55810546875\nEpoch: 28760, RMSE test: 4567.0283203125\nEpoch: 28770, RMSE test: 4568.4990234375\nEpoch: 28780, RMSE test: 4569.9716796875\nEpoch: 28790, RMSE test: 4571.44580078125\nEpoch: 28800, RMSE test: 4572.9208984375\n"
    },
    {
     "name": "stdout",
     "output_type": "stream",
     "text": "Epoch: 28810, RMSE test: 4574.3974609375\nEpoch: 28820, RMSE test: 4575.87646484375\nEpoch: 28830, RMSE test: 4577.3564453125\nEpoch: 28840, RMSE test: 4578.83837890625\nEpoch: 28850, RMSE test: 4580.322265625\nEpoch: 28860, RMSE test: 4581.80615234375\nEpoch: 28870, RMSE test: 4583.29248046875\nEpoch: 28880, RMSE test: 4584.77880859375\nEpoch: 28890, RMSE test: 4586.26708984375\nEpoch: 28900, RMSE test: 4587.75732421875\nEpoch: 28910, RMSE test: 4589.2490234375\nEpoch: 28920, RMSE test: 4590.7421875\nEpoch: 28930, RMSE test: 4592.2353515625\nEpoch: 28940, RMSE test: 4593.73095703125\nEpoch: 28950, RMSE test: 4595.22705078125\nEpoch: 28960, RMSE test: 4596.724609375\nEpoch: 28970, RMSE test: 4598.2236328125\nEpoch: 28980, RMSE test: 4599.72412109375\nEpoch: 28990, RMSE test: 4601.22607421875\nEpoch: 29000, RMSE test: 4602.72802734375\nEpoch: 29010, RMSE test: 4604.23193359375\nEpoch: 29020, RMSE test: 4605.73583984375\nEpoch: 29030, RMSE test: 4607.2421875\nEpoch: 29040, RMSE test: 4608.75\nEpoch: 29050, RMSE test: 4610.25830078125\nEpoch: 29060, RMSE test: 4611.76708984375\nEpoch: 29070, RMSE test: 4613.27734375\nEpoch: 29080, RMSE test: 4614.7880859375\nEpoch: 29090, RMSE test: 4616.30126953125\nEpoch: 29100, RMSE test: 4617.81396484375\nEpoch: 29110, RMSE test: 4619.32861328125\nEpoch: 29120, RMSE test: 4620.84423828125\nEpoch: 29130, RMSE test: 4622.35986328125\nEpoch: 29140, RMSE test: 4623.87744140625\nEpoch: 29150, RMSE test: 4625.39501953125\nEpoch: 29160, RMSE test: 4626.9140625\nEpoch: 29170, RMSE test: 4628.43408203125\nEpoch: 29180, RMSE test: 4629.95458984375\nEpoch: 29190, RMSE test: 4631.47607421875\nEpoch: 29200, RMSE test: 4632.9990234375\nEpoch: 29210, RMSE test: 4634.52099609375\nEpoch: 29220, RMSE test: 4636.0458984375\nEpoch: 29230, RMSE test: 4637.5693359375\nEpoch: 29240, RMSE test: 4639.095703125\nEpoch: 29250, RMSE test: 4640.62109375\nEpoch: 29260, RMSE test: 4642.14794921875\nEpoch: 29270, RMSE test: 4643.6748046875\nEpoch: 29280, RMSE test: 4645.20458984375\nEpoch: 29290, RMSE test: 4646.73193359375\nEpoch: 29300, RMSE test: 4648.26123046875\nEpoch: 29310, RMSE test: 4649.79150390625\nEpoch: 29320, RMSE test: 4651.322265625\nEpoch: 29330, RMSE test: 4652.853515625\nEpoch: 29340, RMSE test: 4654.384765625\nEpoch: 29350, RMSE test: 4655.91650390625\nEpoch: 29360, RMSE test: 4657.44921875\nEpoch: 29370, RMSE test: 4658.98291015625\nEpoch: 29380, RMSE test: 4660.515625\nEpoch: 29390, RMSE test: 4662.0498046875\nEpoch: 29400, RMSE test: 4663.58447265625\nEpoch: 29410, RMSE test: 4665.11865234375\nEpoch: 29420, RMSE test: 4666.65380859375\nEpoch: 29430, RMSE test: 4668.189453125\nEpoch: 29440, RMSE test: 4669.7255859375\nEpoch: 29450, RMSE test: 4671.26123046875\nEpoch: 29460, RMSE test: 4672.79833984375\nEpoch: 29470, RMSE test: 4674.33447265625\nEpoch: 29480, RMSE test: 4675.8720703125\nEpoch: 29490, RMSE test: 4677.40869140625\nEpoch: 29500, RMSE test: 4678.9453125\nEpoch: 29510, RMSE test: 4680.48388671875\nEpoch: 29520, RMSE test: 4682.02197265625\nEpoch: 29530, RMSE test: 4683.5595703125\nEpoch: 29540, RMSE test: 4685.0986328125\nEpoch: 29550, RMSE test: 4686.6357421875\nEpoch: 29560, RMSE test: 4688.17431640625\nEpoch: 29570, RMSE test: 4689.71240234375\nEpoch: 29580, RMSE test: 4691.2509765625\nEpoch: 29590, RMSE test: 4692.78857421875\nEpoch: 29600, RMSE test: 4694.32763671875\nEpoch: 29610, RMSE test: 4695.86572265625\nEpoch: 29620, RMSE test: 4697.4033203125\nEpoch: 29630, RMSE test: 4698.9423828125\nEpoch: 29640, RMSE test: 4700.48095703125\nEpoch: 29650, RMSE test: 4702.01806640625\nEpoch: 29660, RMSE test: 4703.55615234375\nEpoch: 29670, RMSE test: 4705.09423828125\nEpoch: 29680, RMSE test: 4706.630859375\nEpoch: 29690, RMSE test: 4708.16943359375\nEpoch: 29700, RMSE test: 4709.7060546875\nEpoch: 29710, RMSE test: 4711.24267578125\nEpoch: 29720, RMSE test: 4712.77978515625\nEpoch: 29730, RMSE test: 4714.31640625\nEpoch: 29740, RMSE test: 4715.8515625\nEpoch: 29750, RMSE test: 4717.38818359375\nEpoch: 29760, RMSE test: 4718.923828125\nEpoch: 29770, RMSE test: 4720.4580078125\nEpoch: 29780, RMSE test: 4721.9931640625\nEpoch: 29790, RMSE test: 4723.52685546875\nEpoch: 29800, RMSE test: 4725.060546875\nEpoch: 29810, RMSE test: 4726.59423828125\nEpoch: 29820, RMSE test: 4728.126953125\nEpoch: 29830, RMSE test: 4729.65966796875\nEpoch: 29840, RMSE test: 4731.19140625\nEpoch: 29850, RMSE test: 4732.72265625\nEpoch: 29860, RMSE test: 4734.25390625\nEpoch: 29870, RMSE test: 4735.78369140625\nEpoch: 29880, RMSE test: 4737.31298828125\nEpoch: 29890, RMSE test: 4738.8427734375\nEpoch: 29900, RMSE test: 4740.3701171875\nEpoch: 29910, RMSE test: 4741.8974609375\nEpoch: 29920, RMSE test: 4743.42431640625\nEpoch: 29930, RMSE test: 4744.95068359375\nEpoch: 29940, RMSE test: 4746.47509765625\nEpoch: 29950, RMSE test: 4747.99951171875\nEpoch: 29960, RMSE test: 4749.5234375\nEpoch: 29970, RMSE test: 4751.04638671875\nEpoch: 29980, RMSE test: 4752.568359375\nEpoch: 29990, RMSE test: 4754.08984375\nEpoch: 29999, RMSE test: 4755.45849609375\n"
    }
   ],
   "source": [
    "from sklearn.metrics import mean_squared_error\n",
    "for epoch in range(n_epochs):\n",
    "    optimizer.zero_grad()\n",
    "    z_train_t = net_simple_single.forward(X_train_t).flatten()\n",
    "    mse_value_train = loss(z_train_t, y_train_t)\n",
    "    mse_value_train.backward()\n",
    "    optimizer.step()\n",
    "\n",
    "    if epoch % 10 == 0 or epoch == n_epochs - 1:\n",
    "        with torch.no_grad(): # еще можно отключить вычисления градиентов это ускорит обучение \n",
    "            net_simple_single.eval()\n",
    "            z_test_t = net_simple_single.forward(X_test_t).flatten()\n",
    "#             mse_value_test = loss(z_test_t, y_test_t)  \n",
    "            mse_value_test = mean_squared_error(z_test_t, y_test_t, squared=False)# воспользуемся готовой функцией для подсчета RMSE\n",
    "            print(f\"Epoch: {epoch}, RMSE test: {mse_value_test}\")\n",
    "\n",
    "            net_simple_single_mse_train.append(mse_value_train.item())\n",
    "            net_simple_single_mse_test.append(mse_value_test.item())"
   ]
  },
  {
   "cell_type": "code",
   "execution_count": 38,
   "metadata": {
    "trusted": false
   },
   "outputs": [
    {
     "data": {
      "image/png": "[encoded data removed]",
      "text/plain": "<Figure size 432x288 with 1 Axes>"
     },
     "metadata": {},
     "output_type": "display_data"
    }
   ],
   "source": [
    "net_simple_single_mse_x = np.arange(len(net_simple_single_mse_test))\n",
    "plt.plot(net_simple_single_mse_x, net_simple_single_mse_train, color='green')\n",
    "plt.plot(net_simple_single_mse_x, net_simple_single_mse_test, color='red')\n",
    "plt.show()"
   ]
  },
  {
   "cell_type": "markdown",
   "metadata": {},
   "source": [
    "- ошибка высока\n",
    "- остановить обучение надо было бы около 23000 epochs"
   ]
  },
  {
   "cell_type": "markdown",
   "metadata": {},
   "source": [
    "<div class=\"alert alert-warning\">\n",
    "<b>Комментарий ревьюера ⚠️:</b> Супер, что построил график лосса, но лучше еще рядом построить график, то как наша метрика растет/падает/изменяется\n",
    "\n",
    "</div>"
   ]
  },
  {
   "cell_type": "markdown",
   "metadata": {},
   "source": [
    "<div class=\"alert alert-success\">\n",
    "<b>Комментарий ревьюера ✔️:</b> Если воспользуешься Dataset и Dataloader, то будешь героем!!! Огромный плюс, в том, что тебе не придется самому делать батчи + удобно очень использовать и выгружать данные (на больших проектах очень выручают, поэтому будет круто если разберешься, там нет ничего сложного, если что могу помочь, если не получится) P.S если что, не обращай внимание на collate_fn\n",
    "                \n",
    "+  https://towardsdatascience.com/how-to-use-datasets-and-dataloader-in-pytorch-for-custom-text-data-270eed7f7c00\n",
    "    \n",
    "    \n",
    "P.S В самом конце проекта оставил код с Dataset и Dataloader это на случай если не получится или запутаешься:) Попробуй разобраться самостоятельно\n",
    "    \n",
    "\n",
    "Да, ты прав, у нас происходит переобучение и нужно вовремя остановиться. Для этого воспользуемся EarlyStopping, благодаря ему можно не подбирать кол-во эпох\n",
    "                \n",
    "+  https://debuggercafe.com/using-learning-rate-scheduler-and-early-stopping-with-pytorch/\n",
    "</div>"
   ]
  },
  {
   "cell_type": "code",
   "execution_count": 40,
   "metadata": {
    "trusted": false
   },
   "outputs": [],
   "source": [
    "#КОД РЕВЬЮЕРА\n",
    "class CustomEarlyStopping():\n",
    "    \"\"\"\n",
    "    Ранняя остановка, чтобы остановить тренировку, когда потеря не улучшается после определенной эпохи.\n",
    "    \"\"\"\n",
    "    def __init__(self, patience=5, min_delta=100):\n",
    "        \"\"\"\n",
    "        :param patience: сколько эпох ждать, прежде чем остановиться, когда потеря не улучшается\n",
    "        :param min_delta: минимальная разница между loss/метриками, если улучшений нет, то остановим обучение\n",
    "        \"\"\"\n",
    "        self.patience = patience\n",
    "        self.min_delta = min_delta\n",
    "        self.counter = 0\n",
    "        self.best_loss = None\n",
    "        self.early_stop = False\n",
    "\n",
    "    def __call__(self, val_loss):\n",
    "        if self.best_loss == None:\n",
    "            self.best_loss = val_loss\n",
    "        elif self.best_loss - val_loss > self.min_delta:\n",
    "            self.best_loss = val_loss\n",
    "            # reset counter if validation loss improves\n",
    "            self.counter = 0\n",
    "        elif self.best_loss - val_loss < self.min_delta:\n",
    "            self.counter += 1\n",
    "            print(f\"INFO: Early stopping counter {self.counter} of {self.patience}\")\n",
    "            if self.counter >= self.patience:\n",
    "                print('INFO: Early stopping', f'delta={self.best_loss - val_loss}')\n",
    "                self.early_stop = True"
   ]
  },
  {
   "cell_type": "code",
   "execution_count": 41,
   "metadata": {
    "trusted": false
   },
   "outputs": [
    {
     "name": "stdout",
     "output_type": "stream",
     "text": "RMSE:  10000\nRMSE:  9500\nRMSE:  9000\nRMSE:  8500\nRMSE:  8000\nRMSE:  7500\nRMSE:  7000\nRMSE:  6500\nRMSE:  6000\nRMSE:  5500\nRMSE:  1000\nRMSE:  1100\nINFO: Early stopping counter 1 of 2\nRMSE:  1200\nINFO: Early stopping counter 2 of 2\nINFO: Early stopping delta=-200\nCPU times: user 0 ns, sys: 2.21 ms, total: 2.21 ms\nWall time: 1.33 ms\n"
    }
   ],
   "source": [
    "%%time\n",
    "#КОД РЕВЬЮЕРА\n",
    "test_rmse = list(range(10000, 5000, -500)) + list(range(1000, 6000, 100))\n",
    "\n",
    "early_stopping = CustomEarlyStopping(patience=2, min_delta=10) #эти параметры можно подбирать\n",
    "\n",
    "for i in test_rmse:\n",
    "    print(\"RMSE: \", i)\n",
    "    early_stopping(i)\n",
    "    if early_stopping.early_stop:\n",
    "        break"
   ]
  },
  {
   "cell_type": "code",
   "execution_count": 39,
   "metadata": {
    "trusted": false
   },
   "outputs": [],
   "source": [
    "net_simple_setup = []\n",
    "n_hidden_layers = 5\n",
    "for i in range(n_hidden_layers):\n",
    "    net_simple_setup.append(nn.Linear(15, 15))\n",
    "net_simple_setup.append(nn.Linear(15, 1)) # layer out"
   ]
  },
  {
   "cell_type": "markdown",
   "metadata": {},
   "source": [
    "<div class=\"alert alert-warning\">\n",
    "<b>Комментарий ревьюера ⚠️:</b> Идея хорошая, но, лучше будет если будешь менять кол-во нейронов. Можно кстати это делать рандомно \n",
    "    \n",
    "P.S Baseline подразумевает, что мы прогоним созданную нейросеть и посмотрим, что же получится. Без какого либо подбора параметро и чего либо еще. Baseline нужен как скелет, то от чего потом можно будет отталкиваться:)  А улучшения/подбор/какого либо рода модификация уже в следующем разделе\n",
    "</div>"
   ]
  },
  {
   "cell_type": "code",
   "execution_count": 40,
   "metadata": {
    "trusted": false
   },
   "outputs": [],
   "source": [
    "net_simple_five = nn.Sequential(*net_simple_setup)\n",
    "n_epochs = 1000\n",
    "optimizer = torch.optim.Adam(net_simple_five.parameters(), lr=learning_rate)\n",
    "loss = nn.MSELoss()"
   ]
  },
  {
   "cell_type": "code",
   "execution_count": 41,
   "metadata": {
    "trusted": false
   },
   "outputs": [],
   "source": [
    "net_simple_five_mse_train = []\n",
    "net_simple_five_mse_test = []"
   ]
  },
  {
   "cell_type": "code",
   "execution_count": 42,
   "metadata": {
    "trusted": false
   },
   "outputs": [],
   "source": [
    "for epoch in range(n_epochs):\n",
    "    optimizer.zero_grad()\n",
    "    z_train_t = net_simple_five.forward(X_train_t).flatten()\n",
    "    mse_value_train = loss(z_train_t, y_train_t)\n",
    "    mse_value_train.backward()\n",
    "    optimizer.step()\n",
    "\n",
    "    if epoch % 10 == 0 or epoch == n_epochs - 1:\n",
    "        net_simple_five.eval()\n",
    "        z_test_t = net_simple_five.forward(X_test_t).flatten()\n",
    "        mse_value_test = loss(z_test_t, y_test_t)\n",
    "        mse_value_test.backward()\n",
    "\n",
    "        net_simple_five_mse_train.append(mse_value_train.item())\n",
    "        net_simple_five_mse_test.append(mse_value_test.item())"
   ]
  },
  {
   "cell_type": "code",
   "execution_count": 43,
   "metadata": {
    "trusted": false
   },
   "outputs": [
    {
     "data": {
      "image/png": "[encoded data removed]",
      "text/plain": "<Figure size 432x288 with 1 Axes>"
     },
     "metadata": {},
     "output_type": "display_data"
    }
   ],
   "source": [
    "net_simple_five_mse_x = np.arange(len(net_simple_five_mse_test))\n",
    "plt.plot(net_simple_five_mse_x, net_simple_five_mse_train, color='green')\n",
    "plt.plot(net_simple_five_mse_x, net_simple_five_mse_test, color='red')\n",
    "plt.show()"
   ]
  },
  {
   "cell_type": "markdown",
   "metadata": {},
   "source": [
    "- ошибка не улучшилась, но благодаря слоям модель обучается быстрее"
   ]
  },
  {
   "cell_type": "code",
   "execution_count": 43,
   "metadata": {
    "trusted": false
   },
   "outputs": [],
   "source": []
  },
  {
   "cell_type": "code",
   "execution_count": 43,
   "metadata": {
    "trusted": false
   },
   "outputs": [],
   "source": []
  },
  {
   "cell_type": "code",
   "execution_count": 44,
   "metadata": {
    "trusted": false
   },
   "outputs": [],
   "source": [
    "net_swish_setup = []\n",
    "n_hidden_layers = 20\n",
    "for i in range(n_hidden_layers):\n",
    "    net_swish_setup.append(nn.Linear(15, 15))\n",
    "    net_swish_setup.append(nn.Hardswish())\n",
    "net_swish_setup.append(nn.Linear(15, 1)) # layer out"
   ]
  },
  {
   "cell_type": "code",
   "execution_count": 45,
   "metadata": {
    "trusted": false
   },
   "outputs": [],
   "source": [
    "net_swish = nn.Sequential(*net_swish_setup)\n",
    "n_epochs = 1000\n",
    "optimizer = torch.optim.Adam(net_swish.parameters(), lr=learning_rate)\n",
    "loss = nn.MSELoss()"
   ]
  },
  {
   "cell_type": "code",
   "execution_count": 46,
   "metadata": {
    "trusted": false
   },
   "outputs": [],
   "source": [
    "net_swish_mse_train = []\n",
    "net_swish_mse_test = []"
   ]
  },
  {
   "cell_type": "code",
   "execution_count": 47,
   "metadata": {
    "trusted": false
   },
   "outputs": [],
   "source": [
    "for epoch in range(n_epochs):\n",
    "    optimizer.zero_grad()\n",
    "    z_train_t = net_swish.forward(X_train_t).flatten()\n",
    "    mse_value_train = loss(z_train_t, y_train_t)\n",
    "    mse_value_train.backward()\n",
    "    optimizer.step()\n",
    "\n",
    "    if epoch % 5 == 0 or epoch == n_epochs - 1:\n",
    "        net_swish.eval()\n",
    "        z_test_t = net_swish.forward(X_test_t).flatten()\n",
    "        mse_value_test = loss(z_test_t, y_test_t)\n",
    "\n",
    "        net_swish_mse_train.append(mse_value_train.item())\n",
    "        net_swish_mse_test.append(mse_value_test.item())"
   ]
  },
  {
   "cell_type": "code",
   "execution_count": 48,
   "metadata": {
    "trusted": false
   },
   "outputs": [
    {
     "data": {
      "image/png": "[encoded data removed]",
      "text/plain": "<Figure size 432x288 with 1 Axes>"
     },
     "metadata": {},
     "output_type": "display_data"
    }
   ],
   "source": [
    "net_swish_mse_x = np.arange(len(net_swish_mse_train))\n",
    "plt.plot(net_swish_mse_x, net_swish_mse_train, color='green')\n",
    "plt.plot(net_swish_mse_x, net_swish_mse_test, color='red')\n",
    "plt.show()"
   ]
  },
  {
   "cell_type": "code",
   "execution_count": 49,
   "metadata": {
    "trusted": false
   },
   "outputs": [
    {
     "data": {
      "image/png": "[encoded data removed]",
      "text/plain": "<Figure size 432x288 with 1 Axes>"
     },
     "metadata": {},
     "output_type": "display_data"
    }
   ],
   "source": [
    "x = np.arange(10)\n",
    "plt.bar(x, y_test_t.detach().numpy()[:10], width=0.5, alpha=0.8, color='red')\n",
    "plt.bar(x, z_test_t.detach().numpy()[:10], width=0.3, alpha=0.8, color='yellow')\n",
    "plt.show()"
   ]
  },
  {
   "cell_type": "markdown",
   "metadata": {},
   "source": [
    "<div class=\"alert alert-success\">\n",
    "<b>Комментарий ревьюера V2✔️:</b> Хорошо\n",
    "</div>"
   ]
  },
  {
   "cell_type": "code",
   "execution_count": 49,
   "metadata": {
    "trusted": false
   },
   "outputs": [],
   "source": []
  },
  {
   "cell_type": "markdown",
   "metadata": {},
   "source": [
    "# Улучшение сети"
   ]
  },
  {
   "cell_type": "markdown",
   "metadata": {},
   "source": [
    "- Dropout\n",
    "- Batch Normalization"
   ]
  },
  {
   "cell_type": "code",
   "execution_count": 50,
   "metadata": {
    "trusted": false
   },
   "outputs": [],
   "source": [
    "net_b_norm_setup = []\n",
    "n_hidden_layers = 20\n",
    "for i in range(n_hidden_layers):\n",
    "    net_b_norm_setup.append(nn.Linear(15, 15))\n",
    "    net_b_norm_setup.append(nn.BatchNorm1d(15))\n",
    "    net_b_norm_setup.append(nn.Hardswish())\n",
    "net_b_norm_setup.append(nn.Linear(15, 1)) # layer out"
   ]
  },
  {
   "cell_type": "code",
   "execution_count": 51,
   "metadata": {
    "trusted": false
   },
   "outputs": [],
   "source": [
    "net_b_norm = nn.Sequential(*net_b_norm_setup)\n",
    "n_epochs = 1200\n",
    "optimizer = torch.optim.Adam(net_b_norm.parameters(), lr=learning_rate)\n",
    "loss = nn.MSELoss()"
   ]
  },
  {
   "cell_type": "code",
   "execution_count": 52,
   "metadata": {
    "trusted": false
   },
   "outputs": [],
   "source": [
    "net_b_norm_mse_train = []\n",
    "net_b_norm_mse_test = []"
   ]
  },
  {
   "cell_type": "code",
   "execution_count": 53,
   "metadata": {
    "trusted": false
   },
   "outputs": [],
   "source": [
    "for epoch in range(n_epochs):\n",
    "    optimizer.zero_grad()\n",
    "    z_train_t = net_b_norm.forward(X_train_t).flatten()\n",
    "    mse_value_train = loss(z_train_t, y_train_t)\n",
    "    mse_value_train.backward()\n",
    "    optimizer.step()\n",
    "\n",
    "    rmse = torch.sqrt(torch.sum(torch.pow(y_test_t - z_test_t, 2))).item()\n",
    "    if rmse <= 4500:\n",
    "        print(rmse)\n",
    "        break\n",
    "\n",
    "    if epoch % 5 == 0 or epoch == n_epochs - 1:\n",
    "        net_b_norm.eval()\n",
    "        z_test_t = net_b_norm.forward(X_test_t).flatten()\n",
    "        mse_value_test = loss(z_test_t, y_test_t)\n",
    "\n",
    "        net_b_norm_mse_train.append(mse_value_train.item())\n",
    "        net_b_norm_mse_test.append(mse_value_test.item())"
   ]
  },
  {
   "cell_type": "code",
   "execution_count": 54,
   "metadata": {
    "trusted": false
   },
   "outputs": [
    {
     "data": {
      "image/png": "[encoded data removed]",
      "text/plain": "<Figure size 432x288 with 1 Axes>"
     },
     "metadata": {},
     "output_type": "display_data"
    }
   ],
   "source": [
    "net_b_norm_mse_x = np.arange(len(net_b_norm_mse_train))\n",
    "plt.plot(net_b_norm_mse_x, net_b_norm_mse_train, color='green')\n",
    "plt.plot(net_b_norm_mse_x, net_b_norm_mse_test, color='red')\n",
    "plt.show()"
   ]
  },
  {
   "cell_type": "code",
   "execution_count": 55,
   "metadata": {
    "trusted": false
   },
   "outputs": [
    {
     "data": {
      "image/png": "[encoded data removed]",
      "text/plain": "<Figure size 432x288 with 1 Axes>"
     },
     "metadata": {},
     "output_type": "display_data"
    }
   ],
   "source": [
    "x = np.arange(10)\n",
    "plt.bar(x, y_test_t.detach().numpy()[:10], width=0.5, alpha=0.8, color='red')\n",
    "plt.bar(x, z_test_t.detach().numpy()[:10], width=0.3, alpha=0.8, color='yellow')\n",
    "plt.show()"
   ]
  },
  {
   "cell_type": "code",
   "execution_count": 55,
   "metadata": {
    "trusted": false
   },
   "outputs": [],
   "source": []
  },
  {
   "cell_type": "code",
   "execution_count": 55,
   "metadata": {
    "trusted": false
   },
   "outputs": [],
   "source": []
  },
  {
   "cell_type": "code",
   "execution_count": 56,
   "metadata": {
    "trusted": false
   },
   "outputs": [],
   "source": [
    "net_drop_setup = []\n",
    "n_hidden_layers = 20\n",
    "for i in range(n_hidden_layers):\n",
    "    net_drop_setup.append(nn.Linear(15, 15))\n",
    "    net_drop_setup.append(nn.Dropout(p=0.5))\n",
    "    net_drop_setup.append(nn.Hardswish())\n",
    "net_drop_setup.append(nn.Linear(15, 1)) # layer out"
   ]
  },
  {
   "cell_type": "code",
   "execution_count": 57,
   "metadata": {
    "trusted": false
   },
   "outputs": [],
   "source": [
    "net_drop = nn.Sequential(*net_drop_setup)\n",
    "n_epochs = 1400\n",
    "optimizer = torch.optim.Adam(net_drop.parameters(), lr=learning_rate)\n",
    "loss = nn.MSELoss()"
   ]
  },
  {
   "cell_type": "code",
   "execution_count": 58,
   "metadata": {
    "trusted": false
   },
   "outputs": [],
   "source": [
    "net_drop_mse_train = []\n",
    "net_drop_mse_test = []"
   ]
  },
  {
   "cell_type": "code",
   "execution_count": 59,
   "metadata": {
    "trusted": false
   },
   "outputs": [],
   "source": [
    "for epoch in range(n_epochs):\n",
    "    optimizer.zero_grad()\n",
    "    z_train_t = net_drop.forward(X_train_t).flatten()\n",
    "    mse_value_train = loss(z_train_t, y_train_t)\n",
    "    mse_value_train.backward()\n",
    "    optimizer.step()\n",
    "\n",
    "    rmse = torch.sqrt(torch.sum(torch.pow(y_test_t - z_test_t, 2))).item()\n",
    "    if rmse <= 4500:\n",
    "        print(rmse)\n",
    "        break\n",
    "\n",
    "    if epoch % 5 == 0 or epoch == n_epochs - 1:\n",
    "        net_drop.eval()\n",
    "        z_test_t = net_drop.forward(X_test_t).flatten()\n",
    "        mse_value_test = loss(z_test_t, y_test_t)\n",
    "\n",
    "        net_drop_mse_train.append(mse_value_train.item())\n",
    "        net_drop_mse_test.append(mse_value_test.item())"
   ]
  },
  {
   "cell_type": "code",
   "execution_count": 60,
   "metadata": {
    "trusted": false
   },
   "outputs": [
    {
     "data": {
      "image/png": "[encoded data removed]",
      "text/plain": "<Figure size 432x288 with 1 Axes>"
     },
     "metadata": {},
     "output_type": "display_data"
    }
   ],
   "source": [
    "net_drop_mse_x = np.arange(len(net_drop_mse_train))\n",
    "plt.plot(net_drop_mse_x, net_drop_mse_train, color='green')\n",
    "plt.plot(net_drop_mse_x, net_drop_mse_test, color='red')\n",
    "plt.show()"
   ]
  },
  {
   "cell_type": "markdown",
   "metadata": {},
   "source": [
    "<div class=\"alert alert-warning\">\n",
    "<b>Комментарий ревьюера ⚠️:</b> Кстати, как отличается данный график от предыдущего? что изменилось?\n",
    "</div>"
   ]
  },
  {
   "cell_type": "code",
   "execution_count": 61,
   "metadata": {
    "trusted": false
   },
   "outputs": [
    {
     "data": {
      "image/png": "[encoded data removed]",
      "text/plain": "<Figure size 432x288 with 1 Axes>"
     },
     "metadata": {},
     "output_type": "display_data"
    }
   ],
   "source": [
    "x = np.arange(10)\n",
    "plt.bar(x, y_test_t.detach().numpy()[:10], width=0.5, alpha=0.8, color='red')\n",
    "plt.bar(x, z_test_t.detach().numpy()[:10], width=0.3, alpha=0.8, color='yellow')\n",
    "plt.show()"
   ]
  },
  {
   "cell_type": "code",
   "execution_count": 62,
   "metadata": {
    "trusted": false
   },
   "outputs": [],
   "source": [
    "rmse = torch.sqrt(torch.sum(torch.pow(y_test_t - z_test_t, 2))).item()"
   ]
  },
  {
   "cell_type": "markdown",
   "metadata": {},
   "source": [
    "<div class=\"alert alert-danger\">\n",
    "<b>Комментарий ревьюера ❌:</b> У тебя формула тут получилась:\n",
    "\n",
    "$RMSE = \\sqrt { \\sum_{i=1}^n (y_i - pred_i)^2}$\n",
    "    \n",
    "А какая формула RMSE на самом деле?\n",
    "    \n",
    "</div>"
   ]
  },
  {
   "cell_type": "code",
   "execution_count": 63,
   "metadata": {
    "trusted": false
   },
   "outputs": [
    {
     "name": "stdout",
     "output_type": "stream",
     "text": "18378.369140625\n"
    }
   ],
   "source": [
    "print(rmse)"
   ]
  },
  {
   "cell_type": "markdown",
   "metadata": {},
   "source": [
    "# Выводы"
   ]
  },
  {
   "cell_type": "markdown",
   "metadata": {},
   "source": [
    "- У меня не получилось добиться результата, rmse 4500, мне нужен совет."
   ]
  },
  {
   "cell_type": "markdown",
   "metadata": {},
   "source": [
    "<div class=\"alert alert-success\">\n",
    "<b>Комментарий ревьюера ✔️:</b> \n",
    "    \n",
    "```python    \n",
    "    from torch.utils.data import Dataset, DataLoader\n",
    "    dataset_train = torch.utils.data.TensorDataset(x_train, y_train)\n",
    "    dataset_test = torch.utils.data.TensorDataset(x_test, y_test)\n",
    "\n",
    "    train_dataloader = DataLoader(dataset_train, batch_size=32, shuffle=True,\n",
    "                                  num_workers=0)\n",
    "    test_dataloader = DataLoader(dataset_test, batch_size=32, num_workers=0)               \n",
    "```       \n",
    "Пример обучения:\n",
    "    \n",
    "    \n",
    "    \n",
    "```python\n",
    "   for epoch in range(num_epochs):\n",
    "    net.train()\n",
    "    for batch in train_dataloader:\n",
    "        data_train, temperature_train = batch # просто выгружаем данные \n",
    "        optimizer.zero_grad()\n",
    "        \n",
    "        preds = net.forward(data_train).flatten()\n",
    "               \n",
    "        loss_value = torch.sqrt(loss(preds, temperature_train))\n",
    "        loss_value.backward()\n",
    "        optimizer.step()\n",
    "        \n",
    "    if epoch % 200 == 0:\n",
    "        predicted_temp = [] \n",
    "        with torch.no_grad():\n",
    "            net.eval()\n",
    "            for batch in test_dataloader:\n",
    "                data_test, temperature_test = batch # просто выгружаем данные\n",
    "                \n",
    "                test_preds = net.forward(data_test).flatten()\n",
    "                predicted_temp.append(test_preds)\n",
    "                RMSE_loss = torch.sqrt(loss(test_preds, temperature_test))\n",
    "                \n",
    "        predicted_temp = torch.cat(predicted_temp).detach().numpy()\n",
    "        RMSE = mean_squared_error(y_test, predicted_temp, squared=False)\n",
    "        early_stopping(RMSE)\n",
    "        print(f\"epoch:{epoch}, RMSE test: {RMSE}\")\n",
    "        \n",
    "        if early_stopping.early_stop:\n",
    "            print('Early Stoppning!!!')\n",
    "            break \n",
    "    \n",
    "    \n",
    "```\n",
    "</div>"
   ]
  },
  {
   "cell_type": "markdown",
   "metadata": {},
   "source": [
    "<div class=\"alert alert-success\">\n",
    "<b>Комментарий ревьюера ✔️:</b>\n",
    "    \n",
    "Немного полезного материала:    \n",
    "\n",
    "1) Интересный контент вот здесь есть: https://neural-university.ru/ - институт нейросетей. <br>\n",
    "2) Ребята из-за \"бугра\": https://www.reg.ru/blog/stenfordskij-kurs-lekciya-1-vvedenie/ (тут про свёрточные, но интересно)<br>\n",
    "3) Интересная статья специалиста Тесла: https://karpathy.github.io/neuralnets/ <br>\n",
    "4) Список книг на выбор: https://habr.com/ru/company/neurodatalab/blog/336218/ <br>\n",
    "\n",
    "\n",
    "\n",
    "Кстати есть еще нейросеть TabNet, которая заточена для работы с табличными данными:\n",
    "+  https://habr.com/ru/post/540736/    \n",
    "+  https://www.kaggle.com/code/carlmcbrideellis/tabnet-a-very-simple-regression-example/notebook\n",
    "\n",
    "</div>"
   ]
  },
  {
   "cell_type": "markdown",
   "metadata": {},
   "source": [
    "<font color='blue'><b>Итоговый комментарий ревьюера</b></font>\n",
    "<div class=\"alert alert-success\">\n",
    "<b>Комментарий ревьюера ✔️:</b>Владислав, получился хороший проект! \n",
    "    \n",
    "Если есть какие либо вопросы я с удовольствием на них отвечу:) <br> Исправь, пожалуйста, замечания и жду проект на следующую проверку:) </div>\n"
   ]
  }
 ],
 "metadata": {
  "ExecuteTimeLog": [
   {
    "duration": 2387,
    "start_time": "2023-01-13T16:39:01.317Z"
   },
   {
    "duration": 4,
    "start_time": "2023-01-13T16:39:03.706Z"
   },
   {
    "duration": 9,
    "start_time": "2023-01-13T16:39:03.712Z"
   },
   {
    "duration": 93,
    "start_time": "2023-01-13T16:39:03.723Z"
   },
   {
    "duration": 11,
    "start_time": "2023-01-13T16:39:03.819Z"
   },
   {
    "duration": 5,
    "start_time": "2023-01-13T16:39:03.832Z"
   },
   {
    "duration": 11,
    "start_time": "2023-01-13T16:39:03.838Z"
   },
   {
    "duration": 6,
    "start_time": "2023-01-13T16:39:03.851Z"
   },
   {
    "duration": 6,
    "start_time": "2023-01-13T16:39:03.859Z"
   },
   {
    "duration": 169,
    "start_time": "2023-01-13T16:39:03.867Z"
   },
   {
    "duration": 131,
    "start_time": "2023-01-13T16:39:04.038Z"
   },
   {
    "duration": 157,
    "start_time": "2023-01-13T16:39:04.170Z"
   },
   {
    "duration": 126,
    "start_time": "2023-01-13T16:39:04.328Z"
   },
   {
    "duration": 5,
    "start_time": "2023-01-13T16:39:04.457Z"
   },
   {
    "duration": 7,
    "start_time": "2023-01-13T16:39:04.463Z"
   },
   {
    "duration": 7,
    "start_time": "2023-01-13T16:39:04.471Z"
   },
   {
    "duration": 7,
    "start_time": "2023-01-13T16:39:04.480Z"
   },
   {
    "duration": 6,
    "start_time": "2023-01-13T16:39:04.488Z"
   },
   {
    "duration": 5,
    "start_time": "2023-01-13T16:39:04.495Z"
   },
   {
    "duration": 20,
    "start_time": "2023-01-13T16:39:04.501Z"
   },
   {
    "duration": 7,
    "start_time": "2023-01-13T16:39:04.522Z"
   },
   {
    "duration": 6,
    "start_time": "2023-01-13T16:39:04.530Z"
   },
   {
    "duration": 21,
    "start_time": "2023-01-13T16:39:04.538Z"
   },
   {
    "duration": 19,
    "start_time": "2023-01-13T16:39:04.561Z"
   },
   {
    "duration": 13,
    "start_time": "2023-01-13T16:39:04.581Z"
   },
   {
    "duration": 13,
    "start_time": "2023-01-13T16:39:04.596Z"
   },
   {
    "duration": 5,
    "start_time": "2023-01-13T16:39:04.611Z"
   },
   {
    "duration": 128,
    "start_time": "2023-01-13T16:39:26.884Z"
   },
   {
    "duration": 4,
    "start_time": "2023-01-13T16:39:30.307Z"
   },
   {
    "duration": 2341,
    "start_time": "2023-01-13T16:48:08.838Z"
   },
   {
    "duration": 5,
    "start_time": "2023-01-13T16:48:11.181Z"
   },
   {
    "duration": 10,
    "start_time": "2023-01-13T16:48:11.188Z"
   },
   {
    "duration": 60,
    "start_time": "2023-01-13T16:48:11.200Z"
   },
   {
    "duration": 12,
    "start_time": "2023-01-13T16:48:11.262Z"
   },
   {
    "duration": 8,
    "start_time": "2023-01-13T16:48:11.276Z"
   },
   {
    "duration": 10,
    "start_time": "2023-01-13T16:48:11.286Z"
   },
   {
    "duration": 13,
    "start_time": "2023-01-13T16:48:11.298Z"
   },
   {
    "duration": 7,
    "start_time": "2023-01-13T16:48:11.313Z"
   },
   {
    "duration": 169,
    "start_time": "2023-01-13T16:48:11.322Z"
   },
   {
    "duration": 174,
    "start_time": "2023-01-13T16:48:11.493Z"
   },
   {
    "duration": 166,
    "start_time": "2023-01-13T16:48:11.669Z"
   },
   {
    "duration": 123,
    "start_time": "2023-01-13T16:48:11.837Z"
   },
   {
    "duration": 5,
    "start_time": "2023-01-13T16:48:11.963Z"
   },
   {
    "duration": 7,
    "start_time": "2023-01-13T16:48:11.970Z"
   },
   {
    "duration": 13,
    "start_time": "2023-01-13T16:48:11.978Z"
   },
   {
    "duration": 7,
    "start_time": "2023-01-13T16:48:11.992Z"
   },
   {
    "duration": 20,
    "start_time": "2023-01-13T16:48:12.001Z"
   },
   {
    "duration": 7,
    "start_time": "2023-01-13T16:48:12.023Z"
   },
   {
    "duration": 7,
    "start_time": "2023-01-13T16:48:12.032Z"
   },
   {
    "duration": 15,
    "start_time": "2023-01-13T16:48:12.041Z"
   },
   {
    "duration": 16,
    "start_time": "2023-01-13T16:48:12.057Z"
   },
   {
    "duration": 5,
    "start_time": "2023-01-13T16:48:12.074Z"
   },
   {
    "duration": 7,
    "start_time": "2023-01-13T16:48:12.080Z"
   },
   {
    "duration": 14,
    "start_time": "2023-01-13T16:48:12.088Z"
   },
   {
    "duration": 10,
    "start_time": "2023-01-13T16:48:12.103Z"
   },
   {
    "duration": 8,
    "start_time": "2023-01-13T16:48:12.115Z"
   },
   {
    "duration": 9,
    "start_time": "2023-01-13T16:48:12.125Z"
   },
   {
    "duration": 6,
    "start_time": "2023-01-13T16:48:12.135Z"
   },
   {
    "duration": 6,
    "start_time": "2023-01-13T16:48:12.143Z"
   },
   {
    "duration": 7,
    "start_time": "2023-01-13T16:48:12.150Z"
   },
   {
    "duration": 8,
    "start_time": "2023-01-13T16:48:12.158Z"
   },
   {
    "duration": 11,
    "start_time": "2023-01-13T16:48:12.167Z"
   },
   {
    "duration": 7,
    "start_time": "2023-01-13T16:48:12.179Z"
   },
   {
    "duration": 6,
    "start_time": "2023-01-13T16:48:12.187Z"
   },
   {
    "duration": 8,
    "start_time": "2023-01-13T16:48:12.195Z"
   },
   {
    "duration": 3,
    "start_time": "2023-01-13T16:48:12.205Z"
   },
   {
    "duration": 89,
    "start_time": "2023-01-13T16:53:03.910Z"
   },
   {
    "duration": 98865,
    "start_time": "2023-01-13T16:53:09.475Z"
   },
   {
    "duration": 5,
    "start_time": "2023-01-13T16:58:08.989Z"
   },
   {
    "duration": 6,
    "start_time": "2023-01-13T16:58:09.135Z"
   }
  ],
  "kernelspec": {
   "display_name": "Python 3 (ipykernel)",
   "language": "python",
   "name": "python3"
  },
  "language_info": {
   "codemirror_mode": {
    "name": "ipython",
    "version": 3
   },
   "file_extension": ".py",
   "mimetype": "text/x-python",
   "name": "python",
   "nbconvert_exporter": "python",
   "pygments_lexer": "ipython3",
   "version": "3.9.5"
  },
  "toc": {
   "base_numbering": 1,
   "nav_menu": {},
   "number_sections": true,
   "sideBar": true,
   "skip_h1_title": true,
   "title_cell": "Table of Contents",
   "title_sidebar": "Contents",
   "toc_cell": false,
   "toc_position": {},
   "toc_section_display": true,
   "toc_window_display": false
  },
  "vscode": {
   "interpreter": {
    "hash": "57e8639cf709c9082d6d8a18ac27d0d8377b746a1c503c3159938682fc8871e3"
   }
  }
 },
 "nbformat": 4,
 "nbformat_minor": 2
}
