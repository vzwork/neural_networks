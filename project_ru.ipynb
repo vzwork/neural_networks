{
 "cells": [
  {
   "attachments": {},
   "cell_type": "markdown",
   "metadata": {},
   "source": [
    "# Содержание\n",
    "- Содержание\n",
    "- Постановка задачи\n",
    "- Выгрузка данных\n",
    "- Анализ данных\n",
    "- Подготовка данных\n",
    "- Построение нейронной сети\n",
    "- Улучшение сети\n",
    "- Выводы"
   ]
  },
  {
   "attachments": {},
   "cell_type": "markdown",
   "metadata": {},
   "source": [
    "# Постановка задачи"
   ]
  },
  {
   "attachments": {},
   "cell_type": "markdown",
   "metadata": {},
   "source": [
    "На основе данных характеристик 240 звезд нужно построить нейронную сеть, которая будет предсказывать температуру на поверхности новых звезд.\n",
    "<br/><br/>\n",
    "Количественные показатели:\n",
    "- Относительная светимость (L/Lo) - относительно Солнца\n",
    "- Относительный радиус (R/Ro) - относительно Солнца\n",
    "- Абсолютная звездная величина (Mv) - физическая величина\n",
    "<br/><br/>\n",
    "\n",
    "Качественные показатели:\n",
    "- Звездный цвет - ('white', 'red', 'blue', 'yellow', 'yellow-orange', etc)\n",
    "- Тип звезды - (0, 1, 2, 3, 4, 5)\n",
    "  - 0 - Коричневый карлик\n",
    "  - 1 - Красный карлик\n",
    "  - 2 - Белый карлик\n",
    "  - 3 - Звезды главной последовательности\n",
    "  - 4 - Сверхгигант\n",
    "  - 5 - Гипергигант\n",
    "<br/><br/>\n",
    "\n",
    "Количественный результат:\n",
    "- Абсолютная температура (T(K)) - температура на поверхности звезды в Кельвинах\n",
    "<br/><br/>\n",
    "\n",
    "Предварительный анализ:\n",
    "- Результат количественный - на выходе можно ожидать алгоритм регрессии\n",
    "- Функция потерь - MSE / MAE\n",
    "- С количеством скрытых слоев придется экспериментировать\n",
    "  - Много показателей (измерений), скорее всего 3-5 скрытых слоев будет лучше работать"
   ]
  },
  {
   "attachments": {},
   "cell_type": "markdown",
   "metadata": {},
   "source": [
    "# Выгрузка данных"
   ]
  },
  {
   "cell_type": "code",
   "execution_count": 1,
   "metadata": {},
   "outputs": [],
   "source": [
    "import pandas as pd\n",
    "import numpy as np\n",
    "import matplotlib.pyplot as plt\n",
    "import seaborn as sns\n",
    "import torch\n",
    "import torch.nn as nn\n",
    "import os\n",
    "import random\n",
    "import time\n",
    "import math\n",
    "\n",
    "from sklearn.model_selection import train_test_split\n",
    "from sklearn.preprocessing import StandardScaler\n",
    "from sklearn.preprocessing import OneHotEncoder"
   ]
  },
  {
   "cell_type": "code",
   "execution_count": 2,
   "outputs": [],
   "source": [
    "random.seed(0)\n",
    "np.random.seed(0)\n",
    "torch.manual_seed(0)\n",
    "torch.use_deterministic_algorithms(True)"
   ],
   "metadata": {
    "collapsed": false
   }
  },
  {
   "cell_type": "code",
   "execution_count": 3,
   "outputs": [],
   "source": [
    "LOCAL_PATH = './datasets/6_class.csv'\n",
    "WEB_PATH = '/datasets/6_class.csv'\n",
    "\n",
    "RANDOM_STATE = 2023"
   ],
   "metadata": {
    "collapsed": false
   }
  },
  {
   "cell_type": "code",
   "execution_count": 4,
   "outputs": [],
   "source": [
    "if os.path.exists(LOCAL_PATH):\n",
    "    df = pd.read_csv(LOCAL_PATH, index_col=0)\n",
    "elif os.path.exists(WEB_PATH):\n",
    "    df = pd.read_csv(WEB_PATH, index_col=0)"
   ],
   "metadata": {
    "collapsed": false
   }
  },
  {
   "attachments": {},
   "cell_type": "markdown",
   "metadata": {},
   "source": [
    "# Анализ данных"
   ]
  },
  {
   "cell_type": "code",
   "execution_count": 5,
   "outputs": [
    {
     "name": "stdout",
     "output_type": "stream",
     "text": [
      "<class 'pandas.core.frame.DataFrame'>\n",
      "Int64Index: 240 entries, 0 to 239\n",
      "Data columns (total 6 columns):\n",
      " #   Column                  Non-Null Count  Dtype  \n",
      "---  ------                  --------------  -----  \n",
      " 0   Temperature (K)         240 non-null    int64  \n",
      " 1   Luminosity(L/Lo)        240 non-null    float64\n",
      " 2   Radius(R/Ro)            240 non-null    float64\n",
      " 3   Absolute magnitude(Mv)  240 non-null    float64\n",
      " 4   Star type               240 non-null    int64  \n",
      " 5   Star color              240 non-null    object \n",
      "dtypes: float64(3), int64(2), object(1)\n",
      "memory usage: 13.1+ KB\n"
     ]
    }
   ],
   "source": [
    "df.info()"
   ],
   "metadata": {
    "collapsed": false
   }
  },
  {
   "cell_type": "markdown",
   "source": [
    "в данных нет пропусков"
   ],
   "metadata": {
    "collapsed": false
   }
  },
  {
   "cell_type": "markdown",
   "source": [
    "### Пореименнуем колонки, чтобы было легче их использовать"
   ],
   "metadata": {
    "collapsed": false
   }
  },
  {
   "cell_type": "code",
   "execution_count": 6,
   "outputs": [],
   "source": [
    "df = df.rename(columns={\n",
    "    'Temperature (K)': 'temp',\n",
    "    'Luminosity(L/Lo)': 'lumin',\n",
    "    'Radius(R/Ro)': 'radius',\n",
    "    'Absolute magnitude(Mv)': 'magnitude',\n",
    "    'Star type': 'type',\n",
    "    'Star color': 'color'\n",
    "})"
   ],
   "metadata": {
    "collapsed": false
   }
  },
  {
   "cell_type": "code",
   "execution_count": 7,
   "outputs": [
    {
     "data": {
      "text/plain": "Index(['temp', 'lumin', 'radius', 'magnitude', 'type', 'color'], dtype='object')"
     },
     "execution_count": 7,
     "metadata": {},
     "output_type": "execute_result"
    }
   ],
   "source": [
    "df.columns"
   ],
   "metadata": {
    "collapsed": false
   }
  },
  {
   "cell_type": "markdown",
   "source": [
    "### Проверим категориальные данные"
   ],
   "metadata": {
    "collapsed": false
   }
  },
  {
   "cell_type": "code",
   "execution_count": 8,
   "outputs": [
    {
     "data": {
      "text/plain": "0    40\n1    40\n2    40\n3    40\n4    40\n5    40\nName: type, dtype: int64"
     },
     "execution_count": 8,
     "metadata": {},
     "output_type": "execute_result"
    }
   ],
   "source": [
    "pd.value_counts(df.type)"
   ],
   "metadata": {
    "collapsed": false
   }
  },
  {
   "cell_type": "markdown",
   "source": [
    "данные распределенны нормально"
   ],
   "metadata": {
    "collapsed": false
   }
  },
  {
   "cell_type": "code",
   "execution_count": 9,
   "outputs": [
    {
     "data": {
      "text/plain": "Red                   112\nBlue                   55\nBlue-white             26\nBlue White             10\nyellow-white            8\nWhite                   7\nBlue white              3\nYellowish White         3\nwhite                   3\nWhitish                 2\nOrange                  2\nyellowish               2\nPale yellow orange      1\nWhite-Yellow            1\nBlue                    1\nYellowish               1\nOrange-Red              1\nBlue white              1\nBlue-White              1\nName: color, dtype: int64"
     },
     "execution_count": 9,
     "metadata": {},
     "output_type": "execute_result"
    }
   ],
   "source": [
    "pd.value_counts(df.color)"
   ],
   "metadata": {
    "collapsed": false
   }
  },
  {
   "cell_type": "markdown",
   "source": [
    "нужно будет устранить неявные ошибки"
   ],
   "metadata": {
    "collapsed": false
   }
  },
  {
   "cell_type": "markdown",
   "source": [
    "### Проверка количественных данных"
   ],
   "metadata": {
    "collapsed": false
   }
  },
  {
   "cell_type": "code",
   "execution_count": 10,
   "outputs": [
    {
     "data": {
      "text/plain": "<AxesSubplot:>"
     },
     "execution_count": 10,
     "metadata": {},
     "output_type": "execute_result"
    },
    {
     "data": {
      "text/plain": "<Figure size 432x288 with 1 Axes>",
      "image/png": "[encoded data removed]"
     },
     "metadata": {},
     "output_type": "display_data"
    }
   ],
   "source": [
    "df.temp.hist()"
   ],
   "metadata": {
    "collapsed": false
   }
  },
  {
   "cell_type": "markdown",
   "source": [
    "Данные выглядят хорошо, нет выбросов (target feature)"
   ],
   "metadata": {
    "collapsed": false
   }
  },
  {
   "cell_type": "code",
   "execution_count": 11,
   "outputs": [
    {
     "data": {
      "text/plain": "<AxesSubplot:>"
     },
     "execution_count": 11,
     "metadata": {},
     "output_type": "execute_result"
    },
    {
     "data": {
      "text/plain": "<Figure size 432x288 with 1 Axes>",
      "image/png": "[encoded data removed]"
     },
     "metadata": {},
     "output_type": "display_data"
    }
   ],
   "source": [
    "df.lumin.hist()"
   ],
   "metadata": {
    "collapsed": false
   }
  },
  {
   "cell_type": "markdown",
   "source": [
    "Данные выглядят хорошо, нет выбросов"
   ],
   "metadata": {
    "collapsed": false
   }
  },
  {
   "cell_type": "code",
   "execution_count": 12,
   "outputs": [
    {
     "data": {
      "text/plain": "<AxesSubplot:>"
     },
     "execution_count": 12,
     "metadata": {},
     "output_type": "execute_result"
    },
    {
     "data": {
      "text/plain": "<Figure size 432x288 with 1 Axes>",
      "image/png": "[encoded data removed]"
     },
     "metadata": {},
     "output_type": "display_data"
    }
   ],
   "source": [
    "df.radius.hist()"
   ],
   "metadata": {
    "collapsed": false
   }
  },
  {
   "cell_type": "markdown",
   "source": [
    "Есть разрыв между данными, но это не похоже на выброс"
   ],
   "metadata": {
    "collapsed": false
   }
  },
  {
   "cell_type": "code",
   "execution_count": 13,
   "outputs": [
    {
     "data": {
      "text/plain": "<AxesSubplot:>"
     },
     "execution_count": 13,
     "metadata": {},
     "output_type": "execute_result"
    },
    {
     "data": {
      "text/plain": "<Figure size 432x288 with 1 Axes>",
      "image/png": "[encoded data removed]"
     },
     "metadata": {},
     "output_type": "display_data"
    }
   ],
   "source": [
    "df.magnitude.hist()"
   ],
   "metadata": {
    "collapsed": false
   }
  },
  {
   "cell_type": "markdown",
   "source": [
    "Данные разбросанные, но это не похоже на выброс"
   ],
   "metadata": {
    "collapsed": false
   }
  },
  {
   "attachments": {},
   "cell_type": "markdown",
   "metadata": {},
   "source": [
    "# Подготовка данных"
   ]
  },
  {
   "cell_type": "code",
   "execution_count": 14,
   "outputs": [
    {
     "data": {
      "text/plain": "Red                   112\nBlue                   55\nBlue-white             26\nBlue White             10\nyellow-white            8\nWhite                   7\nBlue white              3\nYellowish White         3\nwhite                   3\nWhitish                 2\nOrange                  2\nyellowish               2\nPale yellow orange      1\nWhite-Yellow            1\nBlue                    1\nYellowish               1\nOrange-Red              1\nBlue white              1\nBlue-White              1\nName: color, dtype: int64"
     },
     "execution_count": 14,
     "metadata": {},
     "output_type": "execute_result"
    }
   ],
   "source": [
    "pd.value_counts(df.color)"
   ],
   "metadata": {
    "collapsed": false
   }
  },
  {
   "cell_type": "code",
   "execution_count": 15,
   "outputs": [],
   "source": [
    "df.color = df.color.replace({\n",
    "    'Blue-white': 'Blue White',\n",
    "    'Blue white': 'Blue White',\n",
    "    'Blue white ': 'Blue White',\n",
    "    'Blue-White': 'Blue White',\n",
    "    'yellow-white': 'Yellow',\n",
    "    'Yellowish White': 'Yellow',\n",
    "    'White-Yellow': 'Yellow',\n",
    "    'yellowish': 'Yellow',\n",
    "    'Yellowish': 'Yellow',\n",
    "    'Yellow White': 'Yellow',\n",
    "    'white': 'White',\n",
    "    'whitish': 'White',\n",
    "    'Whitish': 'White',\n",
    "    'Pale yellow orange': 'Orange',\n",
    "    'Blue ': 'Blue',\n",
    "    'Orange-Red': 'Orange'\n",
    "})"
   ],
   "metadata": {
    "collapsed": false
   }
  },
  {
   "cell_type": "code",
   "execution_count": 16,
   "outputs": [
    {
     "data": {
      "text/plain": "Red           112\nBlue           56\nBlue White     41\nYellow         15\nWhite          12\nOrange          4\nName: color, dtype: int64"
     },
     "execution_count": 16,
     "metadata": {},
     "output_type": "execute_result"
    }
   ],
   "source": [
    "pd.value_counts(df.color)"
   ],
   "metadata": {
    "collapsed": false
   }
  },
  {
   "cell_type": "code",
   "execution_count": 17,
   "outputs": [],
   "source": [
    "X_train, X_test, y_train, y_test = train_test_split(df.drop('temp', axis=1), df.temp, test_size=0.1, random_state=RANDOM_STATE)"
   ],
   "metadata": {
    "collapsed": false
   }
  },
  {
   "cell_type": "code",
   "execution_count": 18,
   "outputs": [],
   "source": [
    "X_train_num = X_train.drop(['color', 'type'], axis=1)\n",
    "X_test_num = X_test.drop(['color', 'type'], axis=1)"
   ],
   "metadata": {
    "collapsed": false
   }
  },
  {
   "cell_type": "code",
   "execution_count": 19,
   "outputs": [],
   "source": [
    "columns_num = X_train_num.columns"
   ],
   "metadata": {
    "collapsed": false
   }
  },
  {
   "cell_type": "code",
   "execution_count": 20,
   "outputs": [],
   "source": [
    "scaler = StandardScaler()"
   ],
   "metadata": {
    "collapsed": false
   }
  },
  {
   "cell_type": "code",
   "execution_count": 21,
   "outputs": [
    {
     "data": {
      "text/plain": "StandardScaler()"
     },
     "execution_count": 21,
     "metadata": {},
     "output_type": "execute_result"
    }
   ],
   "source": [
    "scaler.fit(X_train_num)"
   ],
   "metadata": {
    "collapsed": false
   }
  },
  {
   "cell_type": "code",
   "execution_count": 22,
   "outputs": [],
   "source": [
    "X_train_num = scaler.transform(X_train_num)\n",
    "X_test_num = scaler.transform(X_test_num)"
   ],
   "metadata": {
    "collapsed": false
   }
  },
  {
   "cell_type": "code",
   "execution_count": 23,
   "outputs": [],
   "source": [
    "X_train_num = pd.DataFrame(X_train_num, columns=columns_num)\n",
    "X_test_num = pd.DataFrame(X_test_num, columns=columns_num)"
   ],
   "metadata": {
    "collapsed": false
   }
  },
  {
   "cell_type": "code",
   "execution_count": 24,
   "outputs": [],
   "source": [
    "X_train_cat = X_train[['color', 'type']]\n",
    "X_test_cat = X_test[['color', 'type']]"
   ],
   "metadata": {
    "collapsed": false
   }
  },
  {
   "cell_type": "code",
   "execution_count": 25,
   "outputs": [],
   "source": [
    "ohe = OneHotEncoder(handle_unknown='ignore')"
   ],
   "metadata": {
    "collapsed": false
   }
  },
  {
   "cell_type": "code",
   "execution_count": 26,
   "outputs": [
    {
     "data": {
      "text/plain": "OneHotEncoder(handle_unknown='ignore')"
     },
     "execution_count": 26,
     "metadata": {},
     "output_type": "execute_result"
    }
   ],
   "source": [
    "ohe.fit(X_train_cat)"
   ],
   "metadata": {
    "collapsed": false
   }
  },
  {
   "cell_type": "code",
   "execution_count": 27,
   "outputs": [],
   "source": [
    "X_train_cat = ohe.transform(X_train_cat).toarray()\n",
    "X_test_cat = ohe.transform(X_test_cat).toarray()"
   ],
   "metadata": {
    "collapsed": false
   }
  },
  {
   "cell_type": "code",
   "execution_count": 28,
   "outputs": [],
   "source": [
    "columns_cat = ohe.categories_[0].tolist()\n",
    "columns_cat.extend(ohe.categories_[1].tolist())"
   ],
   "metadata": {
    "collapsed": false
   }
  },
  {
   "cell_type": "code",
   "execution_count": 29,
   "outputs": [
    {
     "data": {
      "text/plain": "['Blue', 'Blue White', 'Orange', 'Red', 'White', 'Yellow', 0, 1, 2, 3, 4, 5]"
     },
     "execution_count": 29,
     "metadata": {},
     "output_type": "execute_result"
    }
   ],
   "source": [
    "columns_cat"
   ],
   "metadata": {
    "collapsed": false
   }
  },
  {
   "cell_type": "code",
   "execution_count": 30,
   "outputs": [],
   "source": [
    "X_train_cat = pd.DataFrame(data=X_train_cat, columns=columns_cat)\n",
    "X_test_cat = pd.DataFrame(data=X_test_cat, columns=columns_cat)"
   ],
   "metadata": {
    "collapsed": false
   }
  },
  {
   "cell_type": "code",
   "execution_count": 31,
   "outputs": [],
   "source": [
    "X_train = X_train_num.join(X_train_cat)\n",
    "X_test = X_test_num.join(X_test_cat)"
   ],
   "metadata": {
    "collapsed": false
   }
  },
  {
   "cell_type": "code",
   "execution_count": 32,
   "outputs": [],
   "source": [
    "X_train_t = torch.FloatTensor(X_train.values)\n",
    "X_test_t = torch.FloatTensor(X_test.values)\n",
    "y_train_t = torch.FloatTensor(y_train.values)\n",
    "y_test_t = torch.FloatTensor(y_test.values)"
   ],
   "metadata": {
    "collapsed": false
   }
  },
  {
   "attachments": {},
   "cell_type": "markdown",
   "metadata": {},
   "source": [
    "# Построение нейронной сети\n",
    "- линейная сеть\n",
    "- линейная сеть с 5 слоями\n",
    "- линейная сеть с функцией активации"
   ]
  },
  {
   "cell_type": "code",
   "execution_count": 33,
   "outputs": [],
   "source": [
    "learning_rate = 0.001"
   ],
   "metadata": {
    "collapsed": false
   }
  },
  {
   "cell_type": "code",
   "execution_count": 34,
   "outputs": [],
   "source": [
    "class NetSimpleSingle(nn.Module):\n",
    "    def __init__(self, n_in_neurons, n_hidden_neurons, n_out_neurons):\n",
    "        super(NetSimpleSingle, self).__init__()\n",
    "        self.fc1 = nn.Linear(n_in_neurons, n_hidden_neurons)\n",
    "        self.fc2 = nn.Linear(n_hidden_neurons, n_out_neurons)\n",
    "    def forward(self, x):\n",
    "        x = self.fc1(x)\n",
    "        x = self.fc2(x)\n",
    "        return x"
   ],
   "metadata": {
    "collapsed": false
   }
  },
  {
   "cell_type": "code",
   "execution_count": 35,
   "outputs": [],
   "source": [
    "net_simple_single = NetSimpleSingle(15, 15, 1)\n",
    "optimizer = torch.optim.Adam(net_simple_single.parameters(), lr=learning_rate)\n",
    "n_epochs = 30000\n",
    "loss = nn.MSELoss()"
   ],
   "metadata": {
    "collapsed": false
   }
  },
  {
   "cell_type": "code",
   "execution_count": 36,
   "outputs": [],
   "source": [
    "net_simple_single_mse_train = []\n",
    "net_simple_single_mse_test = []"
   ],
   "metadata": {
    "collapsed": false
   }
  },
  {
   "cell_type": "code",
   "execution_count": 37,
   "outputs": [],
   "source": [
    "for epoch in range(n_epochs):\n",
    "    optimizer.zero_grad()\n",
    "    z_train_t = net_simple_single.forward(X_train_t).flatten()\n",
    "    mse_value_train = loss(z_train_t, y_train_t)\n",
    "    mse_value_train.backward()\n",
    "    optimizer.step()\n",
    "\n",
    "    if epoch % 10 == 0 or epoch == n_epochs - 1:\n",
    "        net_simple_single.eval()\n",
    "        z_test_t = net_simple_single.forward(X_test_t).flatten()\n",
    "        mse_value_test = loss(z_test_t, y_test_t)\n",
    "\n",
    "        net_simple_single_mse_train.append(mse_value_train.item())\n",
    "        net_simple_single_mse_test.append(mse_value_test.item())"
   ],
   "metadata": {
    "collapsed": false
   }
  },
  {
   "cell_type": "code",
   "execution_count": 38,
   "outputs": [
    {
     "data": {
      "text/plain": "<Figure size 432x288 with 1 Axes>",
      "image/png": "[encoded data removed]"
     },
     "metadata": {},
     "output_type": "display_data"
    }
   ],
   "source": [
    "net_simple_single_mse_x = np.arange(len(net_simple_single_mse_test))\n",
    "plt.plot(net_simple_single_mse_x, net_simple_single_mse_train, color='green')\n",
    "plt.plot(net_simple_single_mse_x, net_simple_single_mse_test, color='red')\n",
    "plt.show()"
   ],
   "metadata": {
    "collapsed": false
   }
  },
  {
   "cell_type": "markdown",
   "source": [
    "- ошибка высока\n",
    "- остановить обучение надо было бы около 23000 epochs"
   ],
   "metadata": {
    "collapsed": false
   }
  },
  {
   "cell_type": "code",
   "execution_count": 38,
   "outputs": [],
   "source": [],
   "metadata": {
    "collapsed": false
   }
  },
  {
   "cell_type": "code",
   "execution_count": 38,
   "outputs": [],
   "source": [],
   "metadata": {
    "collapsed": false
   }
  },
  {
   "cell_type": "code",
   "execution_count": 39,
   "outputs": [],
   "source": [
    "net_simple_setup = []\n",
    "n_hidden_layers = 5\n",
    "for i in range(n_hidden_layers):\n",
    "    net_simple_setup.append(nn.Linear(15, 15))\n",
    "net_simple_setup.append(nn.Linear(15, 1)) # layer out"
   ],
   "metadata": {
    "collapsed": false
   }
  },
  {
   "cell_type": "code",
   "execution_count": 40,
   "outputs": [],
   "source": [
    "net_simple_five = nn.Sequential(*net_simple_setup)\n",
    "n_epochs = 1000\n",
    "optimizer = torch.optim.Adam(net_simple_five.parameters(), lr=learning_rate)\n",
    "loss = nn.MSELoss()"
   ],
   "metadata": {
    "collapsed": false
   }
  },
  {
   "cell_type": "code",
   "execution_count": 41,
   "outputs": [],
   "source": [
    "net_simple_five_mse_train = []\n",
    "net_simple_five_mse_test = []"
   ],
   "metadata": {
    "collapsed": false
   }
  },
  {
   "cell_type": "code",
   "execution_count": 42,
   "outputs": [],
   "source": [
    "for epoch in range(n_epochs):\n",
    "    optimizer.zero_grad()\n",
    "    z_train_t = net_simple_five.forward(X_train_t).flatten()\n",
    "    mse_value_train = loss(z_train_t, y_train_t)\n",
    "    mse_value_train.backward()\n",
    "    optimizer.step()\n",
    "\n",
    "    if epoch % 10 == 0 or epoch == n_epochs - 1:\n",
    "        net_simple_five.eval()\n",
    "        z_test_t = net_simple_five.forward(X_test_t).flatten()\n",
    "        mse_value_test = loss(z_test_t, y_test_t)\n",
    "        mse_value_test.backward()\n",
    "\n",
    "        net_simple_five_mse_train.append(mse_value_train.item())\n",
    "        net_simple_five_mse_test.append(mse_value_test.item())"
   ],
   "metadata": {
    "collapsed": false
   }
  },
  {
   "cell_type": "code",
   "execution_count": 43,
   "outputs": [
    {
     "data": {
      "text/plain": "<Figure size 432x288 with 1 Axes>",
      "image/png": "[encoded data removed]"
     },
     "metadata": {},
     "output_type": "display_data"
    }
   ],
   "source": [
    "net_simple_five_mse_x = np.arange(len(net_simple_five_mse_test))\n",
    "plt.plot(net_simple_five_mse_x, net_simple_five_mse_train, color='green')\n",
    "plt.plot(net_simple_five_mse_x, net_simple_five_mse_test, color='red')\n",
    "plt.show()"
   ],
   "metadata": {
    "collapsed": false
   }
  },
  {
   "cell_type": "markdown",
   "source": [
    "- ошибка не улучшилась, но благодаря слоям модель обучается быстрее"
   ],
   "metadata": {
    "collapsed": false
   }
  },
  {
   "cell_type": "code",
   "execution_count": 43,
   "outputs": [],
   "source": [],
   "metadata": {
    "collapsed": false
   }
  },
  {
   "cell_type": "code",
   "execution_count": 43,
   "outputs": [],
   "source": [],
   "metadata": {
    "collapsed": false
   }
  },
  {
   "cell_type": "code",
   "execution_count": 44,
   "outputs": [],
   "source": [
    "net_swish_setup = []\n",
    "n_hidden_layers = 20\n",
    "for i in range(n_hidden_layers):\n",
    "    net_swish_setup.append(nn.Linear(15, 15))\n",
    "    net_swish_setup.append(nn.Hardswish())\n",
    "net_swish_setup.append(nn.Linear(15, 1)) # layer out"
   ],
   "metadata": {
    "collapsed": false
   }
  },
  {
   "cell_type": "code",
   "execution_count": 45,
   "outputs": [],
   "source": [
    "net_swish = nn.Sequential(*net_swish_setup)\n",
    "n_epochs = 1000\n",
    "optimizer = torch.optim.Adam(net_swish.parameters(), lr=learning_rate)\n",
    "loss = nn.MSELoss()"
   ],
   "metadata": {
    "collapsed": false
   }
  },
  {
   "cell_type": "code",
   "execution_count": 46,
   "outputs": [],
   "source": [
    "net_swish_mse_train = []\n",
    "net_swish_mse_test = []"
   ],
   "metadata": {
    "collapsed": false
   }
  },
  {
   "cell_type": "code",
   "execution_count": 47,
   "outputs": [],
   "source": [
    "for epoch in range(n_epochs):\n",
    "    optimizer.zero_grad()\n",
    "    z_train_t = net_swish.forward(X_train_t).flatten()\n",
    "    mse_value_train = loss(z_train_t, y_train_t)\n",
    "    mse_value_train.backward()\n",
    "    optimizer.step()\n",
    "\n",
    "    if epoch % 5 == 0 or epoch == n_epochs - 1:\n",
    "        net_swish.eval()\n",
    "        z_test_t = net_swish.forward(X_test_t).flatten()\n",
    "        mse_value_test = loss(z_test_t, y_test_t)\n",
    "\n",
    "        net_swish_mse_train.append(mse_value_train.item())\n",
    "        net_swish_mse_test.append(mse_value_test.item())"
   ],
   "metadata": {
    "collapsed": false
   }
  },
  {
   "cell_type": "code",
   "execution_count": 48,
   "outputs": [
    {
     "data": {
      "text/plain": "<Figure size 432x288 with 1 Axes>",
      "image/png": "[encoded data removed]"
     },
     "metadata": {},
     "output_type": "display_data"
    }
   ],
   "source": [
    "net_swish_mse_x = np.arange(len(net_swish_mse_train))\n",
    "plt.plot(net_swish_mse_x, net_swish_mse_train, color='green')\n",
    "plt.plot(net_swish_mse_x, net_swish_mse_test, color='red')\n",
    "plt.show()"
   ],
   "metadata": {
    "collapsed": false
   }
  },
  {
   "cell_type": "code",
   "execution_count": 49,
   "outputs": [
    {
     "data": {
      "text/plain": "<Figure size 432x288 with 1 Axes>",
      "image/png": "[encoded data removed]"
     },
     "metadata": {},
     "output_type": "display_data"
    }
   ],
   "source": [
    "x = np.arange(10)\n",
    "plt.bar(x, y_test_t.detach().numpy()[:10], width=0.5, alpha=0.8, color='red')\n",
    "plt.bar(x, z_test_t.detach().numpy()[:10], width=0.3, alpha=0.8, color='yellow')\n",
    "plt.show()"
   ],
   "metadata": {
    "collapsed": false
   }
  },
  {
   "cell_type": "code",
   "execution_count": 49,
   "outputs": [],
   "source": [],
   "metadata": {
    "collapsed": false
   }
  },
  {
   "cell_type": "code",
   "execution_count": 49,
   "outputs": [],
   "source": [],
   "metadata": {
    "collapsed": false
   }
  },
  {
   "attachments": {},
   "cell_type": "markdown",
   "metadata": {},
   "source": [
    "# Улучшение сети"
   ]
  },
  {
   "cell_type": "markdown",
   "source": [
    "- Dropout\n",
    "- Batch Normalization"
   ],
   "metadata": {
    "collapsed": false
   }
  },
  {
   "cell_type": "code",
   "execution_count": 50,
   "outputs": [],
   "source": [
    "net_b_norm_setup = []\n",
    "n_hidden_layers = 20\n",
    "for i in range(n_hidden_layers):\n",
    "    net_b_norm_setup.append(nn.Linear(15, 15))\n",
    "    net_b_norm_setup.append(nn.BatchNorm1d(15))\n",
    "    net_b_norm_setup.append(nn.Hardswish())\n",
    "net_b_norm_setup.append(nn.Linear(15, 1)) # layer out"
   ],
   "metadata": {
    "collapsed": false
   }
  },
  {
   "cell_type": "code",
   "execution_count": 51,
   "outputs": [],
   "source": [
    "net_b_norm = nn.Sequential(*net_b_norm_setup)\n",
    "n_epochs = 1200\n",
    "optimizer = torch.optim.Adam(net_b_norm.parameters(), lr=learning_rate)\n",
    "loss = nn.MSELoss()"
   ],
   "metadata": {
    "collapsed": false
   }
  },
  {
   "cell_type": "code",
   "execution_count": 52,
   "outputs": [],
   "source": [
    "net_b_norm_mse_train = []\n",
    "net_b_norm_mse_test = []"
   ],
   "metadata": {
    "collapsed": false
   }
  },
  {
   "cell_type": "code",
   "execution_count": 53,
   "outputs": [],
   "source": [
    "for epoch in range(n_epochs):\n",
    "    optimizer.zero_grad()\n",
    "    z_train_t = net_b_norm.forward(X_train_t).flatten()\n",
    "    mse_value_train = loss(z_train_t, y_train_t)\n",
    "    mse_value_train.backward()\n",
    "    optimizer.step()\n",
    "\n",
    "    rmse = torch.sqrt(torch.sum(torch.pow(y_test_t - z_test_t, 2))).item()\n",
    "    if rmse <= 4500:\n",
    "        print(rmse)\n",
    "        break\n",
    "\n",
    "    if epoch % 5 == 0 or epoch == n_epochs - 1:\n",
    "        net_b_norm.eval()\n",
    "        z_test_t = net_b_norm.forward(X_test_t).flatten()\n",
    "        mse_value_test = loss(z_test_t, y_test_t)\n",
    "\n",
    "        net_b_norm_mse_train.append(mse_value_train.item())\n",
    "        net_b_norm_mse_test.append(mse_value_test.item())"
   ],
   "metadata": {
    "collapsed": false
   }
  },
  {
   "cell_type": "code",
   "execution_count": 54,
   "outputs": [
    {
     "data": {
      "text/plain": "<Figure size 432x288 with 1 Axes>",
      "image/png": "[encoded data removed]"
     },
     "metadata": {},
     "output_type": "display_data"
    }
   ],
   "source": [
    "net_b_norm_mse_x = np.arange(len(net_b_norm_mse_train))\n",
    "plt.plot(net_b_norm_mse_x, net_b_norm_mse_train, color='green')\n",
    "plt.plot(net_b_norm_mse_x, net_b_norm_mse_test, color='red')\n",
    "plt.show()"
   ],
   "metadata": {
    "collapsed": false
   }
  },
  {
   "cell_type": "code",
   "execution_count": 55,
   "outputs": [
    {
     "data": {
      "text/plain": "<Figure size 432x288 with 1 Axes>",
      "image/png": "[encoded data removed]"
     },
     "metadata": {},
     "output_type": "display_data"
    }
   ],
   "source": [
    "x = np.arange(10)\n",
    "plt.bar(x, y_test_t.detach().numpy()[:10], width=0.5, alpha=0.8, color='red')\n",
    "plt.bar(x, z_test_t.detach().numpy()[:10], width=0.3, alpha=0.8, color='yellow')\n",
    "plt.show()"
   ],
   "metadata": {
    "collapsed": false
   }
  },
  {
   "cell_type": "code",
   "execution_count": 55,
   "outputs": [],
   "source": [],
   "metadata": {
    "collapsed": false
   }
  },
  {
   "cell_type": "code",
   "execution_count": 55,
   "outputs": [],
   "source": [],
   "metadata": {
    "collapsed": false
   }
  },
  {
   "cell_type": "code",
   "execution_count": 56,
   "outputs": [],
   "source": [
    "net_drop_setup = []\n",
    "n_hidden_layers = 20\n",
    "for i in range(n_hidden_layers):\n",
    "    net_drop_setup.append(nn.Linear(15, 15))\n",
    "    net_drop_setup.append(nn.Dropout(p=0.5))\n",
    "    net_drop_setup.append(nn.Hardswish())\n",
    "net_drop_setup.append(nn.Linear(15, 1)) # layer out"
   ],
   "metadata": {
    "collapsed": false
   }
  },
  {
   "cell_type": "code",
   "execution_count": 57,
   "outputs": [],
   "source": [
    "net_drop = nn.Sequential(*net_drop_setup)\n",
    "n_epochs = 1400\n",
    "optimizer = torch.optim.Adam(net_drop.parameters(), lr=learning_rate)\n",
    "loss = nn.MSELoss()"
   ],
   "metadata": {
    "collapsed": false
   }
  },
  {
   "cell_type": "code",
   "execution_count": 58,
   "outputs": [],
   "source": [
    "net_drop_mse_train = []\n",
    "net_drop_mse_test = []"
   ],
   "metadata": {
    "collapsed": false
   }
  },
  {
   "cell_type": "code",
   "execution_count": 59,
   "outputs": [],
   "source": [
    "for epoch in range(n_epochs):\n",
    "    optimizer.zero_grad()\n",
    "    z_train_t = net_drop.forward(X_train_t).flatten()\n",
    "    mse_value_train = loss(z_train_t, y_train_t)\n",
    "    mse_value_train.backward()\n",
    "    optimizer.step()\n",
    "\n",
    "    rmse = torch.sqrt(torch.sum(torch.pow(y_test_t - z_test_t, 2))).item()\n",
    "    if rmse <= 4500:\n",
    "        print(rmse)\n",
    "        break\n",
    "\n",
    "    if epoch % 5 == 0 or epoch == n_epochs - 1:\n",
    "        net_drop.eval()\n",
    "        z_test_t = net_drop.forward(X_test_t).flatten()\n",
    "        mse_value_test = loss(z_test_t, y_test_t)\n",
    "\n",
    "        net_drop_mse_train.append(mse_value_train.item())\n",
    "        net_drop_mse_test.append(mse_value_test.item())"
   ],
   "metadata": {
    "collapsed": false
   }
  },
  {
   "cell_type": "code",
   "execution_count": 60,
   "outputs": [
    {
     "data": {
      "text/plain": "<Figure size 432x288 with 1 Axes>",
      "image/png": "[encoded data removed]"
     },
     "metadata": {},
     "output_type": "display_data"
    }
   ],
   "source": [
    "net_drop_mse_x = np.arange(len(net_drop_mse_train))\n",
    "plt.plot(net_drop_mse_x, net_drop_mse_train, color='green')\n",
    "plt.plot(net_drop_mse_x, net_drop_mse_test, color='red')\n",
    "plt.show()"
   ],
   "metadata": {
    "collapsed": false
   }
  },
  {
   "cell_type": "code",
   "execution_count": 61,
   "outputs": [
    {
     "data": {
      "text/plain": "<Figure size 432x288 with 1 Axes>",
      "image/png": "[encoded data removed]"
     },
     "metadata": {},
     "output_type": "display_data"
    }
   ],
   "source": [
    "x = np.arange(10)\n",
    "plt.bar(x, y_test_t.detach().numpy()[:10], width=0.5, alpha=0.8, color='red')\n",
    "plt.bar(x, z_test_t.detach().numpy()[:10], width=0.3, alpha=0.8, color='yellow')\n",
    "plt.show()"
   ],
   "metadata": {
    "collapsed": false
   }
  },
  {
   "cell_type": "code",
   "execution_count": 62,
   "outputs": [],
   "source": [
    "rmse = torch.sqrt(torch.sum(torch.pow(y_test_t - z_test_t, 2))).item()"
   ],
   "metadata": {
    "collapsed": false
   }
  },
  {
   "cell_type": "code",
   "execution_count": 63,
   "outputs": [
    {
     "name": "stdout",
     "output_type": "stream",
     "text": [
      "18378.369140625\n"
     ]
    }
   ],
   "source": [
    "print(rmse)"
   ],
   "metadata": {
    "collapsed": false
   }
  },
  {
   "attachments": {},
   "cell_type": "markdown",
   "metadata": {},
   "source": [
    "# Выводы"
   ]
  },
  {
   "cell_type": "markdown",
   "source": [
    "- У меня не получилось добиться результата, rmse 4500, мне нужен совет."
   ],
   "metadata": {
    "collapsed": false
   }
  },
  {
   "cell_type": "markdown",
   "metadata": {},
   "source": []
  }
 ],
 "metadata": {
  "kernelspec": {
   "display_name": "Python 3",
   "language": "python",
   "name": "python3"
  },
  "language_info": {
   "name": "python",
   "version": "3.11.0 (main, Nov  8 2022, 12:39:40) [Clang 14.0.0 (clang-1400.0.29.202)]"
  },
  "orig_nbformat": 4,
  "vscode": {
   "interpreter": {
    "hash": "57e8639cf709c9082d6d8a18ac27d0d8377b746a1c503c3159938682fc8871e3"
   }
  }
 },
 "nbformat": 4,
 "nbformat_minor": 2
}
